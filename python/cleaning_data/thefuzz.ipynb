{
 "cells": [
  {
   "attachments": {},
   "cell_type": "markdown",
   "metadata": {},
   "source": [
    "# thefuzz\n",
    "\n",
    "> [Main Table of Contents](../../README.md)"
   ]
  },
  {
   "attachments": {},
   "cell_type": "markdown",
   "metadata": {},
   "source": [
    "## In This Notebook\n",
    "- What is thefuzz\n",
    "- Use Cases\n",
    "\t- Example: How to use the fuzz similarity score to collapse a wide \\\n",
    "range of values into fewer category bins"
   ]
  },
  {
   "attachments": {},
   "cell_type": "markdown",
   "metadata": {},
   "source": [
    "## What is thefuzz\n",
    "- `thefuzz` uses Levenshtein Distance to calculate the differences between \\\n",
    "sequences\n",
    "- similarity score: 1-100 where 100 is exact match"
   ]
  },
  {
   "attachments": {},
   "cell_type": "markdown",
   "metadata": {},
   "source": [
    "## Use Cases\n",
    "- Too many values to collapse in a dataframe of type 'category' "
   ]
  },
  {
   "attachments": {},
   "cell_type": "markdown",
   "metadata": {},
   "source": [
    "### Example: Use the fuzz similarity score to collapse a wide range of values into fewer category bins\n",
    "\n",
    "```python\n",
    "# Import process from thefuzz\n",
    "import pandas as pd\n",
    "from thefuzz import process\n",
    "\n",
    "restaurants = pd.read_csv('./restaurants_L2_dirty.csv', header=0, names=['rest_name', 'rest_addr', 'city', 'phone', 'cuisine_type'])\n",
    "\n",
    "# Store the unique values of cuisine_type in unique_types\n",
    "unique_types = restaurants.cuisine_type.unique()\n",
    "# print(f'unique cuisine types pre-processing\\n{unique_types}')\n",
    "\n",
    "# Investigate by printing the next three lines of code to find the threshold\n",
    "# We find the threshold is 80\n",
    "# Calculate similarity of 'asian','american', etc to all values of unique_types\n",
    "process.extract('asian', unique_types, limit = len(unique_types))\n",
    "process.extract('american', unique_types, limit=len(unique_types))\n",
    "process.extract('italian', unique_types, limit=len(unique_types))\n",
    "\n",
    "\n",
    "# Iterate through categories\n",
    "categories = ['italian', 'asian', 'american']\n",
    "for cuisine in categories:  \n",
    "  # Create a list of matches, comparing cuisine with the cuisine_type column\n",
    "  matches = process.extract(cuisine, restaurants['cuisine_type'], limit=len(restaurants.cuisine_type))\n",
    "\n",
    "  # Iterate through the list of matches\n",
    "  for match in matches:\n",
    "     # Check whether the similarity score is greater than or equal to 80\n",
    "    if match[1] >= 80:\n",
    "      # If it is, select all rows where the cuisine_type is spelled this way, and set them to the correct cuisine\n",
    "      restaurants.loc[restaurants['cuisine_type'] == match[0]] = cuisine\n",
    "      \n",
    "# Inspect the final result\n",
    "print(f'unique cuisine types post-processeing\\n{restaurants[\"cuisine_type\"].unique()}')\n",
    "```\n"
   ]
  }
 ],
 "metadata": {
  "kernelspec": {
   "display_name": "Python 3",
   "language": "python",
   "name": "python3"
  },
  "language_info": {
   "codemirror_mode": {
    "name": "ipython",
    "version": 3
   },
   "file_extension": ".py",
   "mimetype": "text/x-python",
   "name": "python",
   "nbconvert_exporter": "python",
   "pygments_lexer": "ipython3",
   "version": "3.8.10 (default, Jun 22 2022, 20:18:18) \n[GCC 9.4.0]"
  },
  "orig_nbformat": 4,
  "vscode": {
   "interpreter": {
    "hash": "31f2aee4e71d21fbe5cf8b01ff0e069b9275f58929596ceb00d14d90e3e16cd6"
   }
  }
 },
 "nbformat": 4,
 "nbformat_minor": 2
}
