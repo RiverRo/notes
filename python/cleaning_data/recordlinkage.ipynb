{
 "cells": [
  {
   "attachments": {},
   "cell_type": "markdown",
   "metadata": {},
   "source": [
    "# recordlinkage\n",
    "`recordlinkage` is a powerup version of thefuzz.  It allows for not just the  \n",
    "Levenshtein distance similarity scores between two pd.df columns of strings but  \n",
    "other methods like ‘jaro’,’jarowinkler’, ‘damerau_levenshtein’, ‘qgram’ or   \n",
    "‘cosine’.  Handle other datatypes: e.g. compare between date columns, handle   \n",
    "numeric types with 'step', 'linear', 'exp', 'gauss' or 'squared' methods, and  \n",
    "find exact matches.\n",
    "\n",
    "> [Main Table of Contents](../../README.md)"
   ]
  },
  {
   "attachments": {},
   "cell_type": "markdown",
   "metadata": {},
   "source": [
    "## In This Notebook\n",
    "- Use Cases\n",
    "- The Flow"
   ]
  },
  {
   "attachments": {},
   "cell_type": "markdown",
   "metadata": {},
   "source": [
    "## Use Cases\n",
    "- Goal: Complex merge between 2+ dirty datasets\n",
    "\n",
    "Complex Merge Examples | \n",
    "--- |\n",
    "Collapsing a large range of values into a few categories and methods like `df.replace()` won't do | \n"
   ]
  },
  {
   "attachments": {},
   "cell_type": "markdown",
   "metadata": {},
   "source": [
    "## The Flow\n",
    "1. Clean and normalize to increase record linkage accuracy\n",
    "\t- `recordlinkage.preprocessing` has several methods that may be helpful\n",
    "2. Use `Indexing` module as prep step to generating pairs between two datasets.  \n",
    "There are several indexing algos: e.g. 'blocking', 'sorted  \n",
    "neighborhood indexing'.  \n",
    "3. Use `Compare` modue to set similarity measurement algorithms between two  \n",
    "pd.df columns, one from datasetA and one from datasetB\n",
    "\t- Comparison types: Exact, String, Numeric, Date, ...  \n",
    "4. `.compute()` the `Compare` object to get a pd.df with feature vectors aka  \n",
    "similarity score. This step generates pairs of records \n",
    "5. Use the scores to isolate matches, handle duplicates\n",
    "6. Combine the datasets"
   ]
  },
  {
   "attachments": {},
   "cell_type": "markdown",
   "metadata": {},
   "source": [
    "### Example of the flow\t\n",
    "```python\n",
    "# Create an indexer and object and find possible pairs\n",
    "indexer = recordlinkage.Index()\n",
    "\n",
    "# Block pairing on cuisine_type. Blocking is one type of indexing algo.\n",
    "indexer.block('cuisine_type')\n",
    "\n",
    "# Generate pairs\n",
    "pairs = indexer.index(restaurants, restaurants_new)\n",
    "\n",
    "# Create a comparison object\n",
    "comp_cl = recordlinkage.Compare()\n",
    "\n",
    "# Create a comparison object\n",
    "comp_cl = recordlinkage.Compare()\n",
    "\n",
    "# Find exact matches on city, cuisine_types \n",
    "comp_cl.exact('city', 'city', label='city')\n",
    "comp_cl.exact('cuisine_type', 'cuisine_type', label = 'cuisine_type')\n",
    "\n",
    "# Find similar matches of rest_name\n",
    "comp_cl.string('rest_name', 'rest_name', label='name', threshold = 0.8) \n",
    "\n",
    "# Get potential matches and print\n",
    "potential_matches = comp_cl.compute(pairs, restaurants, restaurants_new)\n",
    "\n",
    "# Investigate the minimum number of columns you want matching to ensure a proper duplicate find, what do you think should the value of n be? \n",
    "# Int this example 3 because I need to have matches in all my columns.\n",
    "print(potential_matches)\n",
    "\n",
    "# Isolate potential matches with row sum >=3\n",
    "matches = potential_matches[potential_matches.sum(axis=1) >= 3]\n",
    "\n",
    "# Get values of second column index of matches\n",
    "matching_indices = matches.index.get_level_values(1)\n",
    "\n",
    "# Subset restaurants_new based on non-duplicate values\n",
    "non_dup = restaurants_new[~restaurants_new.index.isin(matching_indices)]\n",
    "\n",
    "# Append non_dup to restaurants\n",
    "full_restaurants = restaurants.append(non_dup)\n",
    "print(full_restaurants)\n",
    "```"
   ]
  }
 ],
 "metadata": {
  "kernelspec": {
   "display_name": "Python 3",
   "language": "python",
   "name": "python3"
  },
  "language_info": {
   "name": "python",
   "version": "3.10.1 (main, Mar 16 2022, 23:03:26) [GCC 9.3.0]"
  },
  "orig_nbformat": 4,
  "vscode": {
   "interpreter": {
    "hash": "4866ca8150a371cabffea59b773ad62185c8d01910afc1316bcc2dcf59a99708"
   }
  }
 },
 "nbformat": 4,
 "nbformat_minor": 2
}
