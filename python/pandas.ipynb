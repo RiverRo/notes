{
 "cells": [
  {
   "cell_type": "markdown",
   "metadata": {},
   "source": [
    "# Pandas \n",
    "> [Main Table of Contents](../README.md)\n",
    "\n",
    "High performance tabular data\n"
   ]
  },
  {
   "cell_type": "markdown",
   "metadata": {},
   "source": [
    "## In this notebook\n",
    "- Note: Logical operators don't work with df, use numpy boolean functions and/or bitwise operators\n",
    "- Axis\n",
    "- DataFrame\n",
    "- DataFrame Creation\n",
    "- DataFrame Properties\n",
    "- Filter DataFrame\n",
    "\t- with one boolean array\n",
    "\t- with numpy logical functions\n",
    "\t- with bitwise operation\n",
    "\t- with `isin` method\n",
    "- Filter / Subset rows in multiIndex dataframe\n",
    "- Get/ Set(Add) Columns\n",
    "- Pivot\n",
    "- Read Files\n",
    "- Plotting (Avail out of the box)\n",
    "- Explicit Index\n",
    "- Index Methods\n",
    "\t- sort_index\n",
    "- Subset Date Index"
   ]
  },
  {
   "cell_type": "code",
   "execution_count": 1,
   "metadata": {},
   "outputs": [],
   "source": [
    "import pandas as pd"
   ]
  },
  {
   "cell_type": "code",
   "execution_count": 2,
   "metadata": {},
   "outputs": [],
   "source": [
    "# NOTEBOOK DATA\n",
    "twod_dict = { 'cars_per_cap': [809, 200, 70, 45, 150],\n",
    "              'num_peeps': [400, 100, pd.NA, 3, 5],\n",
    "           'country': ['United States', 'Russia', 'Morocco', 'Egypt', 'China'],\n",
    "           'drives_right': [True, False, False, True, True]}\n",
    "labels = ['US', 'RU', 'MO', 'EG', 'CH']\n",
    "df = pd.DataFrame(twod_dict, index=labels)"
   ]
  },
  {
   "cell_type": "markdown",
   "metadata": {},
   "source": [
    "## Axis\n",
    "\n",
    "- Many built in Series and DataFrame methods have `axis` key word argument\n",
    "\n",
    "Axis | Description | Default\n",
    "--- | --- | ---\n",
    "0 | Image arrow pointing down<br>Applying functions across axis 0 means function applied on a column/series | Yes\n",
    "1 | Applying functions across axis 1 means function applied on a row | "
   ]
  },
  {
   "cell_type": "markdown",
   "metadata": {},
   "source": [
    "## DataFrame\n",
    "- DataFrame is a collection of Series"
   ]
  },
  {
   "cell_type": "markdown",
   "metadata": {},
   "source": [
    "## DataFrame Creation\n",
    "- Many ways to create a DataFrame\n",
    "- Two of the most common ways are below"
   ]
  },
  {
   "cell_type": "code",
   "execution_count": 3,
   "metadata": {},
   "outputs": [
    {
     "data": {
      "text/html": [
       "<div>\n",
       "<style scoped>\n",
       "    .dataframe tbody tr th:only-of-type {\n",
       "        vertical-align: middle;\n",
       "    }\n",
       "\n",
       "    .dataframe tbody tr th {\n",
       "        vertical-align: top;\n",
       "    }\n",
       "\n",
       "    .dataframe thead th {\n",
       "        text-align: right;\n",
       "    }\n",
       "</style>\n",
       "<table border=\"1\" class=\"dataframe\">\n",
       "  <thead>\n",
       "    <tr style=\"text-align: right;\">\n",
       "      <th></th>\n",
       "      <th>AAPL</th>\n",
       "      <th>GOOG</th>\n",
       "      <th>IBM</th>\n",
       "    </tr>\n",
       "  </thead>\n",
       "  <tbody>\n",
       "    <tr>\n",
       "      <th>2017-07-03</th>\n",
       "      <td>143.50</td>\n",
       "      <td>898.70</td>\n",
       "      <td>155.58</td>\n",
       "    </tr>\n",
       "    <tr>\n",
       "      <th>2017-07-04</th>\n",
       "      <td>144.09</td>\n",
       "      <td>911.71</td>\n",
       "      <td>153.67</td>\n",
       "    </tr>\n",
       "    <tr>\n",
       "      <th>2017-07-05</th>\n",
       "      <td>142.73</td>\n",
       "      <td>906.69</td>\n",
       "      <td>152.36</td>\n",
       "    </tr>\n",
       "    <tr>\n",
       "      <th>2017-07-06</th>\n",
       "      <td>144.18</td>\n",
       "      <td>918.59</td>\n",
       "      <td>152.94</td>\n",
       "    </tr>\n",
       "    <tr>\n",
       "      <th>2017-07-07</th>\n",
       "      <td>143.77</td>\n",
       "      <td>926.99</td>\n",
       "      <td>153.49</td>\n",
       "    </tr>\n",
       "  </tbody>\n",
       "</table>\n",
       "</div>"
      ],
      "text/plain": [
       "              AAPL    GOOG     IBM\n",
       "2017-07-03  143.50  898.70  155.58\n",
       "2017-07-04  144.09  911.71  153.67\n",
       "2017-07-05  142.73  906.69  152.36\n",
       "2017-07-06  144.18  918.59  152.94\n",
       "2017-07-07  143.77  926.99  153.49"
      ]
     },
     "execution_count": 3,
     "metadata": {},
     "output_type": "execute_result"
    }
   ],
   "source": [
    "# Common Creation Method (dictionary)\n",
    "dict = {'AAPL': [143.5,  144.09, 142.73, 144.18, 143.77],    # col 1\n",
    "        'GOOG': [898.7,  911.71, 906.69, 918.59, 926.99],      # col 2\n",
    "        'IBM':  [155.58, 153.67, 152.36, 152.94, 153.49]}      # col 3\n",
    "dates = pd.date_range('2017-07-03', periods = 5, freq = 'D')\n",
    "pd.DataFrame(dict, index = dates)"
   ]
  },
  {
   "cell_type": "code",
   "execution_count": 4,
   "metadata": {},
   "outputs": [],
   "source": [
    "# Common Creation Method (list of lists)\n",
    "# Manually add column labels\n",
    "# TODO:"
   ]
  },
  {
   "cell_type": "markdown",
   "metadata": {},
   "source": [
    "## DataFrame Properties\n",
    "\n",
    "Property | Description\n",
    "--- | ---\n",
    ".shape | tuple (num_rows, num_cols)\n",
    ".columns | Index object with column names<br>Index object is an iterable\n",
    ".index | Index object with row names or row numbers\n",
    ".values | just the values of the dataframe"
   ]
  },
  {
   "cell_type": "markdown",
   "metadata": {},
   "source": [
    "## Filter DataFrame "
   ]
  },
  {
   "cell_type": "markdown",
   "metadata": {},
   "source": [
    "### with one boolean array"
   ]
  },
  {
   "cell_type": "code",
   "execution_count": 5,
   "metadata": {},
   "outputs": [
    {
     "data": {
      "text/html": [
       "<div>\n",
       "<style scoped>\n",
       "    .dataframe tbody tr th:only-of-type {\n",
       "        vertical-align: middle;\n",
       "    }\n",
       "\n",
       "    .dataframe tbody tr th {\n",
       "        vertical-align: top;\n",
       "    }\n",
       "\n",
       "    .dataframe thead th {\n",
       "        text-align: right;\n",
       "    }\n",
       "</style>\n",
       "<table border=\"1\" class=\"dataframe\">\n",
       "  <thead>\n",
       "    <tr style=\"text-align: right;\">\n",
       "      <th></th>\n",
       "      <th>cars_per_cap</th>\n",
       "      <th>num_peeps</th>\n",
       "      <th>country</th>\n",
       "      <th>drives_right</th>\n",
       "    </tr>\n",
       "  </thead>\n",
       "  <tbody>\n",
       "    <tr>\n",
       "      <th>US</th>\n",
       "      <td>809</td>\n",
       "      <td>400</td>\n",
       "      <td>United States</td>\n",
       "      <td>True</td>\n",
       "    </tr>\n",
       "    <tr>\n",
       "      <th>RU</th>\n",
       "      <td>200</td>\n",
       "      <td>100</td>\n",
       "      <td>Russia</td>\n",
       "      <td>False</td>\n",
       "    </tr>\n",
       "    <tr>\n",
       "      <th>CH</th>\n",
       "      <td>150</td>\n",
       "      <td>5</td>\n",
       "      <td>China</td>\n",
       "      <td>True</td>\n",
       "    </tr>\n",
       "  </tbody>\n",
       "</table>\n",
       "</div>"
      ],
      "text/plain": [
       "    cars_per_cap num_peeps        country  drives_right\n",
       "US           809       400  United States          True\n",
       "RU           200       100         Russia         False\n",
       "CH           150         5          China          True"
      ]
     },
     "execution_count": 5,
     "metadata": {},
     "output_type": "execute_result"
    }
   ],
   "source": [
    "# pandas series with comparison operator => boolean array (True, True, False ,False, True)\n",
    "bool_arr = df['cars_per_cap'] > 100      \n",
    "df[bool_arr]  "
   ]
  },
  {
   "cell_type": "markdown",
   "metadata": {},
   "source": [
    "### with numpy logical functions"
   ]
  },
  {
   "cell_type": "code",
   "execution_count": 6,
   "metadata": {},
   "outputs": [
    {
     "data": {
      "text/html": [
       "<div>\n",
       "<style scoped>\n",
       "    .dataframe tbody tr th:only-of-type {\n",
       "        vertical-align: middle;\n",
       "    }\n",
       "\n",
       "    .dataframe tbody tr th {\n",
       "        vertical-align: top;\n",
       "    }\n",
       "\n",
       "    .dataframe thead th {\n",
       "        text-align: right;\n",
       "    }\n",
       "</style>\n",
       "<table border=\"1\" class=\"dataframe\">\n",
       "  <thead>\n",
       "    <tr style=\"text-align: right;\">\n",
       "      <th></th>\n",
       "      <th>cars_per_cap</th>\n",
       "      <th>num_peeps</th>\n",
       "      <th>country</th>\n",
       "      <th>drives_right</th>\n",
       "    </tr>\n",
       "  </thead>\n",
       "  <tbody>\n",
       "    <tr>\n",
       "      <th>US</th>\n",
       "      <td>809</td>\n",
       "      <td>400</td>\n",
       "      <td>United States</td>\n",
       "      <td>True</td>\n",
       "    </tr>\n",
       "    <tr>\n",
       "      <th>RU</th>\n",
       "      <td>200</td>\n",
       "      <td>100</td>\n",
       "      <td>Russia</td>\n",
       "      <td>False</td>\n",
       "    </tr>\n",
       "    <tr>\n",
       "      <th>EG</th>\n",
       "      <td>45</td>\n",
       "      <td>3</td>\n",
       "      <td>Egypt</td>\n",
       "      <td>True</td>\n",
       "    </tr>\n",
       "    <tr>\n",
       "      <th>CH</th>\n",
       "      <td>150</td>\n",
       "      <td>5</td>\n",
       "      <td>China</td>\n",
       "      <td>True</td>\n",
       "    </tr>\n",
       "  </tbody>\n",
       "</table>\n",
       "</div>"
      ],
      "text/plain": [
       "    cars_per_cap num_peeps        country  drives_right\n",
       "US           809       400  United States          True\n",
       "RU           200       100         Russia         False\n",
       "EG            45         3          Egypt          True\n",
       "CH           150         5          China          True"
      ]
     },
     "execution_count": 6,
     "metadata": {},
     "output_type": "execute_result"
    }
   ],
   "source": [
    "import numpy as np\n",
    "np_logical_fn = np.logical_or(df['cars_per_cap']>100, df['drives_right'] == True)\n",
    "df[np_logical_fn]"
   ]
  },
  {
   "cell_type": "markdown",
   "metadata": {},
   "source": [
    "### with bit-wise operation"
   ]
  },
  {
   "cell_type": "code",
   "execution_count": 7,
   "metadata": {},
   "outputs": [
    {
     "data": {
      "text/html": [
       "<div>\n",
       "<style scoped>\n",
       "    .dataframe tbody tr th:only-of-type {\n",
       "        vertical-align: middle;\n",
       "    }\n",
       "\n",
       "    .dataframe tbody tr th {\n",
       "        vertical-align: top;\n",
       "    }\n",
       "\n",
       "    .dataframe thead th {\n",
       "        text-align: right;\n",
       "    }\n",
       "</style>\n",
       "<table border=\"1\" class=\"dataframe\">\n",
       "  <thead>\n",
       "    <tr style=\"text-align: right;\">\n",
       "      <th></th>\n",
       "      <th>cars_per_cap</th>\n",
       "      <th>num_peeps</th>\n",
       "      <th>country</th>\n",
       "      <th>drives_right</th>\n",
       "    </tr>\n",
       "  </thead>\n",
       "  <tbody>\n",
       "    <tr>\n",
       "      <th>US</th>\n",
       "      <td>809</td>\n",
       "      <td>400</td>\n",
       "      <td>United States</td>\n",
       "      <td>True</td>\n",
       "    </tr>\n",
       "    <tr>\n",
       "      <th>RU</th>\n",
       "      <td>200</td>\n",
       "      <td>100</td>\n",
       "      <td>Russia</td>\n",
       "      <td>False</td>\n",
       "    </tr>\n",
       "    <tr>\n",
       "      <th>EG</th>\n",
       "      <td>45</td>\n",
       "      <td>3</td>\n",
       "      <td>Egypt</td>\n",
       "      <td>True</td>\n",
       "    </tr>\n",
       "    <tr>\n",
       "      <th>CH</th>\n",
       "      <td>150</td>\n",
       "      <td>5</td>\n",
       "      <td>China</td>\n",
       "      <td>True</td>\n",
       "    </tr>\n",
       "  </tbody>\n",
       "</table>\n",
       "</div>"
      ],
      "text/plain": [
       "    cars_per_cap num_peeps        country  drives_right\n",
       "US           809       400  United States          True\n",
       "RU           200       100         Russia         False\n",
       "EG            45         3          Egypt          True\n",
       "CH           150         5          China          True"
      ]
     },
     "execution_count": 7,
     "metadata": {},
     "output_type": "execute_result"
    }
   ],
   "source": [
    "bit_wise_op = (df['cars_per_cap'] > 100) | (df['drives_right']==True)\n",
    "df[bit_wise_op]"
   ]
  },
  {
   "cell_type": "markdown",
   "metadata": {},
   "source": [
    "### with `isin` method\n",
    "- Alternative for `or` operations\n",
    "- Checks whether each element is contained in values\n",
    "- More concise\n",
    "- Returns boolean dataframe"
   ]
  },
  {
   "cell_type": "code",
   "execution_count": 8,
   "metadata": {},
   "outputs": [
    {
     "data": {
      "text/html": [
       "<div>\n",
       "<style scoped>\n",
       "    .dataframe tbody tr th:only-of-type {\n",
       "        vertical-align: middle;\n",
       "    }\n",
       "\n",
       "    .dataframe tbody tr th {\n",
       "        vertical-align: top;\n",
       "    }\n",
       "\n",
       "    .dataframe thead th {\n",
       "        text-align: right;\n",
       "    }\n",
       "</style>\n",
       "<table border=\"1\" class=\"dataframe\">\n",
       "  <thead>\n",
       "    <tr style=\"text-align: right;\">\n",
       "      <th></th>\n",
       "      <th>cars_per_cap</th>\n",
       "      <th>num_peeps</th>\n",
       "      <th>country</th>\n",
       "      <th>drives_right</th>\n",
       "    </tr>\n",
       "  </thead>\n",
       "  <tbody>\n",
       "    <tr>\n",
       "      <th>US</th>\n",
       "      <td>NaN</td>\n",
       "      <td>NaN</td>\n",
       "      <td>United States</td>\n",
       "      <td>1.0</td>\n",
       "    </tr>\n",
       "    <tr>\n",
       "      <th>RU</th>\n",
       "      <td>NaN</td>\n",
       "      <td>NaN</td>\n",
       "      <td>NaN</td>\n",
       "      <td>NaN</td>\n",
       "    </tr>\n",
       "    <tr>\n",
       "      <th>MO</th>\n",
       "      <td>NaN</td>\n",
       "      <td>NaN</td>\n",
       "      <td>NaN</td>\n",
       "      <td>NaN</td>\n",
       "    </tr>\n",
       "    <tr>\n",
       "      <th>EG</th>\n",
       "      <td>45.0</td>\n",
       "      <td>NaN</td>\n",
       "      <td>NaN</td>\n",
       "      <td>1.0</td>\n",
       "    </tr>\n",
       "    <tr>\n",
       "      <th>CH</th>\n",
       "      <td>NaN</td>\n",
       "      <td>NaN</td>\n",
       "      <td>NaN</td>\n",
       "      <td>1.0</td>\n",
       "    </tr>\n",
       "  </tbody>\n",
       "</table>\n",
       "</div>"
      ],
      "text/plain": [
       "    cars_per_cap num_peeps        country  drives_right\n",
       "US           NaN       NaN  United States           1.0\n",
       "RU           NaN       NaN            NaN           NaN\n",
       "MO           NaN       NaN            NaN           NaN\n",
       "EG          45.0       NaN            NaN           1.0\n",
       "CH           NaN       NaN            NaN           1.0"
      ]
     },
     "execution_count": 8,
     "metadata": {},
     "output_type": "execute_result"
    }
   ],
   "source": [
    "long_list_of_values_of_interest = [True, 45, 'United States']\n",
    "bool_df =df.isin(long_list_of_values_of_interest)  # boolean dataframe\n",
    "df[bool_df]"
   ]
  },
  {
   "cell_type": "markdown",
   "metadata": {},
   "source": [
    "## Filter / Subset rows in multiIndex dataframe   \n",
    "TODO: Comeback TO THIS AS i DON'T KNOW MOST OF THIS\n",
    " - [Link to stackoverflow comprehensive reference](https://stackoverflow.com/questions/53927460/select-rows-in-pandas-multiindex-dataframe)"
   ]
  },
  {
   "cell_type": "markdown",
   "metadata": {},
   "source": [
    "## Get/ Set(Add) Columns\n",
    "- Similar to adding to a dictionary\n",
    "- Use square brackets to set new column name and new values"
   ]
  },
  {
   "cell_type": "markdown",
   "metadata": {},
   "source": [
    "## Read Files\n",
    "\n",
    "CSV file use `pandas.read_csv(chunksize=1000)` where the chunksize is number of lines"
   ]
  },
  {
   "cell_type": "markdown",
   "metadata": {},
   "source": [
    "## Plotting (Avail out of the box)\n",
    "- Pandas is not only built on top of numpy but also matplotlib\n",
    "- Still Need to import matplotlib pyplot to run the show() method \n",
    "\n",
    "\n",
    "```python\n",
    "# General plotting\n",
    "df.plot(kind='plottype', x='df.columname', y='df.columnname')\n",
    "\n",
    "# Histogram\n",
    "df.hist(kind='plottype', x='df.columname', y='df.columnname')\n",
    "```\n"
   ]
  },
  {
   "cell_type": "markdown",
   "metadata": {},
   "source": [
    "## Index Methods\n",
    "\n",
    "Method | Description | Use Cases\n",
    "--- | --- | ---\n",
    "set_index() | Explicitly set the index using EXISING columns | Easily grab named rows by .loc\n",
    "reset_index() | Remove previously set index or level<br> If none before introduces numbered index |\n",
    "sort_index() | Sort index | Slicing + .loc is a power combo<br>But slice can only happen on sorted values"
   ]
  },
  {
   "cell_type": "code",
   "execution_count": 9,
   "metadata": {},
   "outputs": [
    {
     "data": {
      "text/html": [
       "<div>\n",
       "<style scoped>\n",
       "    .dataframe tbody tr th:only-of-type {\n",
       "        vertical-align: middle;\n",
       "    }\n",
       "\n",
       "    .dataframe tbody tr th {\n",
       "        vertical-align: top;\n",
       "    }\n",
       "\n",
       "    .dataframe thead th {\n",
       "        text-align: right;\n",
       "    }\n",
       "</style>\n",
       "<table border=\"1\" class=\"dataframe\">\n",
       "  <thead>\n",
       "    <tr style=\"text-align: right;\">\n",
       "      <th></th>\n",
       "      <th>breed</th>\n",
       "      <th>color</th>\n",
       "      <th>height</th>\n",
       "      <th>weight</th>\n",
       "    </tr>\n",
       "  </thead>\n",
       "  <tbody>\n",
       "    <tr>\n",
       "      <th>2022-10-28 01:59:45.915928+00:00</th>\n",
       "      <td>Beagle</td>\n",
       "      <td>Brown</td>\n",
       "      <td>1.0</td>\n",
       "      <td>25</td>\n",
       "    </tr>\n",
       "    <tr>\n",
       "      <th>2022-10-27 01:59:45.915939+00:00</th>\n",
       "      <td>Mixed</td>\n",
       "      <td>Brown</td>\n",
       "      <td>1.5</td>\n",
       "      <td>45</td>\n",
       "    </tr>\n",
       "    <tr>\n",
       "      <th>2022-10-26 01:59:45.915941+00:00</th>\n",
       "      <td>Lab</td>\n",
       "      <td>Black</td>\n",
       "      <td>2.0</td>\n",
       "      <td>65</td>\n",
       "    </tr>\n",
       "    <tr>\n",
       "      <th>2022-10-25 01:59:45.915942+00:00</th>\n",
       "      <td>Lab</td>\n",
       "      <td>Black</td>\n",
       "      <td>2.0</td>\n",
       "      <td>&lt;NA&gt;</td>\n",
       "    </tr>\n",
       "    <tr>\n",
       "      <th>2022-10-24 01:59:45.915943+00:00</th>\n",
       "      <td>Corgi</td>\n",
       "      <td>Brown</td>\n",
       "      <td>1.0</td>\n",
       "      <td>27</td>\n",
       "    </tr>\n",
       "  </tbody>\n",
       "</table>\n",
       "</div>"
      ],
      "text/plain": [
       "                                   breed  color  height weight\n",
       "2022-10-28 01:59:45.915928+00:00  Beagle  Brown     1.0     25\n",
       "2022-10-27 01:59:45.915939+00:00   Mixed  Brown     1.5     45\n",
       "2022-10-26 01:59:45.915941+00:00     Lab  Black     2.0     65\n",
       "2022-10-25 01:59:45.915942+00:00     Lab  Black     2.0   <NA>\n",
       "2022-10-24 01:59:45.915943+00:00   Corgi  Brown     1.0     27"
      ]
     },
     "execution_count": 9,
     "metadata": {},
     "output_type": "execute_result"
    }
   ],
   "source": [
    "from datetime import datetime, timezone, timedelta\n",
    "twod_dict = { 'breed': ['Beagle', 'Mixed', 'Lab', 'Lab', 'Corgi'],\n",
    "              'color': ['Brown', 'Brown', 'Black','Black', 'Brown'],\n",
    "           'height': [1, 1.5, 2, 2, 1 ],\n",
    "           'weight': [25, 45, 65, pd.NA, 27]}\n",
    "# labels = ['US', 'RU', 'MO', 'EG', 'CH']\n",
    "labels = [ datetime.now(tz=timezone.utc) - timedelta(days=r) for r in range(5)]\n",
    "df = pd.DataFrame(twod_dict, index=labels)\n",
    "df"
   ]
  },
  {
   "cell_type": "markdown",
   "metadata": {},
   "source": [
    "### sort_index\n",
    "Option | Description \n",
    "--- | ---\n",
    "axis | Column-wise 0, Row-wise 1\n",
    "level | Level of multi-index whhere 0 is outer<br> can also use names\n",
    "ascending | True Default\n",
    "kind | 'quicksort' (Default), 'mergesort', 'heapsort', 'stable'"
   ]
  },
  {
   "cell_type": "code",
   "execution_count": 10,
   "metadata": {},
   "outputs": [
    {
     "data": {
      "text/html": [
       "<div>\n",
       "<style scoped>\n",
       "    .dataframe tbody tr th:only-of-type {\n",
       "        vertical-align: middle;\n",
       "    }\n",
       "\n",
       "    .dataframe tbody tr th {\n",
       "        vertical-align: top;\n",
       "    }\n",
       "\n",
       "    .dataframe thead th {\n",
       "        text-align: right;\n",
       "    }\n",
       "</style>\n",
       "<table border=\"1\" class=\"dataframe\">\n",
       "  <thead>\n",
       "    <tr style=\"text-align: right;\">\n",
       "      <th></th>\n",
       "      <th></th>\n",
       "      <th>height</th>\n",
       "      <th>weight</th>\n",
       "    </tr>\n",
       "    <tr>\n",
       "      <th>color</th>\n",
       "      <th>breed</th>\n",
       "      <th></th>\n",
       "      <th></th>\n",
       "    </tr>\n",
       "  </thead>\n",
       "  <tbody>\n",
       "    <tr>\n",
       "      <th rowspan=\"2\" valign=\"top\">Brown</th>\n",
       "      <th>Beagle</th>\n",
       "      <td>1.0</td>\n",
       "      <td>25</td>\n",
       "    </tr>\n",
       "    <tr>\n",
       "      <th>Corgi</th>\n",
       "      <td>1.0</td>\n",
       "      <td>27</td>\n",
       "    </tr>\n",
       "    <tr>\n",
       "      <th rowspan=\"2\" valign=\"top\">Black</th>\n",
       "      <th>Lab</th>\n",
       "      <td>2.0</td>\n",
       "      <td>65</td>\n",
       "    </tr>\n",
       "    <tr>\n",
       "      <th>Lab</th>\n",
       "      <td>2.0</td>\n",
       "      <td>&lt;NA&gt;</td>\n",
       "    </tr>\n",
       "    <tr>\n",
       "      <th>Brown</th>\n",
       "      <th>Mixed</th>\n",
       "      <td>1.5</td>\n",
       "      <td>45</td>\n",
       "    </tr>\n",
       "  </tbody>\n",
       "</table>\n",
       "</div>"
      ],
      "text/plain": [
       "              height weight\n",
       "color breed                \n",
       "Brown Beagle     1.0     25\n",
       "      Corgi      1.0     27\n",
       "Black Lab        2.0     65\n",
       "      Lab        2.0   <NA>\n",
       "Brown Mixed      1.5     45"
      ]
     },
     "execution_count": 10,
     "metadata": {},
     "output_type": "execute_result"
    }
   ],
   "source": [
    "# color is level 0 (outer), breed is level 1 (inner)\n",
    "new_df = df.set_index(['color', 'breed'])\n",
    "# df = df.set_index(['color', 'breed'])\n",
    "new_df = new_df.sort_index(level=1)  # sort by breed\n",
    "# new_df = df.sort_index(level=1)  # sort by breed\n",
    "new_df"
   ]
  },
  {
   "cell_type": "markdown",
   "metadata": {},
   "source": [
    "## Subset Date Index\n",
    "- When index is date, can subset by partial date"
   ]
  },
  {
   "cell_type": "code",
   "execution_count": 11,
   "metadata": {},
   "outputs": [
    {
     "data": {
      "text/html": [
       "<div>\n",
       "<style scoped>\n",
       "    .dataframe tbody tr th:only-of-type {\n",
       "        vertical-align: middle;\n",
       "    }\n",
       "\n",
       "    .dataframe tbody tr th {\n",
       "        vertical-align: top;\n",
       "    }\n",
       "\n",
       "    .dataframe thead th {\n",
       "        text-align: right;\n",
       "    }\n",
       "</style>\n",
       "<table border=\"1\" class=\"dataframe\">\n",
       "  <thead>\n",
       "    <tr style=\"text-align: right;\">\n",
       "      <th></th>\n",
       "      <th>breed</th>\n",
       "      <th>color</th>\n",
       "      <th>height</th>\n",
       "      <th>weight</th>\n",
       "    </tr>\n",
       "  </thead>\n",
       "  <tbody>\n",
       "    <tr>\n",
       "      <th>2022-10-28 01:59:45.915928+00:00</th>\n",
       "      <td>Beagle</td>\n",
       "      <td>Brown</td>\n",
       "      <td>1.0</td>\n",
       "      <td>25</td>\n",
       "    </tr>\n",
       "    <tr>\n",
       "      <th>2022-10-27 01:59:45.915939+00:00</th>\n",
       "      <td>Mixed</td>\n",
       "      <td>Brown</td>\n",
       "      <td>1.5</td>\n",
       "      <td>45</td>\n",
       "    </tr>\n",
       "    <tr>\n",
       "      <th>2022-10-26 01:59:45.915941+00:00</th>\n",
       "      <td>Lab</td>\n",
       "      <td>Black</td>\n",
       "      <td>2.0</td>\n",
       "      <td>65</td>\n",
       "    </tr>\n",
       "    <tr>\n",
       "      <th>2022-10-25 01:59:45.915942+00:00</th>\n",
       "      <td>Lab</td>\n",
       "      <td>Black</td>\n",
       "      <td>2.0</td>\n",
       "      <td>&lt;NA&gt;</td>\n",
       "    </tr>\n",
       "    <tr>\n",
       "      <th>2022-10-24 01:59:45.915943+00:00</th>\n",
       "      <td>Corgi</td>\n",
       "      <td>Brown</td>\n",
       "      <td>1.0</td>\n",
       "      <td>27</td>\n",
       "    </tr>\n",
       "  </tbody>\n",
       "</table>\n",
       "</div>"
      ],
      "text/plain": [
       "                                   breed  color  height weight\n",
       "2022-10-28 01:59:45.915928+00:00  Beagle  Brown     1.0     25\n",
       "2022-10-27 01:59:45.915939+00:00   Mixed  Brown     1.5     45\n",
       "2022-10-26 01:59:45.915941+00:00     Lab  Black     2.0     65\n",
       "2022-10-25 01:59:45.915942+00:00     Lab  Black     2.0   <NA>\n",
       "2022-10-24 01:59:45.915943+00:00   Corgi  Brown     1.0     27"
      ]
     },
     "execution_count": 11,
     "metadata": {},
     "output_type": "execute_result"
    }
   ],
   "source": [
    "from datetime import datetime, timezone, timedelta\n",
    "df = df.loc['2022-10':'2022-08']  # TODO: come back to why this issn't working\n",
    "df"
   ]
  }
 ],
 "metadata": {
  "kernelspec": {
   "display_name": "Python 3.8.5 64-bit",
   "language": "python",
   "name": "python3"
  },
  "language_info": {
   "codemirror_mode": {
    "name": "ipython",
    "version": 3
   },
   "file_extension": ".py",
   "mimetype": "text/x-python",
   "name": "python",
   "nbconvert_exporter": "python",
   "pygments_lexer": "ipython3",
   "version": "3.8.10"
  },
  "orig_nbformat": 4,
  "vscode": {
   "interpreter": {
    "hash": "31f2aee4e71d21fbe5cf8b01ff0e069b9275f58929596ceb00d14d90e3e16cd6"
   }
  }
 },
 "nbformat": 4,
 "nbformat_minor": 2
}
