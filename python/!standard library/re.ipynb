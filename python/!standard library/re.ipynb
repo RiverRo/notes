{
 "cells": [
  {
   "cell_type": "markdown",
   "metadata": {},
   "source": [
    "# re\n",
    "\n",
    "> [Main Table of Contents](../../README.md)"
   ]
  },
  {
   "cell_type": "markdown",
   "metadata": {},
   "source": [
    "## In This Notebook\n",
    "- Create regex string (prefer raw)\n",
    "- Special sequences\n",
    "- Special characters\n",
    "   - COMEBACK TO LOOKAHEAD/LOOKBEHIND\n",
    "- re functions  : COMBACK TO MATCH OBJECT\n",
    "- Match object\n",
    "- Capture group : COMEBACK\n",
    "- Non-capture groups : COMEBACK\n",
    "- References\n",
    "  - Numbered references\n",
    "  - Named references\n",
    "- Greedy vs Lazy\n",
    "  - Gotcha cases\n",
    "  - Convert greedy to lazy mode"
   ]
  },
  {
   "cell_type": "markdown",
   "metadata": {},
   "source": [
    "## Create regex string (prefer raw)"
   ]
  },
  {
   "cell_type": "code",
   "execution_count": 58,
   "metadata": {},
   "outputs": [],
   "source": [
    "str = r'This is a raw string'"
   ]
  },
  {
   "cell_type": "markdown",
   "metadata": {},
   "source": [
    "## Special sequences\n",
    "\n",
    "  Sequence | Match Description\n",
    "  --- | ---\n",
    "  \\d | digit<br>[0-9]\n",
    "  \\D | non-digit<br>[^0-9]\n",
    "  \\s | whitespace<br>[\\t\\n\\r\\f\\v]<br>*Always use this instead of actual spaces in regex string\n",
    "  \\S | non-whitespace<br>[^\\s]\n",
    "  \\w | word char<br>[a-zA-Z0-9]\n",
    "  \\W | non-word-char<br>[^\\w]\n",
    "  \\\\\\\\ |backslash\n",
    "  \\\\#|contents of a group of the same number\n",
    "\n"
   ]
  },
  {
   "cell_type": "markdown",
   "metadata": {},
   "source": [
    "## Special characters\n",
    "- Special characters apply to whatever is immediately left of it\n",
    "- For Non-greedy versions add `?` immediately after the greedy version\n",
    "\n",
    "\n",
    "Character | Match Description  \n",
    "--- | ---  \n",
    "^|Beginning of the string<br>Exception to general rule b/c this should be very first char\n",
    "$|Match end of string or right before newline\n",
    ". | Wildcard<br>Any character except newline\n",
    "? | 0 or 1 time (greedy)\n",
    "+| 1 or more repetitions (greedy)\n",
    "+? | 1 or more repetitions (lazy)\n",
    "*| 0 or more repetitions (greedy)\n",
    "*?| 0 or more repetitions (lazy)\n",
    "{#} | Exactly # repetitions (greedy)\n",
    "{min,} | At least min repetitions (greedy)\n",
    "{min,max} | Both inclusive (greedy)\n",
    "a\\|b |  or<br>a or b\n",
    "[] | or<br>one character in the set\n",
    "[^] | First char ^<br>complement set of regular square bracket version\n",
    "(...) | Captured group\n",
    "(?:...) | Non-captured group<br>Group for the sake of referencing again in the regex string but not extracting from the string\n",
    "\\\\# | Reference previous group, either capture or non-capture type<br>Each group position is the number to reference\n",
    "(?P<name>...) | Named group\n",
    "(?P=name) | Reference previous named group\n",
    "(?=...) | Matches if ... matches next, but doesn't consume the string   TODO: comeback to these 4 look ahead, behind\n",
    "(?!...) | Matches if ... doesn't match next\n",
    "(?<=...)| Matches if preceded by ... (must be fixed length)\n",
    "(?<!...)| Matches if not preceded by ... (must be fixed length)"
   ]
  },
  {
   "cell_type": "markdown",
   "metadata": {},
   "source": [
    "## re functions\n",
    "\n",
    "Function | Description\n",
    "--- | ---\n",
    "re.findall(regex, str) | Find all occurances of regex<br>Returns list of matches\n",
    "re.sub(regex, str) | Replace all instances of regex with another<br>Returns string\n",
    "re.split(regex, str) | Split on regex<br>Returns list\n",
    "re.match(regex, str) | Data on the first match found only at the *beginning* of the string<br>Returns match object or None\n",
    "re.search(regex, str) | Data on the first match found anywhere in the string<br>Returns match object or None"
   ]
  },
  {
   "cell_type": "code",
   "execution_count": 59,
   "metadata": {},
   "outputs": [
    {
     "data": {
      "text/plain": [
       "['yo', 'yo', 'yo']"
      ]
     },
     "execution_count": 59,
     "metadata": {},
     "output_type": "execute_result"
    }
   ],
   "source": [
    "import re\n",
    "re.findall(r'yo', 'yo  yo yo')"
   ]
  },
  {
   "cell_type": "code",
   "execution_count": 60,
   "metadata": {},
   "outputs": [
    {
     "data": {
      "text/plain": [
       "'Some bananas are yellow yellow!'"
      ]
     },
     "execution_count": 60,
     "metadata": {},
     "output_type": "execute_result"
    }
   ],
   "source": [
    "re.sub(r'green', r'yellow', 'Some bananas are green green!')"
   ]
  },
  {
   "cell_type": "code",
   "execution_count": 61,
   "metadata": {},
   "outputs": [
    {
     "data": {
      "text/plain": [
       "['Return', 'list', 'without ', ' numbers']"
      ]
     },
     "execution_count": 61,
     "metadata": {},
     "output_type": "execute_result"
    }
   ],
   "source": [
    "re.split(r'\\d+', 'Return56list78without 45 numbers')"
   ]
  },
  {
   "cell_type": "markdown",
   "metadata": {},
   "source": [
    "## Match object\n",
    "  Method | Description\n",
    "  --- | ---\n",
    "  .group(int) | Returns one or more sub-groups of the match<br>0 returns entire match<br>*intU returns thhe *n*th group<br>e.g. 1 returns first group (first set of parentheses) and so on\n",
    "  .span() | Index range of first match found"
   ]
  },
  {
   "cell_type": "code",
   "execution_count": 62,
   "metadata": {},
   "outputs": [
    {
     "data": {
      "text/plain": [
       "('yo', 'bo')"
      ]
     },
     "execution_count": 62,
     "metadata": {},
     "output_type": "execute_result"
    }
   ],
   "source": [
    "re.match(r'matchme', '   matchme returns none b/c string starts with space')  # returns None b/c Will only match the start of a string\n",
    "\n",
    "m = re.search(r'([a-z]o) ([a-z]o)', 'matchme yo bo ho mo')  \n",
    "m[0] == m.group(0)  # entire match\n",
    "m[1] == m.group(1)  # first group\n",
    "m[2] == m.group(2)  # second group\n",
    "m.group(1, 2)       # first and second group\n"
   ]
  },
  {
   "cell_type": "code",
   "execution_count": 63,
   "metadata": {},
   "outputs": [
    {
     "data": {
      "text/plain": [
       "<re.Match object; span=(3, 10), match='matchme'>"
      ]
     },
     "execution_count": 63,
     "metadata": {},
     "output_type": "execute_result"
    }
   ],
   "source": [
    "re.search(r'matchme', '   matchme returns match object')"
   ]
  },
  {
   "cell_type": "markdown",
   "metadata": {},
   "source": [
    "## Capture groups  TODO: COMEBACK"
   ]
  },
  {
   "cell_type": "code",
   "execution_count": 64,
   "metadata": {},
   "outputs": [
    {
     "data": {
      "text/plain": [
       "['12', '34', '12', '45234', '1']"
      ]
     },
     "execution_count": 64,
     "metadata": {},
     "output_type": "execute_result"
    }
   ],
   "source": [
    "regex = r'(?:\\d+)'\n",
    "re.findall(regex, '12-34-12-45234-1')"
   ]
  },
  {
   "cell_type": "markdown",
   "metadata": {},
   "source": [
    "## Non-capture groups  TODO: COMEBACK this may be worng\n",
    "- Group for the sake of referencing again in the regex string but not extracting from the string\n",
    "- Handle large number of repetitive groups"
   ]
  },
  {
   "cell_type": "markdown",
   "metadata": {},
   "source": [
    "## References\n",
    "- Numbered references\n",
    "- Named references"
   ]
  },
  {
   "cell_type": "code",
   "execution_count": 65,
   "metadata": {},
   "outputs": [
    {
     "data": {
      "text/plain": [
       "<re.Match object; span=(4, 11), match='4-3-4-3'>"
      ]
     },
     "execution_count": 65,
     "metadata": {},
     "output_type": "execute_result"
    }
   ],
   "source": [
    "# Numbered references\n",
    "regex = r'(\\d)-(\\d)-\\1-\\2'  # \\1 refers to 1st group, \\2 second group\n",
    "re.search(regex, '1-234-3-4-3-4-6788')"
   ]
  },
  {
   "cell_type": "code",
   "execution_count": 66,
   "metadata": {},
   "outputs": [
    {
     "data": {
      "text/plain": [
       "<re.Match object; span=(0, 16), match='2, 1, 4, 2, 3, 2'>"
      ]
     },
     "execution_count": 66,
     "metadata": {},
     "output_type": "execute_result"
    }
   ],
   "source": [
    "# Named references\n",
    "regex = r'(?P<bigbird>\\d),\\s\\d,\\s\\d,\\s\\d,\\s\\d,\\s(?P=bigbird)'  # group is given the name bigbird, bigbird=2\n",
    "re.search(regex, '2, 1, 4, 2, 3, 2')"
   ]
  },
  {
   "cell_type": "markdown",
   "metadata": {},
   "source": [
    "## Greedy vs lazy\n",
    "- Greedy will find the longest match possible\n",
    "- Lazy will find the shortest match possible\n",
    "- Gotcha cases\n",
    "  - Finding content within enclosing structures e.g. brackets, html tags\n",
    "- Convert Greedy special characters to non-greedy (lazy) by suffixing `?`"
   ]
  },
  {
   "cell_type": "code",
   "execution_count": 67,
   "metadata": {},
   "outputs": [
    {
     "data": {
      "text/plain": [
       "['<h1>My-blog-title</h1>']"
      ]
     },
     "execution_count": 67,
     "metadata": {},
     "output_type": "execute_result"
    }
   ],
   "source": [
    "# Greedy pitfall - Get tag names\n",
    "regex = r'<.+>'\n",
    "re.findall(regex, '<h1>My-blog-title</h1>')"
   ]
  },
  {
   "cell_type": "code",
   "execution_count": 68,
   "metadata": {},
   "outputs": [
    {
     "data": {
      "text/plain": [
       "['<h1>', '</h1>']"
      ]
     },
     "execution_count": 68,
     "metadata": {},
     "output_type": "execute_result"
    }
   ],
   "source": [
    "# Fix with lazy version\n",
    "regex = r'<.+?>'\n",
    "re.findall(regex, '<h1>My-blog-title</h1>')"
   ]
  }
 ],
 "metadata": {
  "kernelspec": {
   "display_name": "Python 3.8.10 64-bit",
   "language": "python",
   "name": "python3"
  },
  "language_info": {
   "codemirror_mode": {
    "name": "ipython",
    "version": 3
   },
   "file_extension": ".py",
   "mimetype": "text/x-python",
   "name": "python",
   "nbconvert_exporter": "python",
   "pygments_lexer": "ipython3",
   "version": "3.8.10"
  },
  "orig_nbformat": 4,
  "vscode": {
   "interpreter": {
    "hash": "31f2aee4e71d21fbe5cf8b01ff0e069b9275f58929596ceb00d14d90e3e16cd6"
   }
  }
 },
 "nbformat": 4,
 "nbformat_minor": 2
}
