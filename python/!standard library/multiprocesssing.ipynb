{
 "cells": [
  {
   "attachments": {},
   "cell_type": "markdown",
   "metadata": {},
   "source": [
    "# multiprocessing\n",
    "\n",
    "> [Main Table of Contents](../../README.md)"
   ]
  },
  {
   "attachments": {},
   "cell_type": "markdown",
   "metadata": {},
   "source": [
    "## In This Notebook\n",
    "- Sharing data betwee processes\n",
    "- `start` method - deeper look\n",
    "    - Change start method"
   ]
  },
  {
   "cell_type": "code",
   "execution_count": null,
   "metadata": {},
   "outputs": [],
   "source": [
    "# Start at Query process daemon"
   ]
  },
  {
   "attachments": {},
   "cell_type": "markdown",
   "metadata": {},
   "source": [
    "## [Multiprocessing in python comprehensive guide](https://superfastpython.com/multiprocessing-in-python/)\n",
    "\n",
    "The main process is the instance of the python interpreter that is used to run a python program. Therefore, any process created within a python program using the multiprocessing package will be child processes of the main parent process that is running the top-level python program.  Child processes can create their own child processes.\n",
    "\n",
    "- An instance of the multiprocessing.Process class provides a handle of a new instance of the Python interpreter\n",
    "- Each process has a name and can be changed (google later on how to do so)\n",
    "    - The parent process has the name “MainProcess“\n",
    "    - Child processes are named automatically in a somewhat unique manner within each process with the form “Process-%d” where %d is the integer indicating the process number created by the parent process, e.g. Process-1 for the first process created\n",
    "    \n",
    "        ```python\n",
    "        # report the process name\n",
    "        print(process.name)\n",
    "        ```\n",
    "\n",
    "Create a separate process (technically a child process in the main python program).\n",
    "1) Create a new process\n",
    "2) Start a process (start as soon as possible (doesn't necessarily start immediately) the main thread within the process with a new instance of python interpreter).  `<process_name>.start()`\n",
    "Note `.start()` method returns immediately, so it schedules to start the separate child process as soon as possible and returns control back the the main parent process\n",
    "`.start()` internally calls `.run()`\n",
    "3) [Optional] If I want to wait for the new process created in step 1 to finish executing, this can be done by `.join()` method.  This will block the main process, go back to the new process and wait until that process closed/terminated."
   ]
  },
  {
   "attachments": {},
   "cell_type": "markdown",
   "metadata": {},
   "source": [
    "## Sharing data between processes\n",
    "> Any changes made in one process is always propagated and made available to other processes\n",
    "- multiprocessing.Value\n",
    "- multiprocessing.Array"
   ]
  },
  {
   "cell_type": "code",
   "execution_count": 14,
   "metadata": {},
   "outputs": [
    {
     "name": "stdout",
     "output_type": "stream",
     "text": [
      "parent process counter: 0\n",
      "child process counter: 0\n",
      "child process counter: 1"
     ]
    }
   ],
   "source": [
    "from multiprocessing import Value, Process\n",
    "\n",
    "# Create a shared counter, initialize integer attribute\n",
    "counter = Value('i', 0)\n",
    "\n",
    "# Increment the counter in a child process\n",
    "def increment_counter():\n",
    "    ct = 0\n",
    "    while ct < 10:\n",
    "        print(f'child process counter: {counter.value}')\n",
    "        counter.value += 1\n",
    "        ct += 1\n",
    "    \n",
    "\n",
    "# Create a child process and start the increment_counter function\n",
    "p = Process(target=increment_counter)\n",
    "p.start()\n",
    "\n",
    "# Check the value of the counter\n",
    "print(f'parent process counter: {counter.value}')"
   ]
  },
  {
   "cell_type": "code",
   "execution_count": 15,
   "metadata": {},
   "outputs": [
    {
     "name": "stdout",
     "output_type": "stream",
     "text": [
      "\n",
      "child process counter: 2\n",
      "child process counter: 3\n",
      "child process counter: 4\n",
      "child process counter: 5\n",
      "child process counter: 6\n",
      "child process counter: 7\n",
      "child process counter: 8\n",
      "child process counter: 9\n"
     ]
    },
    {
     "name": "stdout",
     "output_type": "stream",
     "text": [
      "child process counter: 0\n",
      "child process counter: 1\n",
      "child process counter: 2\n",
      "child process counter: 3\n",
      "child process counter: 4\n",
      "child process counter: 5\n",
      "child process counter: 6\n",
      "child process counter: 7\n",
      "child process counter: 8\n",
      "child process counter: 9\n",
      "parent process coutner: 10\n"
     ]
    }
   ],
   "source": [
    "from multiprocessing import Value, Process\n",
    "\n",
    "# Create a shared counter, initialize integer attribute\n",
    "counter = Value('i', 0)\n",
    "\n",
    "# Increment the counter in a child process\n",
    "def increment_counter():\n",
    "    ct = 0\n",
    "    while ct < 10:\n",
    "        print(f'child process counter: {counter.value}')\n",
    "        counter.value += 1\n",
    "        ct += 1\n",
    "    \n",
    "\n",
    "# Create a child process and start the increment_counter function\n",
    "p = Process(target=increment_counter)\n",
    "p.start()\n",
    "p.join()  # blocks parent process (this process) until child process (p) is done\n",
    "\n",
    "# Check the value of the counter\n",
    "print(f'parent process coutner: {counter.value}')"
   ]
  },
  {
   "attachments": {},
   "cell_type": "markdown",
   "metadata": {},
   "source": [
    "## start method - deeper look\n",
    "- `.start()` method is the technique used to start child processes in Python\n",
    "- It can be one of three types:\n",
    "    - spawn: start a new Python process\n",
    "    - fork: copy a Python process from an existing process\n",
    "    - forkserver: new process from which future forked processes will be copied\n",
    "- Default start type depends on the platform\n",
    "    - Windows (win32): spawn\n",
    "    - macOS (darwin): spawn\n",
    "    - Linux (unix): fork\n",
    "- Note not all start method types are supported by all platforms\n",
    "    - `multiprocessing.get_all_start_methods()` to get list of supported start methods\n",
    "    - `multiprocessing.get_start_method()` to get the type of the current start method\n",
    "    - Windows (win32): spawn\n",
    "    - macOS (darwin): spawn, fork, forkserver.\n",
    "    - Linux (unix): spawn, fork, forkserver"
   ]
  },
  {
   "attachments": {},
   "cell_type": "markdown",
   "metadata": {},
   "source": [
    "### Change the start method\n",
    "- `multiprocessing.set_start_method(<start_method_type>)` e.g. `multiprocessing.set_start_method('spawn')`\n",
    "- Required on most platforms that the start method be set first, prior to any other code, and to be done so within a if __name__ == ‘__main__’ check \n",
    "    ```python\n",
    "    # protect the entry point\n",
    "    if __name__ == '__main__':\n",
    "        # set the start method\n",
    "        multiprocessing.set_start_method('spawn')\n",
    "    ```"
   ]
  }
 ],
 "metadata": {
  "kernelspec": {
   "display_name": "notebooks",
   "language": "python",
   "name": "python3"
  },
  "language_info": {
   "codemirror_mode": {
    "name": "ipython",
    "version": 3
   },
   "file_extension": ".py",
   "mimetype": "text/x-python",
   "name": "python",
   "nbconvert_exporter": "python",
   "pygments_lexer": "ipython3",
   "version": "3.10.9"
  },
  "orig_nbformat": 4
 },
 "nbformat": 4,
 "nbformat_minor": 2
}
