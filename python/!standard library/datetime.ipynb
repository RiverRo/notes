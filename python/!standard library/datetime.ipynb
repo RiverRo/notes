{
 "cells": [
  {
   "cell_type": "markdown",
   "metadata": {},
   "source": [
    "# datetime\n",
    "> [Main Table of Contents](../../README.md)"
   ]
  },
  {
   "cell_type": "markdown",
   "metadata": {},
   "source": [
    "## In This Notebook\n",
    "> WHEN COMPARING DATETIMES, ALWAYS CONVERT TO UTC FIRST.\n",
    "  \n",
    "> Never roll my own timezone. Always use a library.\n",
    "\n",
    "- Aware vs Naive \n",
    "- datetime module\n",
    "\t- datetime class\n",
    "\t\t- class methods\n",
    "\t\t- class constants\n",
    "\t\t- instance methods\n",
    "\t- timedelta class\n",
    "\t\t- instance methods\n",
    "\t- date class\n",
    "\t\t- class methods\n",
    "\t\t- instance methods\n",
    "\t- timezone class\n",
    "\t\t- Always use a timezone library (see dateutil, pytz)"
   ]
  },
  {
   "cell_type": "markdown",
   "metadata": {},
   "source": [
    "## Aware and Naive\n",
    "\n",
    "- Aware objects include timezone data\n",
    "- Naive objects do not include timezone dat"
   ]
  },
  {
   "cell_type": "markdown",
   "metadata": {},
   "source": [
    "## datetime module"
   ]
  },
  {
   "cell_type": "markdown",
   "metadata": {},
   "source": [
    "### datetime class\n",
    "- class methods\n",
    "\n",
    "\tMethods | Description\n",
    "\t---- | ---\n",
    "\tdatetime.fromisoformat() | Create datetime object\n",
    "\tdatetime.fromtimestamp() | Create datetime object\n",
    "\tdatetime.strptime() | Create datetime object\n",
    "\tdatetime.combine(date, time) | Create datetime object  \n",
    "\tdatetime.now() | Create datetime object for now  \n",
    "\n",
    "\n",
    "\n",
    "\n",
    "- class constants  \n",
    "\n",
    "\n",
    "\tConstants | \n",
    "\t--- | \n",
    "\tdatetime.MINYEAR |\n",
    "\tdatetime.MAXYEAR |   \n",
    "\n",
    "\n",
    "\n",
    "- instance methods \n",
    "\n",
    "\tMethods | Description\n",
    "\t--- | ---\n",
    "\t.strftime() | Create string representation according to given format\n",
    "\t.isoformat() | Create ISO 8601 formatted string representation\n",
    "\t.replace() | Replace any datetime instance attribute  \n",
    "\t.astimezone() | Adjust datetime to given timezone<br>Note: The UTC time is the same as the instance and the new datetime object\n"
   ]
  },
  {
   "cell_type": "code",
   "execution_count": 51,
   "metadata": {},
   "outputs": [
    {
     "data": {
      "text/plain": [
       "datetime.datetime(2022, 10, 28, 0, 5, 27, 612343, tzinfo=datetime.timezone.utc)"
      ]
     },
     "execution_count": 51,
     "metadata": {},
     "output_type": "execute_result"
    }
   ],
   "source": [
    "from datetime import datetime, timezone\n",
    "\n",
    "# Best way to get now as datetime object\n",
    "datetime.now()\n",
    "\n",
    "# Best way to get now UTC timezone as datetime object\n",
    "datetime.now(tz=timezone.utc)"
   ]
  },
  {
   "cell_type": "markdown",
   "metadata": {},
   "source": [
    "### timedelta class\n",
    "\n",
    "- timedelta represents spans/periods between two points of time\n",
    "- substract for the past\n",
    "- add for the future\n",
    "\n",
    "- instance methods\n",
    "\n",
    "\tMethods | Description\n",
    "\t--- | ---\n",
    "\t.total_seconds() | Returns total seconds in the spa"
   ]
  },
  {
   "cell_type": "code",
   "execution_count": 52,
   "metadata": {},
   "outputs": [
    {
     "name": "stdout",
     "output_type": "stream",
     "text": [
      "2017-03-12 06:00:00-04:00\n",
      "6.0 hours\n"
     ]
    }
   ],
   "source": [
    "from datetime import datetime, timedelta, timezone\n",
    "from dateutil import tz  # third party library\n",
    "\n",
    "# Start on March 12, 2017, midnight eastern\n",
    "start = datetime(2017, 3, 12, tzinfo = tz.gettz('America/New_York'))\n",
    "six_hrs_past = start - timedelta(hours=6)\n",
    "six_hrs_future = start + timedelta(hours=6)\n",
    "print(six_hrs_future)\n",
    "\n",
    "# How many hours have elapsed?\n",
    "print(f'{(six_hrs_future - start).total_seconds()/(60*60)} hours')"
   ]
  },
  {
   "cell_type": "markdown",
   "metadata": {},
   "source": [
    "### date class\n",
    "\n",
    "- class method\n",
    "\n",
    "\tMethods | Description\n",
    "\t--- | ---\n",
    "\tdate.today() | Get local date  \n",
    "\tdate.fromtimestamp() | Get local date\n",
    "\n",
    "- instance method\n",
    "\n",
    "\tMethods | Description\n",
    "\t--- | ---\n",
    "\t.strftime() | Create string representation according to given format\n",
    "\t.isoformat() | Create ISO 8601 formated string\n",
    "\t.replace() | Replace any attribute\n",
    "\t"
   ]
  },
  {
   "cell_type": "code",
   "execution_count": 53,
   "metadata": {},
   "outputs": [
    {
     "data": {
      "text/plain": [
       "datetime.date(2022, 10, 27)"
      ]
     },
     "execution_count": 53,
     "metadata": {},
     "output_type": "execute_result"
    }
   ],
   "source": [
    "from datetime import date\n",
    "\n",
    "date.today()"
   ]
  },
  {
   "cell_type": "code",
   "execution_count": 54,
   "metadata": {},
   "outputs": [
    {
     "data": {
      "text/plain": [
       "'2022-10-27'"
      ]
     },
     "execution_count": 54,
     "metadata": {},
     "output_type": "execute_result"
    }
   ],
   "source": [
    "date.today().isoformat()"
   ]
  },
  {
   "cell_type": "markdown",
   "metadata": {},
   "source": [
    "### timezone class\n",
    "\n",
    "- Standard library timezone most useful attribute is `.utc`\n",
    "- Never roll my own timezone\n",
    "- Timezones are incredibly complex: ever-changing geography & daylight savings\n",
    "- Always use libraries\n",
    "- WHEN COMPARING DATETIMES, ALWAYS CONVERT TO UTC FIRST"
   ]
  },
  {
   "cell_type": "code",
   "execution_count": 55,
   "metadata": {},
   "outputs": [
    {
     "data": {
      "text/plain": [
       "datetime.datetime(2022, 10, 28, 0, 5, 28, 54615, tzinfo=datetime.timezone.utc)"
      ]
     },
     "execution_count": 55,
     "metadata": {},
     "output_type": "execute_result"
    }
   ],
   "source": [
    "from datetime import datetime, timezone\n",
    "\n",
    "# Best way to get now UTC timezone as datetime object\n",
    "datetime.now(tz=timezone.utc)"
   ]
  }
 ],
 "metadata": {
  "kernelspec": {
   "display_name": "Python 3.8.5 64-bit",
   "language": "python",
   "name": "python3"
  },
  "language_info": {
   "codemirror_mode": {
    "name": "ipython",
    "version": 3
   },
   "file_extension": ".py",
   "mimetype": "text/x-python",
   "name": "python",
   "nbconvert_exporter": "python",
   "pygments_lexer": "ipython3",
   "version": "3.8.10"
  },
  "orig_nbformat": 4,
  "vscode": {
   "interpreter": {
    "hash": "916dbcbb3f70747c44a77c7bcd40155683ae19c65e1c03b4aa3499c5328201f1"
   }
  }
 },
 "nbformat": 4,
 "nbformat_minor": 2
}
