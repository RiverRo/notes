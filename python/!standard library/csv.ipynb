{
 "cells": [
  {
   "cell_type": "markdown",
   "metadata": {},
   "source": [
    "# CSV\n",
    "\n",
    "> [Main Table of Contents](../../README.md)"
   ]
  },
  {
   "cell_type": "markdown",
   "metadata": {},
   "source": [
    "## In This Notebook\n",
    "- CSV Module Functions"
   ]
  },
  {
   "cell_type": "markdown",
   "metadata": {},
   "source": [
    "## CSV Module Functions\n",
    "\n",
    "Class | Function | Description   \n",
    "--- | --- | ---  \n",
    "-| csv.reader(csvfile, dialect='excel', **fmtparams) | Returns a reader object which is an iterator<br>iterates over rows/lines of the file each time `__next__()` is called\n",
    "T | csv.DictReader(csvfile, fieldnames=None, restkey=None, restval=None, dialect='excel', *args, **kwargs) | Easier to use a dict keys than indexes when referring to specific values<br>Returns a regular reader<br>But each row is a dictionary where the key maps to the optional `fieldnames` (sequence) parameter<br>If `fieldnames` is None, the first row of the csvfile will be fieldnames\n"
   ]
  },
  {
   "cell_type": "markdown",
   "metadata": {},
   "source": [
    "```python\n",
    "import csv  \n",
    "\n",
    "# Regular reader\n",
    "with open('eggs.csv', newline='') as csvfile:\n",
    "    # spamreader is an iterator\n",
    "    spamreader = csv.reader(csvfile, delimiter=' ', quotechar='|') \n",
    "    for row in spamreader:\n",
    "        print(', '.join(row))\n",
    "\n",
    "\n",
    "# DictReader\n",
    "# fieldnames=None here, so first row is fieldnames\n",
    "with open('names.csv', newline='') as csvfile: \n",
    "    reader = csv.DictReader(csvfile)\n",
    "    for row in reader:\n",
    "        print(row['first_name'], row['last_name'])\n",
    "```"
   ]
  }
 ],
 "metadata": {
  "kernelspec": {
   "display_name": "Python 3.8.5 64-bit",
   "language": "python",
   "name": "python3"
  },
  "language_info": {
   "codemirror_mode": {
    "name": "ipython",
    "version": 3
   },
   "file_extension": ".py",
   "mimetype": "text/x-python",
   "name": "python",
   "nbconvert_exporter": "python",
   "pygments_lexer": "ipython3",
   "version": "3.8.10"
  },
  "orig_nbformat": 4,
  "vscode": {
   "interpreter": {
    "hash": "916dbcbb3f70747c44a77c7bcd40155683ae19c65e1c03b4aa3499c5328201f1"
   }
  }
 },
 "nbformat": 4,
 "nbformat_minor": 2
}
