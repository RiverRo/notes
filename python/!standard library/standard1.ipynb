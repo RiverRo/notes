{
 "cells": [
  {
   "cell_type": "markdown",
   "metadata": {},
   "source": [
    "# Standard1 Python Library\n",
    "\n",
    "> [Main Table of Contents](../../README.md)"
   ]
  },
  {
   "cell_type": "markdown",
   "metadata": {},
   "source": [
    "## In this notebook\n",
    "- Built In Functions\n",
    "\t- reduce()\n",
    "- Dunder/Magic Methods\n",
    "- Function Arguments\n",
    "\t- Standard\n",
    "\t- Required positional\n",
    "\t- Required keyword\n",
    "- Built In Keywords\n",
    "- Serialization\n",
    "- String\n",
    "\t- String Method\n",
    "- List \n",
    "\t- List Methods\n",
    "\t- List Comprehension\n",
    "- Dictionary\n",
    "\t- Dictionary Methods\n",
    "\t- Dictionary Comprehension\n",
    "- Set\n",
    "\t- Set Methods\n",
    "- Iterable, Iterator\n",
    "- Generator\n",
    "\t- Generator Comprehension\n",
    "\t- Iterator vs Generator\n",
    "- Splat Operator\n",
    "\t- *args, **kwargs\n",
    "\t- Single `*` operator\n",
    "\t- Double `**` operator\n",
    "\t- Unpacking use case: Efficiently unpack python iterators into a list\n",
    "\t- Unpack dictionary values\n",
    "\t- More unpacking examples\n",
    "- Python Files\n",
    "\t- Read files in chunks\n",
    "- Error Handling\n",
    "- Scope\n",
    "- Statements and comments\n",
    "- Literals\n",
    "- Data Types\n",
    "\t- Check data type\n",
    "- Context managers\n",
    "\t- Context manager - function version structure\n",
    "\t- Nested context manager\n",
    "\t- Handle errors within context manager\n",
    "- Context managers vs Decorators\n",
    "- Decorators\n",
    "\t- Decorator factory\n",
    "\t- Generic decorator use case\n",
    "\t- Real Life use cases\n",
    "\t- Preserve meta data (docstrings) on decorated functions with `wraps`\n",
    "- Closure\n",
    "\t- Closure use case\n",
    "- Math operators\n",
    "- Perfect Imperfect math\n",
    "\t- Floating point\n",
    "\t- Fractions\n",
    "- Loops\n",
    "\t- for ... else\n",
    "\t- while ... else\n",
    "- Functions\n",
    "\t- Recursive functions\n",
    "\t- Lambda functions\n",
    "- Packages\n",
    "\t- General flow to create package\n",
    "\t- Install pypi or locally located packages into specfic python version\n",
    "\t- Freeze all current dependencies\n",
    "\t- General package structure. Distributable to pypi\n",
    "\t- Distribute package to pypi\n",
    "\t\t- Build distribution\n",
    "\t\t- Upload distribution to pypi\n",
    "\t- Manage package versions\n",
    "- Modules\n",
    "\t- Use variables across modules\n",
    "\t- Import modules\n",
    "\t- Reload modules\n",
    "\t- Get names of modules\n",
    "- Docstrings\n",
    "\t- Autocreate or convert existing docstrings"
   ]
  },
  {
   "cell_type": "markdown",
   "metadata": {},
   "source": [
    "## Built In Functions\n",
    "\n",
    "Note: remember classes have properties and methods\n",
    "\n",
    "Class | Function | Params| Description\n",
    "--- | --- | --- | ---\n",
    "T | class bool() | object | Returns new boolean converted version of object\n",
    "T | class dict() | mapping or iterable or kwargs | Returns new dictionary\n",
    "-| dir() | object | Returns a list of *ALL* the specified object's public properties and methods  \n",
    "-| enumerate() | sequence or iterator | Returns enumerate object which an iterator of tuples (idx, value) \n",
    "-| filter() | function(x), iterable | Applies function to every element<br>Function must return boolean<br>Returns filter object\n",
    "T | class float() | string, number | Returns new float point converted version of string, number\n",
    "-|globals() | | Return dictionary of names in current module\n",
    "-| hasattr() | (object, name:str) | Returns boolean<br> Checks if name is a property or method of the object.\n",
    "-| help() | object | Designed for interactive environment<br>Read function docstring\n",
    "T | class int() | string, number | Returns integer converted version of object\n",
    "-| isInstance() | (object, class) | Returns boolean<br> Accounts for subclasses as well\n",
    "-| iter() | object | Returns iterator object\n",
    "-| len() | sequence | Returns length (number of items)\n",
    "T | class list() | | Returns new list\n",
    "T | class list() | iterable | Returns new list version of the iterable\n",
    "-| locals() | |Returns dictionary of name in current local scope<br>At module level globals() == locals()\n",
    "-| map() | (function(x), iterables) | Returns map object which is an iterator of result after function applied to every element\n",
    "-| max() | iterable | Returns largest \n",
    "-| min() | iterable | Returns smallest\n",
    "-| open() | filename_str | Returns a `_io.TextIOWrapper` (file connection)\n",
    "-| print() | objects|print objects to text stream file <br>file is sys.stdout by default\n",
    "T | class range() | integer | Up to specified integer (iow: pass int is excluded)<br>0 indexed<br>Returns new range object\n",
    "-| round() | number, [ndigit] | Returns rounded number to ndigit precision<br>Use negative ndigit numbers for precision to left of decimal\n",
    "T | class set() | iterable | Returns new set object\n",
    "-|sorted()| iterable | Returns new sorted list<br>opt: key (comparison key function)<br>opt: reverse (bool)<br>duct -> sorted list of keys\n",
    "T | class str() | object | Returns new string version of object\n",
    "T | class tuple() | iterable | Returns new tuple converted version of iterable\n",
    "T | class type() | object | Returns type (class) of object\n",
    "T | class type() | name, bases, dict, **kwargs | Dynamically create a class\n",
    "-| zip() | iterables | Returns an zip object which is an iterator of tuples (ith, ith, ...), (jth, jth, ...)<br>Turns rows into columns and columns into rows == transpose a matrix\n"
   ]
  },
  {
   "cell_type": "markdown",
   "metadata": {},
   "source": [
    "### reduce()\n",
    "\n",
    "- This is in `functools` library\n",
    "- Not part of built in functions\n",
    "\n",
    "Function | Params | Description\n",
    "--- | --- | ---\n",
    "reduce() | (function(x, y), iterable, [initializer])| x, y, correspond to first, second element of iterable<br>Returns one value\n",
    "\n"
   ]
  },
  {
   "cell_type": "markdown",
   "metadata": {},
   "source": [
    "## Dunder/Magic Methods"
   ]
  },
  {
   "cell_type": "markdown",
   "metadata": {},
   "source": [
    "Method | Description\n",
    "--- | ---\n",
    "fn.\\_\\_closure\\_\\_ | Check if the functions is a closure. Has access to nonlocal or global vars\n",
    "fn.\\_\\_doc\\_\\_ | Read functions docstring<br>Built-in help function returns this"
   ]
  },
  {
   "cell_type": "markdown",
   "metadata": {},
   "source": [
    "## Function Parameters\n",
    "\n",
    "- RULE: positional args always passed before keyword arguments\n",
    "\n",
    "- Standard\n",
    "\t- The parameter operates positionally or as keyword\n",
    "- Required positional (/)\n",
    "\t- Arguments __left__ of `/` must be passed positionally\n",
    "- Required keyword (*)\n",
    "\t- Arguments __right__ of `*` must be passed as keywords"
   ]
  },
  {
   "cell_type": "markdown",
   "metadata": {},
   "source": [
    "```python\n",
    "# All params operate as positional or as keyword\n",
    "def func(age, kind='bee'):\n",
    "    print(age, kind)\n",
    "\n",
    "func(age=65, kind='cow')\n",
    "func(kind='cow', age=65)\n",
    "func('cow',  age=65)  # ERROR b/c age='cow and age=65\n",
    "````"
   ]
  },
  {
   "cell_type": "markdown",
   "metadata": {},
   "source": [
    "```python\n",
    "# age is required positional, kind is standard\n",
    "def func(age, /, kind='bee'):\n",
    "    print(age, kind)\n",
    "\n",
    "func(65, 'cow')\n",
    "func(65, kind='cow')\n",
    "func(kind='cow', 65)     # ERROR b/c keyword before positional\n",
    "func(age=65, kind='cow') # ERROR b/c age required to be positional\n",
    "```"
   ]
  },
  {
   "cell_type": "markdown",
   "metadata": {},
   "source": [
    " ```python\n",
    "# age is required positional, kind is required keyword\n",
    "def func(age, /, *, kind='bee'):\n",
    "    print(age, kind)\n",
    "\n",
    "func(65, kind='cow')\n",
    "func(age=65, kind='cow') # ERROR b/c age required to be positional\n",
    "func(65, 'cow')          # ERROR b/c kind required as keyword arg\n",
    "````"
   ]
  },
  {
   "cell_type": "markdown",
   "metadata": {},
   "source": [
    "# Built In Keywords\n",
    "\n",
    "- `global` precedes a variable in the local scope to signify the use of a variable in a global scope\n",
    "\n",
    "- `nonlocal`  precedes a variable in the local scope to signify the use of a variable in a enclosing/nesting function scope\n",
    "\n",
    "- `and`, `or`, `not` logical operators\n",
    "\n",
    "- `True`, `False`, `None` are capitalized\n",
    "\n",
    "- `None`is falsey but not False. It is a special literal.\n",
    "\n",
    "  - Declare an undefined variable\n",
    "\n",
    "    ```\n",
    "    a = None       # equivalent to let a; in Javascript\n",
    "    ```\n",
    "\n",
    "  - Void functions return None\n",
    "\n",
    "\n",
    "- `pass` is a null statement in Python. Nothing happens when it's executed and often used as a placeholder. Use case: function or class not yet implemented but want to stub in. While comments are ignored entirely, `pass` results in a no operation (NOP)\n",
    "\n",
    "- `from`, `import`\n",
    "\n",
    "  While importing a module, Python first looks for a bulit-in module. Then if not found looks at list of directories defined in `sys.path` in this order:\n",
    "\n",
    "  1. current directory\n",
    "  2. `PYTHONPATH` (an env var with a list of directories)\n",
    "  3. installation-dependent default directory\n",
    "\n",
    "  `import` import entire module into the current namespace. Module attributes and methods are prefixed by the module name\n",
    "\n",
    "  ```python\n",
    "  import math\n",
    "  math.cos(math.pi)\n",
    "  ```\n",
    "\n",
    "  `from...import` import select attrbiutes and methods. Module name is not prefixed\n",
    "\n",
    "  ```python\n",
    "  from math import cos, pi\n",
    "  cos(pi)\n",
    "  ```\n",
    "\n",
    "  ```python\n",
    "  from math import *    # DO NOT DO THIS. NOT good practice, propensity to pollute namespace\n",
    "  cos(pi)\n",
    "  ```\n",
    "\n",
    "- `as` import module **_as_** alias\n",
    "\n",
    "  ```python\n",
    "  import math as myMath\n",
    "\n",
    "  myMath.cos(myMath.pi)\n",
    "  ```\n",
    "\n",
    "- `assert <condition>, <message>`\n",
    "\n",
    "  This is equivalent to:\n",
    "\n",
    "  ```python\n",
    "  if not <condition>\n",
    "      raise AssertionError(message)\n",
    "  ```\n",
    "\n",
    "- `async` and `await` used to write concurrent code\n",
    "\n",
    "- `break` and `continue` are used in `for` and `while` loops\n",
    "\n",
    "- `class` define a class\n",
    "\n",
    "  Class is a collection of relaed attributes and methods that try to represent a real-world situation. Good practice to define a single class in a module\n",
    "\n",
    "- `def <funcName>(parameters):` define a function\n",
    "\n",
    "- `del` delete the refernce to an object\n",
    "\n",
    "  ```python\n",
    "  a = b = 5\n",
    "  del a\n",
    "  a             # nameError\n",
    "\n",
    "  a = ['x', 'y', 'z']\n",
    "  del a[1]\n",
    "  a             # ['x', 'y']\n",
    "  ```\n",
    "\n",
    "- `if`, `else`, `elif` conditional branching\n",
    "\n",
    "- `except`, `raise`, `try`, `finally`, `else` error handling\n",
    "\n",
    "  `try...except...`  , `try... except... finally` , `try... finally` error handling\n",
    "\n",
    "  ```python\n",
    "  def reciprocal(num):\n",
    "      try:\n",
    "          r = 1/num\n",
    "      except:\n",
    "          print(\"Exception caught\")\n",
    "          return\n",
    "      return r\n",
    "\n",
    "  print(reciprocal(0))       # prints \"Exception caught\" returns None\n",
    "  ```\n",
    "\n",
    "  `finally` is used with `try...except` block to _close up resources_ or _file streams_\n",
    "\n",
    "- `in` has two use cases.\n",
    "\n",
    "  1. Test if a sequence (list, tuple, string, etc) contains a value. Membership operator. Return boolean\n",
    "\n",
    "     ```python\n",
    "     a = [1, 2, 3, 4, 5]\n",
    "     5 in a      # True\n",
    "     ```\n",
    "\n",
    "  2. Traverse through a sequence in a `for` loop\n",
    "\n",
    "     ```python\n",
    "     for i in 'hello':\n",
    "     print(i)\n",
    "     ```\n",
    "- `not in` check membership\n",
    "\n",
    "- `is` identity operator. While `==` operator tests equality of values, `is` tests referential equality. In other words, tests if two variables refer to the same object\n",
    "\n",
    "  ```python\n",
    "  [] is []    # False\n",
    "  {} is {}    # False\n",
    "  '' is ''    # True because strings are immutable and refer to the same memory location\n",
    "  () is ()    # True becuase tuples are immutable\n",
    "\n",
    "  ```\n",
    "\n",
    "- `lambda` create an anonymous inline function that returns a value but does NOT contain a `return` statement\n",
    "\n",
    "  ```python\n",
    "  a = lambda x: x*2\n",
    "  for i in range(1,6):\n",
    "      print(a(i))\n",
    "  ```\n",
    "\n",
    "- `return` exits a function and returns a value\n",
    "\n",
    "- `yield` pauses a function and returns a value\n",
    "\n",
    "- `with` [ref](https://docs.python.org/3/reference/compound_stmts.html#with) is used to wrap the execution of a block of code with methods defind by the context manager\n",
    "\n",
    "  - supports the idea of a run-time context\n",
    "  - [context managers](https://docs.python.org/3/reference/datamodel.html#context-managers) [more on context managers](https://docs.python.org/3/library/stdtypes.html#typecontextmanager) class version must implement an `__enter__` and `__exit__` methods.  Function versions should use `wraps` decorator from `functools` to preserve metadata of wrapped function.\n",
    "\t\n",
    "\t\t- Simplifies exception handling by encapsulating common preparation and cleanup tasks  \n",
    "\t\t- Makes it possible to factor out standard uses of try/finally statements  \n",
    "\t\t- Context managers provide `__enter__()` and `__exit__()` methods that are invoked on entry to and exit from the body of the with statement  \n",
    "  \t- Use of with statement ensures that the `__exit__()` method is called at the end of the nested block. This concept is similar to the use of try…finally block. Here, is an example. First the `__enter__()` method is called, then the code within with statement is executed and finally the `__exit__()` method is called. `__exit__()` method is called even if there is an error. It basically closes the file stream  \n",
    "\t\t \n",
    "  - Most common use case is opening a file"
   ]
  },
  {
   "cell_type": "markdown",
   "metadata": {},
   "source": [
    "## Serialization\n",
    "- Do not serialize objects with `str()` function b/c getting the object back in the original structure is not guaranteed\n",
    "\n",
    "Serialize | Deserialize | Note\n",
    "--- | --- | ---\n",
    "json.dumps(obj) | json.loads(str) | For human-readable strings\n",
    "json.dump(obj, fp) | json.load(fp) | Serialize/De objects to filepath in human-readable format\n",
    "pickle.dumps(obj) | pickle.loads(str) | Binary strings\n",
    "pickle.dump(obj, fp) | pickle.load(fp) |  Serialize/De objects to filepath in binary format"
   ]
  },
  {
   "cell_type": "markdown",
   "metadata": {},
   "source": [
    "## String"
   ]
  },
  {
   "cell_type": "markdown",
   "metadata": {},
   "source": [
    "### String Methods\n",
    "\n",
    "Method | Description\n",
    "--- | ---\n",
    ".title() | Returns new string with first letter of every word capitalized\n",
    ".split() | Splits a string starting from the right<br>Default: splits on whitespace<br>Returns list\n",
    ".rsplit() | Splits a string starting from the right<br>Default: splits on whitespace<br>Returns list\n",
    ".join() | Join iterable into a string\n",
    ".strip() | Strip both ends<br>Default: strips whitespace\n",
    ".lstrip() | Strip left end<br>Default: strips whitespace\n",
    ".rstrip() | Strip right end<br>Default: strips whitespace\n",
    "\n",
    "\n",
    "- Substring Methods\n",
    "\n",
    "\tMethod | Description\n",
    "\t--- | ---\n",
    "\t.count(substr) | Return int\n",
    "\t.replace(a, b) | Replace a with b\n",
    "\t.find(substr) | Get substring index else Return -1\n",
    "\t.index(substr) | Get substring index else ValueError"
   ]
  },
  {
   "cell_type": "code",
   "execution_count": 1,
   "metadata": {},
   "outputs": [
    {
     "data": {
      "text/plain": [
       "'Make This Title Cased'"
      ]
     },
     "execution_count": 1,
     "metadata": {},
     "output_type": "execute_result"
    }
   ],
   "source": [
    "'make this title cased'.title()"
   ]
  },
  {
   "cell_type": "code",
   "execution_count": 2,
   "metadata": {},
   "outputs": [
    {
     "data": {
      "text/plain": [
       "['split', 'this', 'on#hashes']"
      ]
     },
     "execution_count": 2,
     "metadata": {},
     "output_type": "execute_result"
    }
   ],
   "source": [
    "# split a string into a list\n",
    "'split#this#on#hashes'.split('#')\n",
    "'split#this#on#hashes'.split('#', 2)"
   ]
  },
  {
   "cell_type": "code",
   "execution_count": 3,
   "metadata": {},
   "outputs": [
    {
     "data": {
      "text/plain": [
       "['split#this', 'on', 'hashes']"
      ]
     },
     "execution_count": 3,
     "metadata": {},
     "output_type": "execute_result"
    }
   ],
   "source": [
    "# split a string into a list starting from the right\n",
    "'split#this#on#hashes'.rsplit('#', maxsplit=2)"
   ]
  },
  {
   "cell_type": "code",
   "execution_count": 4,
   "metadata": {},
   "outputs": [
    {
     "data": {
      "text/plain": [
       "'a-b-c-d-e-f'"
      ]
     },
     "execution_count": 4,
     "metadata": {},
     "output_type": "execute_result"
    }
   ],
   "source": [
    "# join iterable into a string\n",
    "'-'.join([*'abcdef'])"
   ]
  },
  {
   "cell_type": "code",
   "execution_count": 5,
   "metadata": {},
   "outputs": [
    {
     "data": {
      "text/plain": [
       "'My name is:'"
      ]
     },
     "execution_count": 5,
     "metadata": {},
     "output_type": "execute_result"
    }
   ],
   "source": [
    "':My name is:'.lstrip(':')"
   ]
  },
  {
   "cell_type": "markdown",
   "metadata": {},
   "source": [
    "### Substring methods"
   ]
  },
  {
   "cell_type": "code",
   "execution_count": 6,
   "metadata": {},
   "outputs": [
    {
     "data": {
      "text/plain": [
       "'My name is'"
      ]
     },
     "execution_count": 6,
     "metadata": {},
     "output_type": "execute_result"
    }
   ],
   "source": [
    "'::My name is::'.replace(':', '')"
   ]
  },
  {
   "cell_type": "code",
   "execution_count": 7,
   "metadata": {},
   "outputs": [
    {
     "data": {
      "text/plain": [
       "-1"
      ]
     },
     "execution_count": 7,
     "metadata": {},
     "output_type": "execute_result"
    }
   ],
   "source": [
    "# Get index of substring, else ValueError\n",
    "'::My name is::'.index('name')  \n",
    "\n",
    "# Get index of substring, else -1\n",
    "'::My name is::'.find('bart')  "
   ]
  },
  {
   "cell_type": "code",
   "execution_count": 8,
   "metadata": {},
   "outputs": [
    {
     "data": {
      "text/plain": [
       "4"
      ]
     },
     "execution_count": 8,
     "metadata": {},
     "output_type": "execute_result"
    }
   ],
   "source": [
    "'::My name is::'.count(':')"
   ]
  },
  {
   "cell_type": "markdown",
   "metadata": {},
   "source": [
    "### String Formatting\n",
    "> Use format specifiers in both styles. Add [format specifiers](https://docs.python.org/3/library/string.html) inside the curly braces.\n",
    "\n",
    "- f-style  (Preferred - Fastest)\n",
    "- Positional formatting\n",
    "- String \n",
    "- For translating other string formats to my format see string library: `string.Template`"
   ]
  },
  {
   "cell_type": "markdown",
   "metadata": {},
   "source": [
    "#### f-style (Preferred)"
   ]
  },
  {
   "cell_type": "code",
   "execution_count": 9,
   "metadata": {},
   "outputs": [
    {
     "data": {
      "text/plain": [
       "'Simon says: yo! 56.0 bingos              '"
      ]
     },
     "execution_count": 9,
     "metadata": {},
     "output_type": "execute_result"
    }
   ],
   "source": [
    "a = 'bingos'\n",
    "b = 56\n",
    "c = 'yo'\n",
    "f'Simon says: {c}! {b:.1f} {a:20}'"
   ]
  },
  {
   "cell_type": "markdown",
   "metadata": {},
   "source": [
    "#### Positional Formatting\n",
    "- curly braces can indicate index order, mapping, kwargs"
   ]
  },
  {
   "cell_type": "code",
   "execution_count": 10,
   "metadata": {},
   "outputs": [
    {
     "data": {
      "text/plain": [
       "'Simon says: hooray, hop, hip'"
      ]
     },
     "execution_count": 10,
     "metadata": {},
     "output_type": "execute_result"
    }
   ],
   "source": [
    "'Simon says: {}, {}, {}'.format('hip', 'hop', 'hooray')\n",
    "'Simon says: {2}, {1}, {0}'.format('hip','hop', 'hooray')"
   ]
  },
  {
   "cell_type": "code",
   "execution_count": 11,
   "metadata": {},
   "outputs": [
    {
     "data": {
      "text/plain": [
       "'Simon says: hooray, hop, hip'"
      ]
     },
     "execution_count": 11,
     "metadata": {},
     "output_type": "execute_result"
    }
   ],
   "source": [
    "mappings = {'a':'hip', 'b':'hop', 'c':'hooray'}\n",
    "'Simon says: {d[c]}, {d[b]}, {d[a]}'.format(d=mappings)\n"
   ]
  },
  {
   "cell_type": "code",
   "execution_count": 12,
   "metadata": {},
   "outputs": [
    {
     "data": {
      "text/plain": [
       "'Simon says: hooray, hop, hip'"
      ]
     },
     "execution_count": 12,
     "metadata": {},
     "output_type": "execute_result"
    }
   ],
   "source": [
    "'Simon says: {c}, {b}, {a}'.format(a='hip', b='hop', c='hooray')"
   ]
  },
  {
   "cell_type": "code",
   "execution_count": 13,
   "metadata": {},
   "outputs": [
    {
     "data": {
      "text/plain": [
       "'Simon says it is %d-%m-%Y'"
      ]
     },
     "execution_count": 13,
     "metadata": {},
     "output_type": "execute_result"
    }
   ],
   "source": [
    "from datetime import datetime\n",
    "# handle datetimes\n",
    "'Simon says it is %d-%m-%Y'.format(datetime(2022, 1, 1))"
   ]
  },
  {
   "cell_type": "code",
   "execution_count": 14,
   "metadata": {},
   "outputs": [
    {
     "data": {
      "text/plain": [
       "'Simon says: hooray! 56.0 hops                '"
      ]
     },
     "execution_count": 14,
     "metadata": {},
     "output_type": "execute_result"
    }
   ],
   "source": [
    "# 20 here is whitespace chars\n",
    "'Simon says: {c}! {b:.1f} {a:20}'.format(a='hops', b=56, c='hooray')  "
   ]
  },
  {
   "cell_type": "markdown",
   "metadata": {},
   "source": [
    "## List"
   ]
  },
  {
   "cell_type": "markdown",
   "metadata": {},
   "source": [
    "### List Methods\n",
    "\n",
    "Method | Description\n",
    "--- | ---\n",
    "list * int | Return one list with multiples of given items<br>[1,2]*3 => [1,2,1,2,1,2]\n",
    "list + list | Combines two lists together<br>return New list\n",
    ".extend(list) | Combines two lists together<br>No return<br>second list combined into first list\n",
    ".append(value) | Insert values to end of list\n",
    ".count(value) | Get frequency of value\n",
    ".index(value) | Get index number of value\n",
    ".remove(value)\t| Remove value\n",
    ".pop(index) | Pop an index\n",
    "list[], list[:] | Get/Set subset"
   ]
  },
  {
   "cell_type": "code",
   "execution_count": 15,
   "metadata": {},
   "outputs": [
    {
     "data": {
      "text/plain": [
       "[0, 1, 2, 3, 4, 5, 0, 1, 2]"
      ]
     },
     "execution_count": 15,
     "metadata": {},
     "output_type": "execute_result"
    }
   ],
   "source": [
    "l1 = [*range(6)]\n",
    "l2 = [*range(3)]\n",
    "new_list = l1 + l2\n",
    "new_list"
   ]
  },
  {
   "cell_type": "code",
   "execution_count": 16,
   "metadata": {},
   "outputs": [
    {
     "data": {
      "text/plain": [
       "[0, 1, 2, 3, 4, 5, 0, 1, 2]"
      ]
     },
     "execution_count": 16,
     "metadata": {},
     "output_type": "execute_result"
    }
   ],
   "source": [
    "l1 = [*range(6)]\n",
    "l2 = [*range(3)]\n",
    "new_list = l1.extend(l2)  \n",
    "new_list  # new_list doesn't exist.  Instead l1 is extended\n",
    "l1"
   ]
  },
  {
   "cell_type": "markdown",
   "metadata": {},
   "source": [
    "### List Comprehension\n",
    "- Basic form\n",
    "\n",
    "\t```python\n",
    "\t[output expression for iterator variable in iterable]\n",
    "\t```\n",
    "- Advanced from\n",
    "\t```python\n",
    "\t# conditionals on output\n",
    "\t[output expression + conditional_on_output for iterator variable in iterable + conditional_on_iterable]\n",
    "\n",
    "\t# conditionals on iterable\n",
    "\t[output expression if conditional else output expression for iterator variable in iterable + conditional_on_iterable]\n",
    "\n",
    "\t# nested for loops\n",
    "\t[output expression for iterator variable in iterable for iterator variable in iterable]\n",
    "\t```\n"
   ]
  },
  {
   "cell_type": "markdown",
   "metadata": {},
   "source": [
    "## Dictionary"
   ]
  },
  {
   "cell_type": "markdown",
   "metadata": {},
   "source": [
    "### Dictionary Methods\n",
    "- view objects are dynamic reflections of a dictionary.  Iow, when the dictionary changes, the view reflects the changes\n",
    "\n",
    "Method  | Description\n",
    "--- |  ---\n",
    "d[key] |  Getter/Setter\n",
    "get(key, default_value) | SAFE ACCESS<br>Returns value<br> else default_value (if present)<br> else None\n",
    "pop(key, default_value) | SAFE REMOVAL ONLY IF DEFAULT PRESENT<br>Removes key/value<br>Returns value<br>else default_value (if present)<br>else KeyError\n",
    "items() |  Returns a view object with all keys, value pair\n",
    "keys() |  Returns a view object of all keys by order of insertion<br>If need a static sorted list of keys, pass dict to sorted()\n",
    "values()  | Returns a view object of all values"
   ]
  },
  {
   "cell_type": "code",
   "execution_count": 17,
   "metadata": {},
   "outputs": [
    {
     "data": {
      "text/plain": [
       "'Not Found'"
      ]
     },
     "execution_count": 17,
     "metadata": {},
     "output_type": "execute_result"
    }
   ],
   "source": [
    "dic = dict(zip('abcde', range(5)))  # {'a': 0, 'b': 1, 'c': 2, 'd': 3, 'e': 4}\n",
    "dic.get('r', 'Not Found')  # SAFE"
   ]
  },
  {
   "cell_type": "code",
   "execution_count": 18,
   "metadata": {},
   "outputs": [],
   "source": [
    "dic.get('r')  # SAFE even without default"
   ]
  },
  {
   "cell_type": "code",
   "execution_count": 19,
   "metadata": {},
   "outputs": [
    {
     "data": {
      "text/plain": [
       "'Not Found'"
      ]
     },
     "execution_count": 19,
     "metadata": {},
     "output_type": "execute_result"
    }
   ],
   "source": [
    "dic.pop('r', 'Not Found')  # SAFE only with default passed in"
   ]
  },
  {
   "cell_type": "markdown",
   "metadata": {},
   "source": [
    "### Dictionary Comprehension\n",
    "- See List Comprehension for basic and advanced form ideas"
   ]
  },
  {
   "cell_type": "code",
   "execution_count": 20,
   "metadata": {},
   "outputs": [
    {
     "data": {
      "text/plain": [
       "{'b': 2, 'c': 3}"
      ]
     },
     "execution_count": 20,
     "metadata": {},
     "output_type": "execute_result"
    }
   ],
   "source": [
    "samp = ['a', 'b', 'c']\n",
    "{v:i+1 for i, v in enumerate(samp) if i >= 1}"
   ]
  },
  {
   "cell_type": "markdown",
   "metadata": {},
   "source": [
    "## Set\n",
    "- Only one of any element allowed\n",
    "- Used when in need of uniqueness"
   ]
  },
  {
   "cell_type": "code",
   "execution_count": 21,
   "metadata": {},
   "outputs": [
    {
     "data": {
      "text/plain": [
       "set"
      ]
     },
     "execution_count": 21,
     "metadata": {},
     "output_type": "execute_result"
    }
   ],
   "source": [
    "# This is a set, curly braces around single elements\n",
    "s = {1, 2, 3}\n",
    "type(s)"
   ]
  },
  {
   "cell_type": "code",
   "execution_count": 22,
   "metadata": {},
   "outputs": [],
   "source": [
    "# only one way to create empty set, via constructor\n",
    "creates_dict_not_set = {}  # <--- Nope\n",
    "empty_set = set()"
   ]
  },
  {
   "cell_type": "markdown",
   "metadata": {},
   "source": [
    "### Set Methods\n",
    "\n",
    "Method | Params | Description\n",
    "--- | --- | ---\n",
    "intersection() | iterables | Returns a new set of elements common to all iterables\n",
    "union() | iterables | Returns a new set of elements present in at least one iterable\n",
    "difference() | iterables | Returns a new set with elements in the set that are NOT in the others\n",
    "symmetric_difference() | iterables | Returns a new set with elements in either set but NOT both\n",
    "update() | iterables | Add another iterable to the set\n",
    "add() | element | Add an element to the set\n",
    "discard() | element | SAFE REMOVAL<br>Doesn't throw error if element not present\n",
    "clear() | | Remove all elements\n",
    "\n"
   ]
  },
  {
   "cell_type": "code",
   "execution_count": 23,
   "metadata": {},
   "outputs": [
    {
     "data": {
      "text/plain": [
       "{'2'}"
      ]
     },
     "execution_count": 23,
     "metadata": {},
     "output_type": "execute_result"
    }
   ],
   "source": [
    "a = {1, 2, 3, 4, 5, '2'}\n",
    "b = {2, 3, 4, '2'}\n",
    "c = {3, 4, '2'}\n",
    "d = '12'\n",
    "a.intersection(b, c, d)"
   ]
  },
  {
   "cell_type": "code",
   "execution_count": 24,
   "metadata": {},
   "outputs": [
    {
     "data": {
      "text/plain": [
       "{1, '1', 2, '2', 3, 4, 5}"
      ]
     },
     "execution_count": 24,
     "metadata": {},
     "output_type": "execute_result"
    }
   ],
   "source": [
    "a.union(b, c, d)"
   ]
  },
  {
   "cell_type": "code",
   "execution_count": 25,
   "metadata": {},
   "outputs": [
    {
     "data": {
      "text/plain": [
       "{1, '1', 2, '2', 3, 4, 5}"
      ]
     },
     "execution_count": 25,
     "metadata": {},
     "output_type": "execute_result"
    }
   ],
   "source": [
    "a.update(d, b)\n",
    "a"
   ]
  },
  {
   "cell_type": "code",
   "execution_count": 26,
   "metadata": {},
   "outputs": [
    {
     "data": {
      "text/plain": [
       "{1, '1', 2, '2', 3, 4, 5, 7}"
      ]
     },
     "execution_count": 26,
     "metadata": {},
     "output_type": "execute_result"
    }
   ],
   "source": [
    "a.add(7)\n",
    "a"
   ]
  },
  {
   "cell_type": "markdown",
   "metadata": {},
   "source": [
    "## Iterable, Iterator\n",
    "\n",
    "Type | Description | When is it called | Example | How to test if an object is of type\n",
    "--- | --- | --- | --- | ---\n",
    "iterable | object that has `__iter__` method |`__iter__` method called when trying to iterate over a class instance|  list(Foo()) <br> where class Foo has `__iter__` defined <br><br> for i in Foo(): <br>pass| <ul><li> hasattr(object_name, `__iter__`)</li> <li> Try using in `for ... in...` </li><ul>  \n",
    "iterator | object that has `__iter__` method that returns `self` AND `__next__` method |`__next__` called on the object that is returned from `__iter__`| example_iterator = Foo()<br>next(example_iterator) | <ul><li> hasattr(object_name, `__next__`)</li><li>Try passing it to next()</li><ul>"
   ]
  },
  {
   "cell_type": "markdown",
   "metadata": {},
   "source": [
    "### Sample iterables and iterators\n",
    "\n",
    "Type | isIterableObject | isIteratorObject | Explanation\n",
    "--- | --- | --- | ---\n",
    "File connection<br><br>_io.TextIOWrapper | True\t| True | Read every line of a file<br><ul><li>with open('filename') as f:<br>  next(f)</li><li>with open('filename') as f: <br>   print(f) </li></ul> \n",
    "enumerate() | True | True\n",
    "filter() | True | True\n",
    "map() | True | True\n",
    "range() | True |F|<ol><li>First pass to iter() to create iterator</li><li>Now can use next()</li><ol>"
   ]
  },
  {
   "cell_type": "markdown",
   "metadata": {},
   "source": [
    "## Generator\n",
    "\n",
    "- Lazy Evaluation meaning expression is not evaluated until needed\n",
    "- Generator is a subclass of Iterator\n",
    "\n",
    "```python\n",
    "def gen():\n",
    "\tfor i in range(1000*1000):\n",
    "\t\tyield i\n",
    "```\n"
   ]
  },
  {
   "cell_type": "markdown",
   "metadata": {},
   "source": [
    "### Generator Comprehension\n",
    "\n",
    "gen = (i for i in range(10000*10000))"
   ]
  },
  {
   "cell_type": "markdown",
   "metadata": {},
   "source": [
    "### Iterator vs Generator\n",
    "\n",
    "Iterator | Generator\n",
    "--- | ---\n",
    "Created with `iter()`<br>An iterator object is returned from `iter()` built-in function which calls `__iter__` on the class | Created by a generator function<br> A generator object is returns from a generator function\n",
    "Class uses `__iter__` and `__next__` methods | Function uses `yield` statement"
   ]
  },
  {
   "cell_type": "markdown",
   "metadata": {},
   "source": [
    "## Splat Operator\n",
    "\n",
    "Two Use Cases:\n",
    "- Unpack\n",
    "\t- `*` unpack iterable\n",
    "\t- `**` unpack dictionary  \n",
    "\n",
    "\n",
    "- Round up extra arguments into a data structure in a function definition\n",
    "- When unsure of number of passed arguments\n",
    "\t- `*args` creates tuple\n",
    "\t- `**kwargs` creates dictionary"
   ]
  },
  {
   "cell_type": "markdown",
   "metadata": {},
   "source": [
    "### *args, **kwargs in a nutshell\n",
    "\n",
    "Function definition includes | Explanation | Exampl\n",
    "--- | --- | ---\n",
    "*args | Extra positional arguments passed in by caller are wrapped up into a tuple | def(posArg1, *args, kwArg1):<br>for arg in args: <br>  pass   \n",
    "**kwargs | Extra keywords arguments passed in by caller are wrapped up into a dictionary | def(posArg1, *args, kwArg1, **kwargs):<br>for k,v in kwargs.items():<br>   pass"
   ]
  },
  {
   "cell_type": "markdown",
   "metadata": {},
   "source": [
    "### Single `*` operator  \n",
    "\n",
    "```python\n",
    "# In Function call, unpacking\n",
    "fn_call(*[4, 5, 6]) == fn_call(4, 5, 6)\n",
    "\n",
    "# In Function definition, wraps the rest of the arguments into a tuple\n",
    "def fn_definition(posArg1, *args):\n",
    "\tprint(f'This is a position arg: {posArg1}')\n",
    "\t# *args is a tuple\n",
    "\tfor arg in args:\n",
    "\t\tprint(arg)\n",
    "```"
   ]
  },
  {
   "cell_type": "markdown",
   "metadata": {},
   "source": [
    "### Double `**` operator  \n",
    "\n",
    "Different Behavior when splat operator is used in a function call vs function definition\n",
    "\n",
    "```python\n",
    "# In Function call, Unpacking\n",
    "def fn(c, b, a, d):\n",
    "  print(a, b, c, d)\n",
    "fn(**{'a': 1, 'c': 3}, **{'b': 2, 'd': 4})  # => 1 2 3 4\n",
    "fn(**{'c':30, 'd':40, 'b':20, 'a': 10})     # => 10 20 30 40\n",
    "\n",
    "# In Function definition, wraps the rest of the keyword arguments into a dictionary\n",
    "def fn_definition(posArg1, firstKeyWordArg='first key word arg', **kwargs):\n",
    "\tprint(f'This is a key word arg: {firstKeyWordArg}')\n",
    "\t# **kwargs is a dictionary\n",
    "\tfor key, value in kwargs.items():\n",
    "\t\tprint(key, value)\n",
    "```"
   ]
  },
  {
   "cell_type": "markdown",
   "metadata": {},
   "source": [
    "### Unpacking use case: Efficiently unpack python iterators into a _list_\n",
    "\n",
    "- Similar to `list(iterator_obj)` but much faster\n",
    "\n",
    "\n",
    "\tIterator Object | Returned from:  \n",
    "\t--- | ---\n",
    "\tcombinations object | itertools.combinations()\n",
    "\tenumerate object | enumerate()\n",
    "\tfilter object | filter()\n",
    "\tmap object | map()\n",
    "\trange object | range()\n",
    "\tzip object | zip()"
   ]
  },
  {
   "cell_type": "code",
   "execution_count": 27,
   "metadata": {},
   "outputs": [
    {
     "data": {
      "text/plain": [
       "[('a', 'c', 'd'), ('a', 'c', 'e'), ('a', 'd', 'e'), ('c', 'd', 'e')]"
      ]
     },
     "execution_count": 27,
     "metadata": {},
     "output_type": "execute_result"
    }
   ],
   "source": [
    "from itertools import combinations\n",
    "\n",
    "[*combinations('acde', 3)]"
   ]
  },
  {
   "cell_type": "code",
   "execution_count": 28,
   "metadata": {},
   "outputs": [
    {
     "data": {
      "text/plain": [
       "[('a', 'd'), ('b', 'e'), ('c', 'f')]"
      ]
     },
     "execution_count": 28,
     "metadata": {},
     "output_type": "execute_result"
    }
   ],
   "source": [
    "[*zip('abc', 'def')]"
   ]
  },
  {
   "cell_type": "code",
   "execution_count": 29,
   "metadata": {},
   "outputs": [
    {
     "data": {
      "text/plain": [
       "['a', 'b', 'c', 'd', 'e']"
      ]
     },
     "execution_count": 29,
     "metadata": {},
     "output_type": "execute_result"
    }
   ],
   "source": [
    "[*'abcde']"
   ]
  },
  {
   "cell_type": "markdown",
   "metadata": {},
   "source": [
    "### Unpack dictionary values"
   ]
  },
  {
   "cell_type": "code",
   "execution_count": 30,
   "metadata": {},
   "outputs": [
    {
     "name": "stdout",
     "output_type": "stream",
     "text": [
      "1 2 3 4\n",
      "10 20 30 40\n"
     ]
    }
   ],
   "source": [
    "def fn(c, b, a, d):\n",
    "  print(a, b, c, d)\n",
    "# unpack dictionary values\n",
    "fn(**{'a': 1, 'c': 3}, **{'b': 2, 'd': 4})  # => 1 2 3 4\n",
    "fn(**{'c':30, 'd':40, 'b':20, 'a': 10})     # => 10 20 30 40"
   ]
  },
  {
   "cell_type": "markdown",
   "metadata": {},
   "source": [
    "### More unpacking Examples"
   ]
  },
  {
   "cell_type": "code",
   "execution_count": 31,
   "metadata": {},
   "outputs": [
    {
     "data": {
      "text/plain": [
       "[1, 2, 3, 4, 5, 6]"
      ]
     },
     "execution_count": 31,
     "metadata": {},
     "output_type": "execute_result"
    }
   ],
   "source": [
    "[1, 2, 3, *[4, 5, 6]]"
   ]
  },
  {
   "cell_type": "code",
   "execution_count": 32,
   "metadata": {},
   "outputs": [
    {
     "name": "stdout",
     "output_type": "stream",
     "text": [
      "0 1 2 3 4 5 6 7 8 9\n"
     ]
    }
   ],
   "source": [
    "print(*(x for x in range(10)))"
   ]
  },
  {
   "cell_type": "code",
   "execution_count": 33,
   "metadata": {},
   "outputs": [
    {
     "name": "stdout",
     "output_type": "stream",
     "text": [
      "(0, 'a') (1, 'b') (2, 'c')\n"
     ]
    }
   ],
   "source": [
    "print(*enumerate('abc'))"
   ]
  },
  {
   "cell_type": "code",
   "execution_count": 34,
   "metadata": {},
   "outputs": [
    {
     "name": "stdout",
     "output_type": "stream",
     "text": [
      "[0, 1, 2, 3, 4, 5, 6, 7]\n",
      "8\n",
      "9\n"
     ]
    }
   ],
   "source": [
    "l = [*range(10)]\n",
    "x, *y, z = l   # y is a tuple of all middle\n",
    "x, y, *z = l   # z is a tuple of all end\n",
    "*x, y, z = l   # x is a tuple of all beginning values\n",
    "print(x)\n",
    "print(y)\n",
    "print(z)"
   ]
  },
  {
   "cell_type": "markdown",
   "metadata": {},
   "source": [
    "## Python Files\n"
   ]
  },
  {
   "cell_type": "markdown",
   "metadata": {},
   "source": [
    "### Read files in chunks\n",
    "\n",
    "- See also pandas read_csv method  \n",
    "- Read text files in text mode and binary files in binary mode  \n",
    "- Each line or chunk is read line by line or chunk by chunk then garbage collected unless a reference to the line/chunk is stored    \n",
    "- Read line-based files \n",
    "\n",
    "\n",
    "\t```python\n",
    "\twith open(\"large.txt\") as file:\n",
    "\t\tfor line in file:\n",
    "\t\t\tdo_something(line)\n",
    "\t```\n",
    "- Read mulitiline with `itertools.islice()`\n",
    "\t```python\n",
    "\twith open(\"large.txt\") as file:\n",
    "\t\twhile True:\n",
    "\t\t\tline = list(islice(file, 5)) # islice returns an iterator, and convert it to list.\n",
    "\t\t\tif line:                     \n",
    "\t\t\t\t# to do while line <=5 \n",
    "\t\t\t\tpass \n",
    "\t\t\telse:\n",
    "\t\t\t\tbreak\n",
    "\t```\n",
    "- Read chunks\n",
    "\t```python\n",
    "\twith open('large.txt') as file:\n",
    "\t\twhile chunk := file.read(1024):\n",
    "\t\t\tdo_something(chunk)\n",
    "\t```"
   ]
  },
  {
   "cell_type": "markdown",
   "metadata": {},
   "source": [
    "## Error Handling\n",
    "\n",
    "- Raise Exception\n",
    "- try... except... else...\n",
    "\t- Optional `else` block\n",
    "\t- `else` runs when try exhausts without exception"
   ]
  },
  {
   "cell_type": "markdown",
   "metadata": {},
   "source": [
    "## Scope\n",
    "\n",
    "Scope Order from check first to last  (acronym: LEGB)\n",
    "\n",
    "Order | Scope | keyword that precedes variable to access in local scope\n",
    "--- | --- | ---\n",
    "1 | Local Function | \n",
    "2 | Enclosing Function | nonlocal\n",
    "3 | Global  | global\n",
    "4 | Built In | "
   ]
  },
  {
   "cell_type": "markdown",
   "metadata": {},
   "source": [
    "## Statements and Comments\n",
    "\n",
    "statements-and-comments\n",
    "\n",
    "- Multi-line statement\n",
    "  - close out the line with line continuation syntax `\\`\n",
    "    ```python\n",
    "    a = 1 + 2 + 3 + \\\n",
    "    4 + 5 + 6 + \\\n",
    "    7 + 8 + 9\n",
    "    ```\n",
    "  - line continuation in (), [], {} is implicit\n",
    "    ```python\n",
    "    a = (1 + 2 + 3 +\n",
    "    4 + 5 + 6 +\n",
    "    7 + 8 + 9)\n",
    "    ```\n",
    "- Line comment, precede with `#`\n",
    "- Multi-line comments, enclose with triple, single or double quotes\n",
    "  ```python\n",
    "   \"\"\"Example of\n",
    "    multi-line comment\"\"\"\n",
    "  ```\n",
    "- Docstrings have the same syntax as multi-line comments but is placed just have the definition of a function, method, class, or module. _Docstrings are associated with the object as their `__doc__` attribute_\n",
    "\n",
    "  ```python\n",
    "  def double(num):\n",
    "      \"\"\"Function to double the value\"\"\"\n",
    "      return 2*num\n",
    "\n",
    "  print(double.__doc__)        # Function to double the value\n",
    "\t```"
   ]
  },
  {
   "cell_type": "markdown",
   "metadata": {},
   "source": [
    "## Literals\n",
    "\n",
    "- Integers: `int`\n",
    "\n",
    "  Integers can be coded as `0b: binary, 0x: hexadecimal, 0o: octal`\n",
    "\n",
    "  ```python\n",
    "  a = 0b1010    #Binary Literals 0b\n",
    "  b = 100       #Decimal Literal\n",
    "  c = 0o310     #Octal Literal 0o\n",
    "  d = 0x12c     #Hexadecimal Literal 0x\n",
    "  ```\n",
    "\n",
    "- Floats: `float`\n",
    "  ```python\n",
    "  float_1 = 10.5\n",
    "  float_2 = 1.5e2\n",
    "  ```\n",
    "- Complex Numbers: data type `complex`\n",
    "  ```python\n",
    "  x = 3.14j\n",
    "  ```\n",
    "\n",
    "### String literals\n",
    "\n",
    "- `String, Character, Multiline, Unicode, Raw`\n",
    "\n",
    "\t```python\n",
    "\tstring = \"string\"\n",
    "\tchar = \"c\"\n",
    "\tmulti = \"\"\"Multiline strings enclosed in triple single or double quotes\"\"\"\n",
    "\tunicode = u\"\\u00dcnic\\u00f6de\"      # Supports chars other than English\n",
    "\traw_str = r\"raw \\n string\"          # directive to ignore escape sequence, don't interpret, as is`\n",
    "\t```"
   ]
  },
  {
   "cell_type": "code",
   "execution_count": 35,
   "metadata": {},
   "outputs": [
    {
     "data": {
      "text/plain": [
       "'Ünicöde'"
      ]
     },
     "execution_count": 35,
     "metadata": {},
     "output_type": "execute_result"
    }
   ],
   "source": [
    "u\"\\u00dcnic\\u00f6de\""
   ]
  },
  {
   "cell_type": "code",
   "execution_count": 36,
   "metadata": {},
   "outputs": [
    {
     "name": "stdout",
     "output_type": "stream",
     "text": [
      "raw \\n string\n"
     ]
    }
   ],
   "source": [
    "print(r\"raw \\n string\")"
   ]
  },
  {
   "cell_type": "markdown",
   "metadata": {},
   "source": [
    "## Data Types\n",
    "\n",
    "Types | Description\n",
    "--- | ---\n",
    "text | str\n",
    "numeric| int, float, complex\n",
    "sequence| list, tuple, range\n",
    "mapping| dict \n",
    "set | set, frozenset\n",
    "boolean | bool\n",
    "binary | bytes, bytearray, memoryview\n",
    "none | NoneType\n",
    "category | category"
   ]
  },
  {
   "cell_type": "markdown",
   "metadata": {},
   "source": [
    "### Check data type\n",
    "\n",
    "\t- type(<object>)                                         => String - name of class  \n",
    "\t- isInstance(<object>, <data type class with no quotes>) => Boolean"
   ]
  },
  {
   "cell_type": "markdown",
   "metadata": {},
   "source": [
    "## Context Managers\n",
    "- Supports the idea of a run-time context\n",
    "- [Context managers Reference](https://docs.python.org/3/reference/datamodel.html#context-managers) \n",
    "- Class version must implement `__enter__` and `__exit__` methods\n",
    "- Function version must use `@contextlib.contextmanager` from "
   ]
  },
  {
   "cell_type": "markdown",
   "metadata": {},
   "source": [
    "### Context manager - function version structure\n",
    "- Square brackets below indicate optional.     \n",
    "\n",
    "\n",
    "- CREATE CONTEXT MANAGER   \n",
    "@contextlib.contextmanager  \n",
    "def some_fn():  \n",
    "\t- setup code    \n",
    "\t- [yield or return `something_that_will_attach_to_variable_name`] \n",
    "\t- teardown code    \n",
    "\n",
    "- USE CONTEXT MANAGER  \n",
    "with `context_manager_fn`() [as `variable_name`]:  \n",
    "\t- run main code here with or without optional `variable_name`\n"
   ]
  },
  {
   "cell_type": "code",
   "execution_count": 37,
   "metadata": {},
   "outputs": [
    {
     "ename": "AttributeError",
     "evalue": "__enter__",
     "output_type": "error",
     "traceback": [
      "\u001b[0;31m---------------------------------------------------------------------------\u001b[0m",
      "\u001b[0;31mAttributeError\u001b[0m                            Traceback (most recent call last)",
      "\u001b[0;32m<ipython-input-37-4c3aff19cb8e>\u001b[0m in \u001b[0;36m<module>\u001b[0;34m\u001b[0m\n\u001b[1;32m      8\u001b[0m \u001b[0;34m\u001b[0m\u001b[0m\n\u001b[1;32m      9\u001b[0m \u001b[0;31m# Use context manager\u001b[0m\u001b[0;34m\u001b[0m\u001b[0;34m\u001b[0m\u001b[0;34m\u001b[0m\u001b[0m\n\u001b[0;32m---> 10\u001b[0;31m \u001b[0;32mwith\u001b[0m \u001b[0mdatabase\u001b[0m \u001b[0;32mas\u001b[0m \u001b[0mdb\u001b[0m\u001b[0;34m:\u001b[0m\u001b[0;34m\u001b[0m\u001b[0;34m\u001b[0m\u001b[0m\n\u001b[0m\u001b[1;32m     11\u001b[0m     \u001b[0mdb\u001b[0m\u001b[0;34m.\u001b[0m\u001b[0mexecute\u001b[0m\u001b[0;34m(\u001b[0m\u001b[0mquery\u001b[0m\u001b[0;34m)\u001b[0m\u001b[0;34m\u001b[0m\u001b[0;34m\u001b[0m\u001b[0m\n\u001b[1;32m     12\u001b[0m     \u001b[0mprint\u001b[0m\u001b[0;34m(\u001b[0m\u001b[0mdb\u001b[0m\u001b[0;34m.\u001b[0m\u001b[0mfetchall\u001b[0m\u001b[0;34m(\u001b[0m\u001b[0;34m)\u001b[0m\u001b[0;34m)\u001b[0m\u001b[0;34m\u001b[0m\u001b[0;34m\u001b[0m\u001b[0m\n",
      "\u001b[0;31mAttributeError\u001b[0m: __enter__"
     ]
    }
   ],
   "source": [
    "# Create context manager\n",
    "import contextlib\n",
    "@contextlib.contextmanager\n",
    "def database(db_path):\n",
    "    db = sqlite3.connect(db_path)\n",
    "    yield db\n",
    "    db.connection.close()\n",
    "\n",
    "# Use context manager\n",
    "with database as db:\n",
    "    db.execute(query)\n",
    "    print(db.fetchall())\n"
   ]
  },
  {
   "cell_type": "code",
   "execution_count": null,
   "metadata": {},
   "outputs": [],
   "source": [
    "# Create context manager\n",
    "@contextlib.contextmanager\n",
    "def timer():\n",
    "  \"\"\"Time the execution of a context block.\n",
    "\n",
    "  Yields:\n",
    "    None\n",
    "  \"\"\"\n",
    "  start = time.time()\n",
    "  # Send control back to the context block\n",
    "  yield None\n",
    "  end = time.time()\n",
    "  print('Elapsed: {:.2f}s'.format(end - start))\n",
    "\n",
    "# Use context manager\n",
    "with timer():\n",
    "  # Run some function\n",
    "  pass"
   ]
  },
  {
   "cell_type": "markdown",
   "metadata": {},
   "source": [
    "### Nested context manager\n",
    "- Use case: read large files"
   ]
  },
  {
   "cell_type": "code",
   "execution_count": null,
   "metadata": {},
   "outputs": [],
   "source": [
    "# Use Case: copy contents of enormous file (too large to fit into memory)\n",
    "with open(src) as f_src:\n",
    "    with open(dst, 'w') as f_dst:\n",
    "        # Read and write each line, one at a time\n",
    "        for line in f_src:\n",
    "            f_dst.write(line)"
   ]
  },
  {
   "cell_type": "markdown",
   "metadata": {},
   "source": [
    "### Handle errors within context manager\n",
    "- Use Case Example\n",
    "    - Many computers use this context manager to connect to a printer\n",
    "\t\t- If context manager throws an error first example code below wouldn't disconnect the printer, leaving the printer unavailable for everyone else\n",
    "\t\t- Second example code adds `try... finally...` to always disconnect the printer even in case of an error"
   ]
  },
  {
   "cell_type": "code",
   "execution_count": null,
   "metadata": {},
   "outputs": [],
   "source": [
    "# Incorrect error handling\n",
    "# In error, the p.disconnect doesn't execute, leaving the printer unavailable for everyone else\n",
    "@contextlib.contextmanager\n",
    "def get_printer(ip):\n",
    "    p = connect_to_printer(ip)\n",
    "    yield p\n",
    "    p.disconnect()\n",
    "\n",
    "with get_printer('invalid_printer_path') as p:\n",
    "    p.run()\n"
   ]
  },
  {
   "cell_type": "code",
   "execution_count": null,
   "metadata": {},
   "outputs": [],
   "source": [
    "# Correct error handling\n",
    "# In error, the p.disconnect always executes - correct error handling\n",
    "@contextlib.contextmanager\n",
    "def get_printer(ip):\n",
    "    p = connect_to_printer(ip)\n",
    "    try:\n",
    "        yield p\n",
    "    # no catch block, error will bubble up or can catch\n",
    "    finally:\n",
    "        p.disconnect()\n",
    "\n",
    "with get_printer('invalid_printer_path') as p:\n",
    "    p.run()"
   ]
  },
  {
   "cell_type": "markdown",
   "metadata": {},
   "source": [
    "### Context Manager uses cases\n",
    "- Context managers especially useful when *REQUIRED* to run code after a code block ends    \n",
    "- Start/Stop\n",
    "- Enter/Exit\n",
    "\t- e.g. file | db connections\n",
    "- Lock/Unlock\n",
    "\t- e.g. resource access\n",
    "- Setup/Teardown\n",
    "\t- e.g. tests"
   ]
  },
  {
   "cell_type": "markdown",
   "metadata": {},
   "source": [
    "## Context managers vs Decorators\n",
    "- Use context managers to abstract away pre-code, post-code functionality and abstract away `try... finally`. IOW, use context managers when required to do something after a code block ends.\n",
    "- Use decorators when required to do something to or with function inputs, outputs, functions themselves or classes when they are defined"
   ]
  },
  {
   "cell_type": "markdown",
   "metadata": {},
   "source": [
    "## Decorators/Closures\n",
    "- Decorators are completely seperate concepts from context managers. \n",
    "- Even though they are seperate concepts, decorators can implement the functionality of context managers\n",
    "- See `Context managers vs Decorators` section for when to use one or the other\n",
    "- Decorators are syntactic sugar for closures. Decorator are closures.\n",
    "- Convention:\n",
    "\t- Outer function get decorator name\n",
    "\t- Inner function named `wrapper`\n",
    "\t\t- The `wrapper` function does not necessarily need to have the same signature (parameters) as the function being decorated\n",
    "- Decorators use nested functions (not nested context managers)\n",
    "\t- Outer function | Enclosing | Wrapper\n",
    "\t- Inner function | Enclosed | wrapped | Closure if uses non-local variables\n",
    "\t\t- Check if closure with `fn.__closure__` Returns tuple or None\n",
    "\t\t\t- Use `fn.__closure__[tuple_idx].cell_contents` to read closure values\n",
    "- Decorators implicitly take one function as an argument and returns a NEW function (the old function is not returned)\n"
   ]
  },
  {
   "cell_type": "markdown",
   "metadata": {},
   "source": [
    "### Decorator factory\n",
    "- Handle arguments passed into a decorator\n",
    "- Decorator Factory is a Decorator that takes explicit arguments in addition to the implicitly passed function\n",
    "\t- Triple layered function definition"
   ]
  },
  {
   "cell_type": "markdown",
   "metadata": {},
   "source": [
    "### Generic Decorator Use Cases\n",
    "- Generic Use Cases \n",
    "\t- When something needs to be done TO a function (e.g. count, log everytime function called)\n",
    "\t- Modify inputs\n",
    "\t- Modify outputs\n",
    "\t- Modify functions themselves\n",
    "\t\t- Add attribute to function object.\n",
    "\t\t- The old function passed to a decorator is never returned instead returns a new version of the old function with modifications.\n",
    "\t\t- Update some kind of registry\n",
    "\t\t- Replace a function altogether"
   ]
  },
  {
   "cell_type": "markdown",
   "metadata": {},
   "source": [
    "### Real Life Decorator Use Cases\n",
    "\n",
    "Use Case | Description\n",
    "--- | ---\n",
    "timer | Add functionality<br>Could also do a logger to log every time a function is used\n",
    "counter | Add attributes to function object | Add functionality and save result to function object as attribute\n",
    "tags() | Add attributes to function object<br>Take args passed to decorator and save to function object as attribute<br> Decorator factory\n",
    "html() | HTML generator<br>Use the arguments passed into decorator in a meaningful way<br>Decorator factory\n",
    "timeout() | Terminate a function if it hangs or takes too long<br>Decorator factory"
   ]
  },
  {
   "cell_type": "code",
   "execution_count": null,
   "metadata": {},
   "outputs": [],
   "source": [
    "# Timer\n",
    "import time\n",
    "from functools import wraps\n",
    "# Create decorator\n",
    "def timer(func):\n",
    "    \"\"\"A decorator that prints how long a function took to run\"\"\"\n",
    "    @wraps(func)\n",
    "    def wrapper(*args, **kwargs):\n",
    "        start = time.time()\n",
    "        result = func(*args, **kwargs)\n",
    "        total = time.time() - start\n",
    "        print(f'{func.__name__} took {total}s')\n",
    "        return result\n",
    "    return wrapper"
   ]
  },
  {
   "cell_type": "code",
   "execution_count": null,
   "metadata": {},
   "outputs": [
    {
     "data": {
      "text/plain": [
       "3"
      ]
     },
     "execution_count": 375,
     "metadata": {},
     "output_type": "execute_result"
    }
   ],
   "source": [
    "# Counter\n",
    "from functools import wraps\n",
    "\n",
    "# Create decorator\n",
    "def counter(func):\n",
    "    \"\"\"Count the number of times a function is called\"\"\"\n",
    "    @wraps(func)\n",
    "    def wrapper(*args, **kwargs):\n",
    "        wrapper.count += 1\n",
    "        return func(*args, **kwargs)\n",
    "    # Add 'count' attribute to any function\n",
    "    wrapper.count = 0  # <-- why not func.count?  B/C old func is not returned. Decorators always return new function which is the function `wrapper` here\n",
    "    return wrapper\n",
    "\n",
    "# Use decorator\n",
    "@counter\n",
    "def add(a, b):\n",
    "    return a + b\n",
    "\n",
    "# Use decorated function\n",
    "add(5, 5)\n",
    "add(5, 5)\n",
    "add(5, 5)\n",
    "add.count"
   ]
  },
  {
   "cell_type": "code",
   "execution_count": null,
   "metadata": {},
   "outputs": [
    {
     "data": {
      "text/plain": [
       "('math', 'function', 'decorated')"
      ]
     },
     "execution_count": 370,
     "metadata": {},
     "output_type": "execute_result"
    }
   ],
   "source": [
    "# Tag functions - Decorator Factory - Handles arguments passed into decorator\n",
    "from functools import wraps\n",
    "\n",
    "# Create decorator factory\n",
    "def tags(*tags):\n",
    "    def decorator(func):\n",
    "        @wraps(func)\n",
    "        def wrapper(*args, **kwargs):\n",
    "            return func(*args, **kwargs)\n",
    "        wrapper.tags = tags  # Add tags (tuple) attribute to any function\n",
    "        return wrapper\n",
    "    return decorator\n",
    "\n",
    "# Use decoratory factory\n",
    "@tags('math', 'function', 'decorated')\n",
    "def add(a, b):\n",
    "    pass\n",
    "\n",
    "# Use decorated function\n",
    "add.tags"
   ]
  },
  {
   "cell_type": "code",
   "execution_count": null,
   "metadata": {},
   "outputs": [
    {
     "data": {
      "text/plain": [
       "'<div><b>Hello River!</b>. Leaving so soon? <i>Goodbye River</i></div>'"
      ]
     },
     "execution_count": 374,
     "metadata": {},
     "output_type": "execute_result"
    }
   ],
   "source": [
    "# HTML generator - Decorator Factory - Handles arguments passed into decorator\n",
    "from functools import wraps\n",
    "\n",
    "# Create decorator factory\n",
    "def html(open_tags, close_tags):\n",
    "    def decorator(func):\n",
    "        def wrapper(*args, **kwargs):\n",
    "            msg = func(*args, **kwargs)\n",
    "            return f'{open_tags}{msg}{close_tags}'\n",
    "        return wrapper\n",
    "    return decorator\n",
    "\n",
    "# Use decorator factory\n",
    "@html('<b>', '</b>')\n",
    "def hello(name):\n",
    "    return f'Hello {name}!'\n",
    "\n",
    "@html('<i>', '</i>')\n",
    "def goodbye(name):\n",
    "    return f'Goodbye {name}.'\n",
    "\n",
    "@html('<div>', '</div>')\n",
    "def hellogoodbye(name):\n",
    "    return f'{hello(name)}. Leaving so soon? {goodbye(name)}'\n",
    "\n",
    "# Use decorated function\n",
    "hello('Margaret')\n",
    "goodbye('Tony')\n",
    "hellogoodbye('River')"
   ]
  },
  {
   "cell_type": "code",
   "execution_count": null,
   "metadata": {},
   "outputs": [],
   "source": [
    "# Timeout - Decorator Factory - Handles arguments passed into decorator\n",
    "from functools import wraps\n",
    "import signal\n",
    "\n",
    "# Create decorator factory\n",
    "def timeout(n_secs):\n",
    "    def decorator(func):\n",
    "        @wraps(func)\n",
    "        def wrapper(*args, **kwargs):\n",
    "            # Request SIGALRM signal be sent in n_secs\n",
    "            signal.alarm(n_secs)\n",
    "            try:\n",
    "                return func(*args, **kwargs)\n",
    "            finally:\n",
    "                # Cancel alarm\n",
    "                signal.alarm(0)\n",
    "            \n",
    "        return wrapper\n",
    "    return decorator"
   ]
  },
  {
   "cell_type": "code",
   "execution_count": null,
   "metadata": {},
   "outputs": [
    {
     "name": "stdout",
     "output_type": "stream",
     "text": [
      "A version: 30\n",
      "B version: 30\n"
     ]
    }
   ],
   "source": [
    "# Decorators - Modify input example\n",
    "# Triple each argument\n",
    "\n",
    "def triple_args(func):\n",
    "    def wrapper(a, b):\n",
    "        return func(a*3, b*3)\n",
    "    return wrapper\n",
    "\n",
    "\n",
    "# A (equivalent to B)\n",
    "@triple_args  # <---- takes one function which is `add` in this case\n",
    "def add(a, b):\n",
    "    return a + b\n",
    "print(f'A version: {add(5, 5)}')\n",
    "\n",
    "\n",
    "# B (equivalent to A)\n",
    "def add(a, b):\n",
    "    return a + b\n",
    "add = triple_args(add)\n",
    "print(f'B version: {add(5, 5)}')"
   ]
  },
  {
   "cell_type": "code",
   "execution_count": null,
   "metadata": {},
   "outputs": [
    {
     "data": {
      "text/plain": [
       "'TRICKED NO TREATS HERE'"
      ]
     },
     "execution_count": 490,
     "metadata": {},
     "output_type": "execute_result"
    }
   ],
   "source": [
    "# Trick or Treat - Modify the function to a completely different function\n",
    "\n",
    "# Create decorator\n",
    "def trickortreat(func):\n",
    "    @wraps(func)\n",
    "    def wrapper(*args, **kwargs):\n",
    "        return 'TRICKED NO TREATS HERE'\n",
    "    return wrapper\n",
    "\n",
    "# Use decorator\n",
    "@trickortreat\n",
    "def add(a, b):\n",
    "    return a + b\n",
    "\n",
    "# Use decorated function\n",
    "add(4, 5)"
   ]
  },
  {
   "cell_type": "markdown",
   "metadata": {},
   "source": [
    "### Preserve meta data (docstrings) on inner functions"
   ]
  },
  {
   "cell_type": "code",
   "execution_count": null,
   "metadata": {},
   "outputs": [
    {
     "name": "stdout",
     "output_type": "stream",
     "text": [
      " \n",
      "    Outer docstring\n",
      "    \n",
      "\n",
      "        Wrapper docstring\n",
      "        \n"
     ]
    }
   ],
   "source": [
    "# Preserve meta data on closures - INCORRECT\n",
    "# Create decorator\n",
    "def triple_args(func):\n",
    "    def wrapper(a, b):\n",
    "        \"\"\"\n",
    "        Wrapper docstring\n",
    "        \"\"\"\n",
    "        return func(a*3, b*3)\n",
    "    return wrapper\n",
    "\n",
    "# Use decorator\n",
    "@triple_args \n",
    "def add(a, b):\n",
    "    \"\"\"\n",
    "    Add docstring\n",
    "    \"\"\"\n",
    "    return a + b\n",
    "\n",
    "# Use decorated function\n",
    "print(add.__doc__)  # should read \"Add docstring\" but doesn't"
   ]
  },
  {
   "cell_type": "code",
   "execution_count": null,
   "metadata": {},
   "outputs": [
    {
     "name": "stdout",
     "output_type": "stream",
     "text": [
      "\n",
      "    Add docstring\n",
      "    \n"
     ]
    }
   ],
   "source": [
    "# Preserve meta data on closures - CORRECT\n",
    "from functools import wraps\n",
    "\n",
    "# Create decorator\n",
    "def triple_args(func):\n",
    "    @wraps(func)  # <---- add this decorator\n",
    "    def wrapper(a, b):\n",
    "        \"\"\"\n",
    "        Wrapper docstring\n",
    "        \"\"\"\n",
    "        return func(a*3, b*3)\n",
    "    return wrapper\n",
    "\n",
    "# Use decorator\n",
    "@triple_args \n",
    "def add(a, b):\n",
    "    \"\"\"\n",
    "    Add docstring\n",
    "    \"\"\"\n",
    "    return a + b\n",
    "\n",
    "# Use decorated function\n",
    "print(add.__doc__)  # Now prints correct docstring"
   ]
  },
  {
   "cell_type": "markdown",
   "metadata": {},
   "source": [
    "## Closures\n",
    "- A Closure is a function object that remembers values in enclosing scopes even if the enclosing functions are not present in memory.  "
   ]
  },
  {
   "cell_type": "markdown",
   "metadata": {},
   "source": [
    "### Closure Use Cases\n",
    "- Factory functions"
   ]
  },
  {
   "cell_type": "code",
   "execution_count": null,
   "metadata": {},
   "outputs": [
    {
     "name": "stdout",
     "output_type": "stream",
     "text": [
      "None\n",
      "5 + 2 = 7\n",
      "None\n",
      "5 - 2 = 3\n",
      "(<cell at 0x7f5d3f352d00: int object at 0x7f5d3f04abb0>,)\n",
      "5 + 2 + extra = 1007\n",
      "(<cell at 0x7f5d3f3523a0: int object at 0x7f5d3f04abb0>,)\n",
      "1000\n",
      "5 - 2 - extra = -997\n"
     ]
    }
   ],
   "source": [
    "# Nested functions example - Use case: function factory\n",
    "\n",
    "# --- NON-CLOSURE EXAMPLE---\n",
    "def create_math_function(func_name):\n",
    "  if func_name == 'add':\n",
    "    def add(a, b):  # Only uses local vars\n",
    "        return a + b\n",
    "    return add\n",
    "  elif func_name == 'subtract':\n",
    "    def subtract(a, b): # Only uses local vars\n",
    "        return a - b\n",
    "    return subtract\n",
    "  else:\n",
    "    print(\"I don't know that one\")\n",
    "    \n",
    "add_fn = create_math_function('add')\n",
    "print(add_fn.__closure__)  # NOT a closure b/c this equals None\n",
    "print('5 + 2 = {}'.format(add_fn(5, 2)))\n",
    "\n",
    "subtract_fn = create_math_function('subtract')\n",
    "print(subtract_fn.__closure__)  # NOT a closure b/c this equals None\n",
    "print('5 - 2 = {}'.format(subtract_fn(5, 2)))\n",
    "\n",
    "\n",
    "# --- CLOSURE EXAMPLE. MODIFY FUNCTION TO ADD/SUB A LITTLE EXTRA ---\n",
    "def create_math_function(func_name):\n",
    "  extra = 1000\n",
    "  if func_name == 'add':\n",
    "    def add(a, b):\n",
    "        return a + b + extra # use nonlocal var\n",
    "    return add\n",
    "  elif func_name == 'subtract':\n",
    "    def subtract(a, b):\n",
    "        return a - b - extra  # use nonlocal var\n",
    "    return subtract\n",
    "  else:\n",
    "    print(\"I don't know that one\")\n",
    "    \n",
    "add_fn = create_math_function('add')\n",
    "print(add_fn.__closure__)  # This is a closure, remembers \"extra\" even though create_math_funcion is no longer in memory\n",
    "print('5 + 2 + extra = {}'.format(add_fn(5, 2)))\n",
    "\n",
    "subtract_fn = create_math_function('subtract')\n",
    "print(subtract_fn.__closure__)  # This is a closure, remembers \"extra\" \n",
    "print(subtract_fn.__closure__[0].cell_contents)  \n",
    "print('5 - 2 - extra = {}'.format(subtract_fn(5, 2)))"
   ]
  },
  {
   "cell_type": "markdown",
   "metadata": {},
   "source": [
    "## Math Operators\n",
    "- Floor division: `//`\n",
    "- Exponents: `**`\n",
    "- modulus: `%`\n",
    "  ```python\n",
    "  a = 15\n",
    "  b = 4\n",
    "  print(a/b)      # 3.75\n",
    "  print( a//b )   # 3       Floor division\n",
    "  print (a % b)   # 3\n",
    "  ```"
   ]
  },
  {
   "cell_type": "markdown",
   "metadata": {},
   "source": [
    "# Perfect Imperfect Math\n",
    "\n",
    "Floating points are implemented in computer hardware as binary fractions as the computer only understands binary. For this reason, most of the decimal fractions we know cannot be accurately stored in our computer. For example, we cannot represent 1/3 as a decimal number. This will give 0.33333... infinitely long and can only be approximated.\n",
    "\n",
    "It turns out the decimal fraction 0.1 will result in an infinitely long binary fraction of 0.000110011001100... and our computer only stores a finite number of it. So our computers can only approximate 0.1. Hence it is hardware limitation and not a Python error that:\n",
    "\n",
    "```python\n",
    "(1.1 + 2.2) == 3.3       # False\n",
    "1.1 + 2.2                # 3.3000000000000003\n",
    "```"
   ]
  },
  {
   "cell_type": "markdown",
   "metadata": {},
   "source": [
    "### Floating Points\n",
    "\n",
    "- To use decimal as we learned in school use the `decimal` module\n",
    "- Use `decimal.Decimal` instead of float in the following situations:\n",
    "  - making financial applications that need exact decimal representation\n",
    "  - want to control the level of precision required\n",
    "  - want to implement the notion of significant decimal places\n",
    "\n",
    "```python\n",
    "from decimal import Decimal\n",
    "#  NOTE THE ARGUMENTS SHOULD BE STRINGS\n",
    "print(Decimal('1.1') + Decimal('2.2'))     # 3.3\n",
    "```\n",
    "\n",
    "### Fractions\n",
    "\n",
    "- `fractions` module has support for rational number arithmetic\n",
    "- Preferred method is to use string arguments for one floating point\n",
    "- Use number argument when explicity stating numerator and denominator as in last example\n",
    "\n",
    "```python\n",
    "import fractions\n",
    "print(fractions.Fraction('1.5'))            # 3/2\n",
    "print(fractions.Fraction('5'))              # 5\n",
    "print(fractions.Fraction(1,3))              # 1/3\n",
    "```"
   ]
  },
  {
   "cell_type": "markdown",
   "metadata": {},
   "source": [
    "## Loops\n",
    "### for... else...\n",
    "### while... else...\n",
    "- Optional `else` block\n",
    "- `else` runs when loop exhausts without a break\n",
    "\n"
   ]
  },
  {
   "cell_type": "code",
   "execution_count": null,
   "metadata": {},
   "outputs": [
    {
     "name": "stdout",
     "output_type": "stream",
     "text": [
      "0\n",
      "1\n",
      "5\n",
      "no items left\n"
     ]
    }
   ],
   "source": [
    "digits = [0, 1, 5]\n",
    "for d in digits:\n",
    "  print(d)\n",
    "else:\n",
    "  print(\"no items left\")"
   ]
  },
  {
   "cell_type": "code",
   "execution_count": null,
   "metadata": {},
   "outputs": [
    {
     "name": "stdout",
     "output_type": "stream",
     "text": [
      "inside loop\n",
      "inside loop\n",
      "inside loop\n",
      "done\n"
     ]
    }
   ],
   "source": [
    "counter = 0\n",
    "while counter < 3:\n",
    "  print(\"inside loop\")\n",
    "  counter += 1\n",
    "else:\n",
    "  print(\"done\")"
   ]
  },
  {
   "cell_type": "markdown",
   "metadata": {},
   "source": [
    "## Functions\n",
    "- Required arguments before optional argument\n",
    "\t- Any argument with a defined default value is an optional argument\n",
    "\t- Postional arguments must be listed before keyword arguments \n",
    "\n",
    "\n",
    "### Recursive Functions\n",
    "\n",
    "- Always define a base condition\n",
    "- Recursive calls can be expensive as they take up a lot of memory and time\n",
    "- Sequence generation is easier with recursion than using some nested iteration\n",
    "\n",
    "### Lambda Functions\n",
    "\n",
    "- Anonymous functions with one expression and NO `return` statement\n",
    "- Any number of arguments\n",
    "- Typically used in higher-order functions i.e. filter(), map()\n",
    "- `lambda <arguments>: <expression>`"
   ]
  },
  {
   "cell_type": "code",
   "execution_count": null,
   "metadata": {},
   "outputs": [
    {
     "data": {
      "text/plain": [
       "[4, 6, 8, 12]"
      ]
     },
     "execution_count": 82,
     "metadata": {},
     "output_type": "execute_result"
    }
   ],
   "source": [
    "my_list = [1, 5, 4, 6, 8, 11, 3, 12]\n",
    "# filter() returns iterator, explicitly convert to list\n",
    "list(filter(lambda x: (x%2 == 0) , my_list))"
   ]
  },
  {
   "cell_type": "markdown",
   "metadata": {},
   "source": [
    "## Packages\n",
    "\n",
    "> A directory (or subdirectoy) is a package (or subpackage) if it includes `__init__.py` file.\n",
    "\n",
    "- The `_init__.py` file can be left empty, *BUT* by convention it contains:\n",
    "\t- initialization code for the package\n",
    "\t- houses all public code\n",
    "\t- imports all public code from same-level files\n",
    "- While importing packages, Python looks in the list of directories defined in `sys.path` similar for module search path\n",
    "- The distinction between module and package seems to hold just at the file system level. The `type(<module>)` and `type(<package>)` is of class `'module'`\n",
    "- Make any pkg installable by definging `setup` function in `setup.py`\n",
    "- Use cookiecutters to easily scaffold a python package\n",
    "\t- e.g. https://github.com/audreyfeldroy/cookiecutter-pypackage"
   ]
  },
  {
   "cell_type": "markdown",
   "metadata": {},
   "source": [
    "### General flow to create package\n",
    "1. Git clone `cookiecutter-name` to quickly scaffold package\n",
    "2. Write tests\n",
    "3. Write source code\n",
    "4. Fill out:\n",
    "\t- README.md\n",
    "\t- setup.py\n",
    "\t- setup.cfg\n",
    "\t- pip freeze > requirements.txt\n",
    "5. [ONLY FOR PYPI] Fill out:\n",
    "\t- Makefile\n",
    "\t- AUTHORS.md\n",
    "\t- HISTORY.md\n",
    "\t- LICENSE\n",
    "\t- CONTRIBUTING.md (if open source)\n",
    "\t- MANIFEST.in\n",
    "6. Run tox and fill out `python_requires` part in setup.py\n",
    "7. Run flake8\n",
    "8. [ONLY FOR PYPI]\n",
    "\t- Run make commands to build distros\n",
    "\t- Create testpypi and/or pypi account \n",
    "\t- Run make commands to upload distro to testpypi or pypi\n",
    "9. install pkg (see below for more info and alternate method)\n",
    "\t- From local pkg: pip install -e `local_pkg_path`\n",
    "\t- Fom testpypi: pip install --index-url `url` --extra-index-url `url` `pkg_name`\n",
    "\t- Fom pypi: pip install `pkg_name`"
   ]
  },
  {
   "cell_type": "markdown",
   "metadata": {},
   "source": [
    "### Install pypi or locally located packages|modules into specific python version\n",
    "- Install *locally located* pkg into specific python version      \n",
    "\t```python\n",
    "\t<path_to_specific_python_version_executable> -m pip install -e <path_to_pkg_outer_dir>\n",
    "\t```\n",
    "- Install *pypi pkg* into specific python version\n",
    "\t```python\n",
    "\t<path_to_specific_python_version_executable> -m pip install <pkgname>\n",
    "\t```\n",
    "- Install *testpypi pkg* into specific python version\n",
    "\t```python\n",
    "\t# CHECK TO MAKE SURE THIS IS CORRECT BEFORE USING\n",
    "\t<path_to_specific_python_version_executable> -m pip install --index-url https://test.pypi.org/simple --extra-index-url https://pypi.org/simple <pkgname>\n",
    "\t```"
   ]
  },
  {
   "cell_type": "markdown",
   "metadata": {},
   "source": [
    "### Freeze all current dependencies\n",
    "- Save specific versions of all dependencies currently used\n",
    "\t```python\n",
    "\tpip freeze > requirements.txt\n",
    "\t```"
   ]
  },
  {
   "cell_type": "markdown",
   "metadata": {},
   "source": [
    "### General package structure. Distributable to pypi.\n",
    "\tmypackage (outer dir with same name)  \n",
    "\t\tmypackage (source code dir)    \n",
    "\t\t\t__init__.py  <---- Best practice to include version:  e.g. __version__='0.1.0'\n",
    "\t\t\tsound\n",
    "\t\t\t\t__init__.py\n",
    "\t\t\t\tload.py\n",
    "\t\t\t\tplay.py\n",
    "\t\t\timage\n",
    "\t\t\t\t__init__.py\n",
    "\t\t\t\topen.py\n",
    "\t\t\t\tclose.py\n",
    "\t\ttests\n",
    "\t\t\t__init__.py\n",
    "\t\t\tsound\n",
    "\t\t\t\t__init__.py\n",
    "\t\t\t\tload.py\n",
    "\t\t\t\tplay.py\n",
    "\t\t\timage\n",
    "\t\t\t\t__init__.py\n",
    "\t\t\t\topen.py\n",
    "\t\t\t\tclose.py\n",
    "\t\tsetup.py  <--- Make any pkg installable by defining setup function here\n",
    "\t\tsetup.cfg\n",
    "\t\ttox.ini\n",
    "\t\tMakefile\n",
    "\t\tLICENSE\n",
    "\t\tCONTRIBUTING.md or .rst\n",
    "\t\tMANIFEST.in\n",
    "\t\t.gitignore\n",
    "\t\tREADME.md or README.rst (reStructureText)\n"
   ]
  },
  {
   "cell_type": "code",
   "execution_count": null,
   "metadata": {},
   "outputs": [],
   "source": [
    "# setup.py\n",
    "# Minimum setup: name, version, description, packages\n",
    "from setuptools import setup, find_packages\n",
    "setup(\n",
    "    author='River',\n",
    "    author_email='',\n",
    "    # package source code url\n",
    "    url='...github.com...',\n",
    "    description='A sample package', \n",
    "    # package name\n",
    "    name='mypackage',  \n",
    "    # include mypackage and it's subpkgs\n",
    "    packages=find_packages(include=['mypackage', 'mypackage.*']),  \n",
    "    # version number used by pip and pypi\n",
    "    version='0.1.0',\n",
    "    # suppored python versions, run tox to figure out which versions are supported\n",
    "    python_requires='>=2.7',\n",
    "    # mypackage depends on the following (make as broad as possible) use lte, gte, not eq\n",
    "    install_requires=[\n",
    "        'pandas>=1.0', \n",
    "        'numpy>=2.2.1'  \n",
    "    ],\n",
    "    extras_require={\n",
    "        'dev': [\n",
    "            'asynctest',\n",
    "            'colorama',\n",
    "            'coverage',\n",
    "            'tox',\n",
    "            'nose',\n",
    "            'pytest',\n",
    "            'pytz',\n",
    "            'sphinx_rtd_theme',\n",
    "            'twine'\n",
    "        ]\n",
    "    },\n",
    "    license='',\n",
    "    # For organization in pypi\n",
    "    keywords='finance trading equities bonds options research',\n",
    "    classifiers=[\n",
    "        'Programming Language :: Python :: 3',\n",
    "        'Programming Language :: Python :: 3.6',\n",
    "        'Programming Language :: Python :: 3.7',\n",
    "        'Programming Language :: Python :: 3.8',\n",
    "        'Natural Language :: English',\n",
    "        'Intended Audience :: Developers',\n",
    "        'License :: OSI Approved :: MIT License',\n",
    "        'Intended Audience :: Developers',\n",
    "        'Development Status :: 4 - Beta',\n",
    "        'Operating System :: OS Independent',\n",
    "        'Topic :: Office/Business :: Financial :: Investment'       \n",
    "    ],\n",
    "    project_urls={\n",
    "        'Documentation': 'https://tda-api.readthedocs.io/en/latest/',\n",
    "        'Source': 'https://github.com/alexgolec/tda-api',\n",
    "        'Tracker': 'https://github.com/alexgolec/tda-api/issues'       \n",
    "    }\n",
    "\n",
    ")"
   ]
  },
  {
   "cell_type": "code",
   "execution_count": null,
   "metadata": {},
   "outputs": [],
   "source": [
    "# setup.cfg (Set flake8 configs in here) (ignore single quotations)\n",
    "# Remember to use least filtering possible. See flake8.ipynb \n",
    "'[flake8]'\n",
    "\n",
    "'ignore = E302'\n",
    "'exclude = setup.py'\n",
    "\n",
    "'per-file-ignores='\n",
    "    'example_package/example_package.py: E222'\n",
    "\n",
    "# tda-api example\n",
    "'[flake8]'\n",
    "'exclude ='\n",
    "'    tests/*'\n",
    "'max-line-length = 80'\n",
    "'max-complexity = 10'"
   ]
  },
  {
   "cell_type": "code",
   "execution_count": null,
   "metadata": {},
   "outputs": [],
   "source": [
    "# tox.ini  (Run pytest with different python versions) (ignore single quotations)\n",
    "# tox configuration file\n",
    "'[tox]'\n",
    "# tox doesn't install python versions, must already have been in system\n",
    "'envlist = py27, py35, py36, py39'\n",
    "\n",
    "'[testenv] '\n",
    "# Add tox dependencies\n",
    "'deps = pytest'\n",
    "'commands = '\n",
    "    'pytest'\n",
    "    'echo \"Add more shell commands\"'\n",
    "\n",
    "\n",
    "# Run tox (navigate to pkg head directory in terminal)\n",
    "'tox'"
   ]
  },
  {
   "cell_type": "code",
   "execution_count": null,
   "metadata": {},
   "outputs": [],
   "source": [
    "# Makefile (List of reusable commands) (ignore quotations)\n",
    "\n",
    "# Build source and wheel distribution files into newly created dist dir\n",
    "'dist:'\n",
    "    'python setup.py sdist bdist_wheel'\n",
    "\n",
    "# Remove build artifacts\n",
    "'clean-build:'\n",
    "    'rm -rf build/'\n",
    "    'rm -rf dist/'\n",
    "    'rm -rf .eggs/'\n",
    "\n",
    "# Need testpypi account\n",
    "# Upload distribution to TestPyPI to try out distro tools and processes\n",
    "'release-test:'\n",
    "    'twine upload -r testpypi dist/*'\n",
    "\n",
    "# Need pypi account\n",
    "# Upload distributions\n",
    "'release:'\n",
    "    'twine upload dist/*'\n",
    "\n",
    "# Run makefile in terminal\n",
    "'make <functionNamefromabove>'\n",
    "\n",
    "# Get summary of all make commands\n",
    "'make help'"
   ]
  },
  {
   "cell_type": "code",
   "execution_count": null,
   "metadata": {},
   "outputs": [],
   "source": [
    "# AUTHORS.md\n",
    "'list of authors'"
   ]
  },
  {
   "cell_type": "code",
   "execution_count": null,
   "metadata": {},
   "outputs": [],
   "source": [
    "# HISTORY.md (structure example) (ignore quotations)\n",
    "\n",
    "# History\n",
    "\n",
    "## 0.3.0\n",
    "### Changed\n",
    "'- something here'\n",
    "\n",
    "## 0.2.1\n",
    "### Fixed\n",
    "'- Fixed some bug causing something'\n",
    "\n",
    "## 0.2.0\n",
    "### Added\n",
    "'- Add something'\n",
    "### Deprecated\n",
    "'- 0.2.x will be the last version to suppor Python 3.5'\n",
    "'- some module renamed....'"
   ]
  },
  {
   "cell_type": "code",
   "execution_count": null,
   "metadata": {},
   "outputs": [],
   "source": [
    "# CONTRIBUTING.md (Memo to devs on how to contribute code if open source license)"
   ]
  },
  {
   "cell_type": "code",
   "execution_count": null,
   "metadata": {},
   "outputs": [],
   "source": [
    "# LICENSE (Should include this to make code shareable, without it pkg is highly restricted)"
   ]
  },
  {
   "cell_type": "code",
   "execution_count": null,
   "metadata": {},
   "outputs": [],
   "source": [
    "# MANIFEST.in (List all extra files to include in pkg distro) (ignore quotations)\n",
    "'include AUTHORS.md'\n",
    "'include LICENSE'\n",
    "'include README.md'\n",
    "'include HISTORY.md'"
   ]
  },
  {
   "cell_type": "markdown",
   "metadata": {},
   "source": [
    "### Package distribution to pypi\n",
    "\n",
    "#### Build distribution\n",
    "- Best practice to upload both source and wheel distros to pypi\n",
    "- Types of distribution (bundled version of pkg)\n",
    "\t- source distribution \n",
    "\t\t- distro pkg whihch is mostly my source code\n",
    "\t\t- sdist\n",
    "\t- wheel distribution (preferred) \n",
    "\t\t- distro pkg which has been processed to make it faster to install\n",
    "\t\t- bdist_wheel\n",
    "- See Makefile notes for commands to build distos\n",
    "\n",
    "#### Upload distribution to pypi\n",
    "- Use `twine` pkg\n",
    "- See Makefile notes for commands to upload distos"
   ]
  },
  {
   "cell_type": "markdown",
   "metadata": {},
   "source": [
    "### Manage Versions\n",
    "- Define `version` attribute in setup.py\n",
    "- Add `__version__='#.#.#'` to top-level `__init__.py`\n",
    "- Use python package `bumpversion` to auto increase version numbers throughout the package"
   ]
  },
  {
   "cell_type": "code",
   "execution_count": null,
   "metadata": {},
   "outputs": [],
   "source": [
    "# python package bumpversion\n",
    "# terminal commands\n",
    "'bumpversion major'\n",
    "'bumpversion minor'\n",
    "'bumpversion patch'"
   ]
  },
  {
   "cell_type": "markdown",
   "metadata": {},
   "source": [
    "## Modules\n",
    "\n",
    "> A `file.py` is a module\n",
    "\n",
    "- At the module level locals() == globals()\n",
    "\n",
    "### Global Variables Across Modules\n",
    "\n",
    "- Create a single module `config.py` to hold global variables and share information across Python modules within the same program\n",
    "\n",
    "### Import Modules\n",
    "\n",
    " While importing a module, Python first looks for a bulit-in module. Then if not found looks at list of directories defined in `sys.path` in this order:\n",
    "\n",
    "  1. current directory\n",
    "  2. `PYTHONPATH` (an env var with a list of directories)\n",
    "  3. installation-dependent default directory\n",
    "\n",
    "### Reload a module\n",
    "\n",
    "- Often used in interactive testing situations where a module in use is changed. Instead of restarting the program just reload the module.\n",
    "- Can only be used if a module has already been imported\n",
    "- `reload()` can be found in the `imp` module\n",
    "\n",
    "### Get name of module\n",
    "\n",
    "- `locals()[\"__file__\"]` Returns name of current module\n",
    "- `<module>.__file__` Return name of file aka module\n",
    "- `locals()[\"__name__\"]` Returns name of current module or '**main**` if the module is directly run\n",
    "- `<module>.__name__` also provides the name of the module ONLY when it is not directly run. i.e. Running `python test.py` in the command line will assign `__name__ = __main__` . When a module is not in direct use and/or is imported into another file the `__name__ = \"test.py\"`"
   ]
  },
  {
   "cell_type": "markdown",
   "metadata": {},
   "source": [
    "## Docstrings\n",
    "- Access docstrings\n",
    "\t```python\n",
    "\thelp(obj)\n",
    "\t```"
   ]
  },
  {
   "cell_type": "markdown",
   "metadata": {},
   "source": [
    "### Autocreate or convert existing docstrings\n",
    "- Create, update, convert docstrings in existing python files with `pyment`\n",
    "\t```python\n",
    "\t# This will create a new file: <path_to_file>.py.path with suggest docstrings\n",
    "\tpyment -o numpydoc <path_to_file>.py\n",
    "\n",
    "\t# Overwrite exising file instead of creating path file\n",
    "\tpyment -w -o numpydoc\n",
    "\t```"
   ]
  }
 ],
 "metadata": {
  "kernelspec": {
   "display_name": "Python 3.8.5 64-bit",
   "language": "python",
   "name": "python3"
  },
  "language_info": {
   "codemirror_mode": {
    "name": "ipython",
    "version": 3
   },
   "file_extension": ".py",
   "mimetype": "text/x-python",
   "name": "python",
   "nbconvert_exporter": "python",
   "pygments_lexer": "ipython3",
   "version": "3.8.10 (default, Jun 22 2022, 20:18:18) \n[GCC 9.4.0]"
  },
  "orig_nbformat": 4,
  "vscode": {
   "interpreter": {
    "hash": "916dbcbb3f70747c44a77c7bcd40155683ae19c65e1c03b4aa3499c5328201f1"
   }
  }
 },
 "nbformat": 4,
 "nbformat_minor": 2
}
