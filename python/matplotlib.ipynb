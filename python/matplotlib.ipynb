{
 "cells": [
  {
   "cell_type": "markdown",
   "metadata": {},
   "source": [
    "# matplotlib\n",
    "> [Main Table of Contents](../README.md)"
   ]
  },
  {
   "cell_type": "markdown",
   "metadata": {},
   "source": [
    "## In this notebook\n",
    "- Pyplot\n",
    "\t- Chart types\n",
    "\t- Chart Type Common Options\n",
    "\t- pyplot methods"
   ]
  },
  {
   "cell_type": "markdown",
   "metadata": {},
   "source": [
    "## pyplot module of matplotlib package\n",
    "- Most used by data scientists"
   ]
  },
  {
   "cell_type": "markdown",
   "metadata": {},
   "source": [
    "### Chart Types\n",
    "\n",
    "Chart Types | Description\n",
    "--- | ---\n",
    ".plot() | Line plot<br>Options: linestyle\n",
    ".scatter() | Scatter plot<br>Options: alpha for opacity 0-1<br>Visualize relationship between values\n",
    ".hist() | Histogram plot<br> Options: density=True (normalizes data 0-1)<br> bins=int<br> range=(min, max)\n",
    ".bar() | Bar Plot\n",
    ".bar(x, y, bottom=y) | Stacked Bar Plot\n",
    ".hbar() | Horizontal Bar"
   ]
  },
  {
   "cell_type": "markdown",
   "metadata": {},
   "source": [
    "### Chart Type Common Options\n",
    "kwargs passed to chart creation methods\n",
    "\n",
    "Option | Type | Description \n",
    " --- | --- | ---\n",
    " label | str | Value used in legend\n",
    " marker | str | Marker type\n",
    " color | str | Color"
   ]
  },
  {
   "cell_type": "markdown",
   "metadata": {},
   "source": [
    "### pyplot methods\n",
    "\n",
    "Methods | Description\n",
    "--- | ---\n",
    ".style.use() | Set before any other methods<br>Import themes<br> Default: 'classic'<br>Options: 'fivethiryeight', 'ggplot', 'seaborn', 'grayscale'\n",
    ".legend() | Show legend<br>Shows the `label` option indicated during chart creation or pass a list[str]\n",
    ".xlabel() | x-axis label\n",
    ".ylabel() | y-axis label\n",
    ".title() | Chart title\n",
    ".text() | Add any text at arbitrary location\n",
    ".xticks() | x-axis ticks\n",
    ".yticks() | y-axis ticks\n",
    ".show() | Show plot\n",
    "\n",
    "\n"
   ]
  },
  {
   "cell_type": "code",
   "execution_count": 1,
   "metadata": {},
   "outputs": [],
   "source": [
    "import matplotlib.pyplot as plt"
   ]
  }
 ],
 "metadata": {
  "kernelspec": {
   "display_name": "Python 3.8.5 64-bit",
   "language": "python",
   "name": "python3"
  },
  "language_info": {
   "codemirror_mode": {
    "name": "ipython",
    "version": 3
   },
   "file_extension": ".py",
   "mimetype": "text/x-python",
   "name": "python",
   "nbconvert_exporter": "python",
   "pygments_lexer": "ipython3",
   "version": "3.8.5"
  },
  "orig_nbformat": 4,
  "vscode": {
   "interpreter": {
    "hash": "916dbcbb3f70747c44a77c7bcd40155683ae19c65e1c03b4aa3499c5328201f1"
   }
  }
 },
 "nbformat": 4,
 "nbformat_minor": 2
}
