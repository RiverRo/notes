{
 "cells": [
  {
   "cell_type": "markdown",
   "metadata": {},
   "source": [
    "# scrapy\n",
    "> [Main Table of Contents](../../README.md)"
   ]
  },
  {
   "cell_type": "markdown",
   "metadata": {},
   "source": [
    "## In This Notebook\n",
    "\n",
    "- scrapy vs beautifulsoup4\n",
    "- Selector for scraping/parsing\n",
    "- Response for crawling/scraping/parsing\n",
    "\t- scrapy flow for crawling/scraping/parsing\n",
    "- xpath gotcha"
   ]
  },
  {
   "cell_type": "markdown",
   "metadata": {},
   "source": [
    "## scrapy vs beautifulsoup4\n",
    "\n",
    "- scrapy contains web crawling, site scraping, site extracting via APIs, parsing functionality\n",
    "- beautifulsoup4 contians parsing functionality"
   ]
  },
  {
   "cell_type": "markdown",
   "metadata": {},
   "source": [
    "## Selector for scraping functionality\n",
    "\n",
    "- Selector Instance Methods\n",
    "\n",
    "\tSelector Instance Method | Description\n",
    "\t--- | ---\n",
    "\t.xpath() | Returns SelectorList\n",
    "\t.css() | Returns SelectorList\n",
    "\n",
    "- SelectorList is a subclass of built-in list\n",
    "- SelectorList Methods\n",
    "\n",
    "\tSelectorList Method | Description\n",
    "\t--- | ---\n",
    "\t.getall() | Returns list of just data<br>Newer version of extract()\n",
    "\t.geta() | Returns str of first data<br>Newer version of extract_first()"
   ]
  },
  {
   "cell_type": "code",
   "execution_count": 22,
   "metadata": {},
   "outputs": [],
   "source": [
    "# Create Selector object\n",
    "from scrapy import Selector\n",
    "\n",
    "html = '''\n",
    "<html>\n",
    "  <head>\n",
    "    <base href='http://example.com/' />\n",
    "    <title>Example website</title>\n",
    "  </head>\n",
    "  <body>\n",
    "    <div id='images'>\n",
    "      <a href='image1.html'>Name: My image 1 <br /><img src='image1_thumb.jpg' alt='image1'/></a>\n",
    "      <a href='image2.html'>Name: My image 2 <br /><img src='image2_thumb.jpg' alt='image2'/></a>\n",
    "      <a href='image3.html'>Name: My image 3 <br /><img src='image3_thumb.jpg' alt='image3'/></a>\n",
    "      <a href='image4.html'>Name: My image 4 <br /><img src='image4_thumb.jpg' alt='image4'/></a>\n",
    "      <a href='image5.html'>Name: My image 5 <br /><img src='image5_thumb.jpg' alt='image5'/></a>\n",
    "    </div>\n",
    "  </body>\n",
    "</html>\n",
    "'''\n",
    "sel = Selector(text=html)"
   ]
  },
  {
   "cell_type": "code",
   "execution_count": 23,
   "metadata": {},
   "outputs": [
    {
     "data": {
      "text/plain": [
       "[]"
      ]
     },
     "execution_count": 23,
     "metadata": {},
     "output_type": "execute_result"
    }
   ],
   "source": [
    "sel.css('html>body>div>br')"
   ]
  },
  {
   "cell_type": "code",
   "execution_count": 24,
   "metadata": {},
   "outputs": [
    {
     "name": "stdout",
     "output_type": "stream",
     "text": [
      "5\n"
     ]
    },
    {
     "data": {
      "text/plain": [
       "'image1'"
      ]
     },
     "execution_count": 24,
     "metadata": {},
     "output_type": "execute_result"
    }
   ],
   "source": [
    "s = sel.css('a')\n",
    "print(len(s))\n",
    "s[0].xpath('./img/@alt').get()"
   ]
  },
  {
   "cell_type": "code",
   "execution_count": 25,
   "metadata": {},
   "outputs": [
    {
     "data": {
      "text/plain": [
       "[<Selector xpath='/html/body/div/a' data='<a href=\"image1.html\">Name: My image ...'>,\n",
       " <Selector xpath='/html/body/div/a' data='<a href=\"image2.html\">Name: My image ...'>,\n",
       " <Selector xpath='/html/body/div/a' data='<a href=\"image3.html\">Name: My image ...'>,\n",
       " <Selector xpath='/html/body/div/a' data='<a href=\"image4.html\">Name: My image ...'>,\n",
       " <Selector xpath='/html/body/div/a' data='<a href=\"image5.html\">Name: My image ...'>]"
      ]
     },
     "execution_count": 25,
     "metadata": {},
     "output_type": "execute_result"
    }
   ],
   "source": [
    "# Returns SelectorList\n",
    "sel.css('html > body > div > a')\n",
    "sel.xpath('/html/body/div/a')"
   ]
  },
  {
   "cell_type": "code",
   "execution_count": 26,
   "metadata": {},
   "outputs": [
    {
     "data": {
      "text/plain": [
       "['<a href=\"image1.html\">Name: My image 1 <br><img src=\"image1_thumb.jpg\" alt=\"image1\"></a>',\n",
       " '<a href=\"image2.html\">Name: My image 2 <br><img src=\"image2_thumb.jpg\" alt=\"image2\"></a>',\n",
       " '<a href=\"image3.html\">Name: My image 3 <br><img src=\"image3_thumb.jpg\" alt=\"image3\"></a>',\n",
       " '<a href=\"image4.html\">Name: My image 4 <br><img src=\"image4_thumb.jpg\" alt=\"image4\"></a>',\n",
       " '<a href=\"image5.html\">Name: My image 5 <br><img src=\"image5_thumb.jpg\" alt=\"image5\"></a>']"
      ]
     },
     "execution_count": 26,
     "metadata": {},
     "output_type": "execute_result"
    }
   ],
   "source": [
    "# Returns list of just data:   getall() == extract()\n",
    "sel.css('html > body > div > a').getall()\n",
    "sel.xpath('/html/body/div/a').getall()  "
   ]
  },
  {
   "cell_type": "code",
   "execution_count": 27,
   "metadata": {},
   "outputs": [
    {
     "data": {
      "text/plain": [
       "'<a href=\"image1.html\">Name: My image 1 <br><img src=\"image1_thumb.jpg\" alt=\"image1\"></a>'"
      ]
     },
     "execution_count": 27,
     "metadata": {},
     "output_type": "execute_result"
    }
   ],
   "source": [
    "# Returns string of first data:   get() == extract_first()\n",
    "sel.css('html > body > div > a').get()\n",
    "sel.xpath('/html/body/div/a').get()"
   ]
  },
  {
   "cell_type": "code",
   "execution_count": 28,
   "metadata": {},
   "outputs": [
    {
     "data": {
      "text/plain": [
       "[<Selector xpath='descendant-or-self::div/a' data='<a href=\"image1.html\">Name: My image ...'>,\n",
       " <Selector xpath='descendant-or-self::div/a' data='<a href=\"image2.html\">Name: My image ...'>,\n",
       " <Selector xpath='descendant-or-self::div/a' data='<a href=\"image3.html\">Name: My image ...'>,\n",
       " <Selector xpath='descendant-or-self::div/a' data='<a href=\"image4.html\">Name: My image ...'>,\n",
       " <Selector xpath='descendant-or-self::div/a' data='<a href=\"image5.html\">Name: My image ...'>]"
      ]
     },
     "execution_count": 28,
     "metadata": {},
     "output_type": "execute_result"
    }
   ],
   "source": [
    "# Chaining between xpath and css\n",
    "sel.xpath('/html/body').css('div > a')"
   ]
  },
  {
   "cell_type": "markdown",
   "metadata": {},
   "source": [
    "## Response for crawling/scraping/parsing\n",
    "- Response object has all the functionality of Selector object with crawling capability.\n",
    "- Request and Response objects are meant to be used in scrapy spider classes.\n",
    "- Selector functionality + the following:\n",
    "\n",
    "Additional functionality | Description\n",
    "--- | ---\n",
    ".follow() | Returns a Request instance to follow a url"
   ]
  },
  {
   "cell_type": "markdown",
   "metadata": {},
   "source": [
    "### scrapy flow for crawling/scraping/parsing\n",
    "\n",
    "1. Instantiate crawling process\n",
    "2. Create and Add spider to process\n",
    " - Subclass `scrapy.Spider`\n",
    " - Override `start_requests` method\n",
    " - Override `parse` callback (default is available)\n",
    "3. Start crawling process"
   ]
  },
  {
   "cell_type": "code",
   "execution_count": 29,
   "metadata": {},
   "outputs": [
    {
     "name": "stderr",
     "output_type": "stream",
     "text": [
      "2022-11-02 12:01:18 [scrapy.utils.log] INFO: Scrapy 2.7.0 started (bot: scrapybot)\n",
      "2022-11-02 12:01:18 [scrapy.utils.log] INFO: Versions: lxml 4.6.2.0, libxml2 2.9.10, cssselect 1.2.0, parsel 1.6.0, w3lib 2.0.1, Twisted 18.9.0, Python 3.8.10 (default, Jun 22 2022, 20:18:18) - [GCC 9.4.0], pyOpenSSL 22.1.0 (OpenSSL 3.0.5 5 Jul 2022), cryptography 38.0.1, Platform Linux-5.10.102.1-microsoft-standard-WSL2-x86_64-with-glibc2.29\n",
      "2022-11-02 12:01:18 [scrapy.crawler] INFO: Overridden settings:\n",
      "{}\n",
      "2022-11-02 12:01:18 [scrapy.utils.log] DEBUG: Using reactor: twisted.internet.epollreactor.EPollReactor\n",
      "2022-11-02 12:01:18 [scrapy.extensions.telnet] INFO: Telnet Password: 8e37dff15e7536a4\n",
      "2022-11-02 12:01:18 [scrapy.middleware] INFO: Enabled extensions:\n",
      "['scrapy.extensions.corestats.CoreStats',\n",
      " 'scrapy.extensions.telnet.TelnetConsole',\n",
      " 'scrapy.extensions.memusage.MemoryUsage',\n",
      " 'scrapy.extensions.logstats.LogStats']\n",
      "2022-11-02 12:01:18 [scrapy.middleware] INFO: Enabled downloader middlewares:\n",
      "['scrapy.downloadermiddlewares.httpauth.HttpAuthMiddleware',\n",
      " 'scrapy.downloadermiddlewares.downloadtimeout.DownloadTimeoutMiddleware',\n",
      " 'scrapy.downloadermiddlewares.defaultheaders.DefaultHeadersMiddleware',\n",
      " 'scrapy.downloadermiddlewares.useragent.UserAgentMiddleware',\n",
      " 'scrapy.downloadermiddlewares.retry.RetryMiddleware',\n",
      " 'scrapy.downloadermiddlewares.redirect.MetaRefreshMiddleware',\n",
      " 'scrapy.downloadermiddlewares.httpcompression.HttpCompressionMiddleware',\n",
      " 'scrapy.downloadermiddlewares.redirect.RedirectMiddleware',\n",
      " 'scrapy.downloadermiddlewares.cookies.CookiesMiddleware',\n",
      " 'scrapy.downloadermiddlewares.httpproxy.HttpProxyMiddleware',\n",
      " 'scrapy.downloadermiddlewares.stats.DownloaderStats']\n",
      "2022-11-02 12:01:18 [scrapy.middleware] INFO: Enabled spider middlewares:\n",
      "['scrapy.spidermiddlewares.httperror.HttpErrorMiddleware',\n",
      " 'scrapy.spidermiddlewares.offsite.OffsiteMiddleware',\n",
      " 'scrapy.spidermiddlewares.referer.RefererMiddleware',\n",
      " 'scrapy.spidermiddlewares.urllength.UrlLengthMiddleware',\n",
      " 'scrapy.spidermiddlewares.depth.DepthMiddleware']\n",
      "2022-11-02 12:01:18 [scrapy.middleware] INFO: Enabled item pipelines:\n",
      "[]\n",
      "2022-11-02 12:01:18 [scrapy.core.engine] INFO: Spider opened\n",
      "2022-11-02 12:01:18 [scrapy.extensions.logstats] INFO: Crawled 0 pages (at 0 pages/min), scraped 0 items (at 0 items/min)\n",
      "2022-11-02 12:01:18 [scrapy.extensions.telnet] INFO: Telnet console listening on 127.0.0.1:6027\n"
     ]
    },
    {
     "ename": "ReactorNotRestartable",
     "evalue": "",
     "output_type": "error",
     "traceback": [
      "\u001b[0;31m---------------------------------------------------------------------------\u001b[0m",
      "\u001b[0;31mReactorNotRestartable\u001b[0m                     Traceback (most recent call last)",
      "\u001b[0;32m<ipython-input-29-a2b5cfdc25de>\u001b[0m in \u001b[0;36m<module>\u001b[0;34m\u001b[0m\n\u001b[1;32m     32\u001b[0m \u001b[0mprocess\u001b[0m\u001b[0;34m.\u001b[0m\u001b[0mcrawl\u001b[0m\u001b[0;34m(\u001b[0m\u001b[0mMySpider\u001b[0m\u001b[0;34m)\u001b[0m\u001b[0;34m\u001b[0m\u001b[0;34m\u001b[0m\u001b[0m\n\u001b[1;32m     33\u001b[0m \u001b[0;31m# Start crawling process\u001b[0m\u001b[0;34m\u001b[0m\u001b[0;34m\u001b[0m\u001b[0;34m\u001b[0m\u001b[0m\n\u001b[0;32m---> 34\u001b[0;31m \u001b[0mprocess\u001b[0m\u001b[0;34m.\u001b[0m\u001b[0mstart\u001b[0m\u001b[0;34m(\u001b[0m\u001b[0;34m)\u001b[0m\u001b[0;34m\u001b[0m\u001b[0;34m\u001b[0m\u001b[0m\n\u001b[0m",
      "\u001b[0;32m~/.local/lib/python3.8/site-packages/scrapy/crawler.py\u001b[0m in \u001b[0;36mstart\u001b[0;34m(self, stop_after_crawl, install_signal_handlers)\u001b[0m\n\u001b[1;32m    361\u001b[0m         \u001b[0mtp\u001b[0m\u001b[0;34m.\u001b[0m\u001b[0madjustPoolsize\u001b[0m\u001b[0;34m(\u001b[0m\u001b[0mmaxthreads\u001b[0m\u001b[0;34m=\u001b[0m\u001b[0mself\u001b[0m\u001b[0;34m.\u001b[0m\u001b[0msettings\u001b[0m\u001b[0;34m.\u001b[0m\u001b[0mgetint\u001b[0m\u001b[0;34m(\u001b[0m\u001b[0;34m'REACTOR_THREADPOOL_MAXSIZE'\u001b[0m\u001b[0;34m)\u001b[0m\u001b[0;34m)\u001b[0m\u001b[0;34m\u001b[0m\u001b[0;34m\u001b[0m\u001b[0m\n\u001b[1;32m    362\u001b[0m         \u001b[0mreactor\u001b[0m\u001b[0;34m.\u001b[0m\u001b[0maddSystemEventTrigger\u001b[0m\u001b[0;34m(\u001b[0m\u001b[0;34m'before'\u001b[0m\u001b[0;34m,\u001b[0m \u001b[0;34m'shutdown'\u001b[0m\u001b[0;34m,\u001b[0m \u001b[0mself\u001b[0m\u001b[0;34m.\u001b[0m\u001b[0mstop\u001b[0m\u001b[0;34m)\u001b[0m\u001b[0;34m\u001b[0m\u001b[0;34m\u001b[0m\u001b[0m\n\u001b[0;32m--> 363\u001b[0;31m         \u001b[0mreactor\u001b[0m\u001b[0;34m.\u001b[0m\u001b[0mrun\u001b[0m\u001b[0;34m(\u001b[0m\u001b[0minstallSignalHandlers\u001b[0m\u001b[0;34m=\u001b[0m\u001b[0;32mFalse\u001b[0m\u001b[0;34m)\u001b[0m  \u001b[0;31m# blocking call\u001b[0m\u001b[0;34m\u001b[0m\u001b[0;34m\u001b[0m\u001b[0m\n\u001b[0m\u001b[1;32m    364\u001b[0m \u001b[0;34m\u001b[0m\u001b[0m\n\u001b[1;32m    365\u001b[0m     \u001b[0;32mdef\u001b[0m \u001b[0m_graceful_stop_reactor\u001b[0m\u001b[0;34m(\u001b[0m\u001b[0mself\u001b[0m\u001b[0;34m)\u001b[0m\u001b[0;34m:\u001b[0m\u001b[0;34m\u001b[0m\u001b[0;34m\u001b[0m\u001b[0m\n",
      "\u001b[0;32m/usr/lib/python3/dist-packages/twisted/internet/base.py\u001b[0m in \u001b[0;36mrun\u001b[0;34m(self, installSignalHandlers)\u001b[0m\n\u001b[1;32m   1264\u001b[0m \u001b[0;34m\u001b[0m\u001b[0m\n\u001b[1;32m   1265\u001b[0m     \u001b[0;32mdef\u001b[0m \u001b[0mrun\u001b[0m\u001b[0;34m(\u001b[0m\u001b[0mself\u001b[0m\u001b[0;34m,\u001b[0m \u001b[0minstallSignalHandlers\u001b[0m\u001b[0;34m=\u001b[0m\u001b[0;32mTrue\u001b[0m\u001b[0;34m)\u001b[0m\u001b[0;34m:\u001b[0m\u001b[0;34m\u001b[0m\u001b[0;34m\u001b[0m\u001b[0m\n\u001b[0;32m-> 1266\u001b[0;31m         \u001b[0mself\u001b[0m\u001b[0;34m.\u001b[0m\u001b[0mstartRunning\u001b[0m\u001b[0;34m(\u001b[0m\u001b[0minstallSignalHandlers\u001b[0m\u001b[0;34m=\u001b[0m\u001b[0minstallSignalHandlers\u001b[0m\u001b[0;34m)\u001b[0m\u001b[0;34m\u001b[0m\u001b[0;34m\u001b[0m\u001b[0m\n\u001b[0m\u001b[1;32m   1267\u001b[0m         \u001b[0mself\u001b[0m\u001b[0;34m.\u001b[0m\u001b[0mmainLoop\u001b[0m\u001b[0;34m(\u001b[0m\u001b[0;34m)\u001b[0m\u001b[0;34m\u001b[0m\u001b[0;34m\u001b[0m\u001b[0m\n\u001b[1;32m   1268\u001b[0m \u001b[0;34m\u001b[0m\u001b[0m\n",
      "\u001b[0;32m/usr/lib/python3/dist-packages/twisted/internet/base.py\u001b[0m in \u001b[0;36mstartRunning\u001b[0;34m(self, installSignalHandlers)\u001b[0m\n\u001b[1;32m   1244\u001b[0m         \"\"\"\n\u001b[1;32m   1245\u001b[0m         \u001b[0mself\u001b[0m\u001b[0;34m.\u001b[0m\u001b[0m_installSignalHandlers\u001b[0m \u001b[0;34m=\u001b[0m \u001b[0minstallSignalHandlers\u001b[0m\u001b[0;34m\u001b[0m\u001b[0;34m\u001b[0m\u001b[0m\n\u001b[0;32m-> 1246\u001b[0;31m         \u001b[0mReactorBase\u001b[0m\u001b[0;34m.\u001b[0m\u001b[0mstartRunning\u001b[0m\u001b[0;34m(\u001b[0m\u001b[0mself\u001b[0m\u001b[0;34m)\u001b[0m\u001b[0;34m\u001b[0m\u001b[0;34m\u001b[0m\u001b[0m\n\u001b[0m\u001b[1;32m   1247\u001b[0m \u001b[0;34m\u001b[0m\u001b[0m\n\u001b[1;32m   1248\u001b[0m \u001b[0;34m\u001b[0m\u001b[0m\n",
      "\u001b[0;32m/usr/lib/python3/dist-packages/twisted/internet/base.py\u001b[0m in \u001b[0;36mstartRunning\u001b[0;34m(self)\u001b[0m\n\u001b[1;32m    752\u001b[0m             \u001b[0;32mraise\u001b[0m \u001b[0merror\u001b[0m\u001b[0;34m.\u001b[0m\u001b[0mReactorAlreadyRunning\u001b[0m\u001b[0;34m(\u001b[0m\u001b[0;34m)\u001b[0m\u001b[0;34m\u001b[0m\u001b[0;34m\u001b[0m\u001b[0m\n\u001b[1;32m    753\u001b[0m         \u001b[0;32mif\u001b[0m \u001b[0mself\u001b[0m\u001b[0;34m.\u001b[0m\u001b[0m_startedBefore\u001b[0m\u001b[0;34m:\u001b[0m\u001b[0;34m\u001b[0m\u001b[0;34m\u001b[0m\u001b[0m\n\u001b[0;32m--> 754\u001b[0;31m             \u001b[0;32mraise\u001b[0m \u001b[0merror\u001b[0m\u001b[0;34m.\u001b[0m\u001b[0mReactorNotRestartable\u001b[0m\u001b[0;34m(\u001b[0m\u001b[0;34m)\u001b[0m\u001b[0;34m\u001b[0m\u001b[0;34m\u001b[0m\u001b[0m\n\u001b[0m\u001b[1;32m    755\u001b[0m         \u001b[0mself\u001b[0m\u001b[0;34m.\u001b[0m\u001b[0m_started\u001b[0m \u001b[0;34m=\u001b[0m \u001b[0;32mTrue\u001b[0m\u001b[0;34m\u001b[0m\u001b[0;34m\u001b[0m\u001b[0m\n\u001b[1;32m    756\u001b[0m         \u001b[0mself\u001b[0m\u001b[0;34m.\u001b[0m\u001b[0m_stopped\u001b[0m \u001b[0;34m=\u001b[0m \u001b[0;32mFalse\u001b[0m\u001b[0;34m\u001b[0m\u001b[0;34m\u001b[0m\u001b[0m\n",
      "\u001b[0;31mReactorNotRestartable\u001b[0m: "
     ]
    }
   ],
   "source": [
    "# Create spider\n",
    "from scrapy import Spider\n",
    "from scrapy.http import Request\n",
    "from scrapy.crawler import CrawlerProcess\n",
    "class MySpider(Spider):\n",
    "    name = 'myspider'\n",
    "\n",
    "    def start_requests(self):\n",
    "        urls = ['https://www.datacamp.com/courses/all']\n",
    "        for url in urls:\n",
    "            yield Request(url=url, callback=self.custom_parse_first)\n",
    "\n",
    "    def custom_parse_first(self, response):\n",
    "        \"\"\"\n",
    "        Parse response object.  \n",
    "        Remember the Response object has same parsing functionality as Selector object, so use xpath, css locators and with get and getall methods to parse and extract data\n",
    "        \"\"\"\n",
    "        parsed = response.xpath('/html/body').css('table#first-table').xpath('.//tr').getall()\n",
    "        print(parsed)\n",
    "        # grab next links\n",
    "        urls = response.xpath('//td[@id=\"additional_data\"]/@href').getall()\n",
    "        for url in urls:\n",
    "            yield response.follow(url, self.custom_parse_next)\n",
    "\n",
    "    def custom_parse_next(self, response):\n",
    "        # and so forth\n",
    "        pass\n",
    "\n",
    "# Instantiate crawling process\n",
    "process = CrawlerProcess()\n",
    "# Add spider to prcoess\n",
    "process.crawl(MySpider)\n",
    "# Start crawling process\n",
    "process.start()"
   ]
  },
  {
   "cell_type": "markdown",
   "metadata": {},
   "source": [
    "## xpath gotcha\n",
    "- When chaining xpath must use `dot/period` to indicate `current` position in subsequent xpath calls"
   ]
  },
  {
   "cell_type": "code",
   "execution_count": null,
   "metadata": {},
   "outputs": [
    {
     "data": {
      "text/plain": [
       "[<Selector xpath='./a' data='<a href=\"image1.html\">Name: My image ...'>,\n",
       " <Selector xpath='./a' data='<a href=\"image2.html\">Name: My image ...'>,\n",
       " <Selector xpath='./a' data='<a href=\"image3.html\">Name: My image ...'>,\n",
       " <Selector xpath='./a' data='<a href=\"image4.html\">Name: My image ...'>,\n",
       " <Selector xpath='./a' data='<a href=\"image5.html\">Name: My image ...'>]"
      ]
     },
     "execution_count": 13,
     "metadata": {},
     "output_type": "execute_result"
    }
   ],
   "source": [
    "# xpath gotcha.  Notice the xpath startingg with dot.\n",
    "sel.xpath('/html').css('body > div').xpath('./a')"
   ]
  }
 ],
 "metadata": {
  "kernelspec": {
   "display_name": "Python 3.8.10 64-bit",
   "language": "python",
   "name": "python3"
  },
  "language_info": {
   "codemirror_mode": {
    "name": "ipython",
    "version": 3
   },
   "file_extension": ".py",
   "mimetype": "text/x-python",
   "name": "python",
   "nbconvert_exporter": "python",
   "pygments_lexer": "ipython3",
   "version": "3.8.10"
  },
  "orig_nbformat": 4,
  "vscode": {
   "interpreter": {
    "hash": "31f2aee4e71d21fbe5cf8b01ff0e069b9275f58929596ceb00d14d90e3e16cd6"
   }
  }
 },
 "nbformat": 4,
 "nbformat_minor": 2
}
