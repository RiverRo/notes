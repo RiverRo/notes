{
 "cells": [
  {
   "cell_type": "markdown",
   "metadata": {},
   "source": [
    "# OOP\n",
    "\n",
    "> [Main Table of Contents](../../README.md)"
   ]
  },
  {
   "cell_type": "markdown",
   "metadata": {},
   "source": [
    "## In This Notebook\n",
    "- OOP concepts\n",
    "\t- APIE\n",
    "\t- Inheritance\n",
    "- Class-level notes\n",
    "\t- Class attributes\n",
    "\t- Class methods\n",
    "- Data Access control\n",
    "\t- Internal attributes\n",
    "\t- Private attributes\n",
    "\t- Properties"
   ]
  },
  {
   "cell_type": "markdown",
   "metadata": {},
   "source": [
    "## OOP Concepts\n",
    "- 'Apple Pie' with Apple abbreviated\n",
    "\n",
    "Concept | Explanation\n",
    "--- | ---\n",
    "Abstraction | Abstract away implementation details<br>One manifestation is to design solid interfaces<br>which means preserve the method name while changing functionality\n",
    "Polymorphism | Any child class can substitute a parent class<br>Works b/c a child class is a broader set than the parent class\n",
    "Inheritance | Extend functionality\n",
    "Encapsulation | Bundle state and behavior"
   ]
  },
  {
   "cell_type": "markdown",
   "metadata": {},
   "source": [
    "### Inheritance\n",
    "- Subclasses start with full functionality (all attr & mthds) of the inherited class, including init\n",
    "\t- Don't need to re-implement init if not changing the signature (parameters)\n",
    "- Override attrs and mthods to modify functionality. Often times will end up calling the parent function of same name\n",
    "\t- When calling parent functions from child need to include an instance object (often `self`) as the first argument or use `super`\n",
    "- Add new attrs and mthods"
   ]
  },
  {
   "cell_type": "code",
   "execution_count": 61,
   "metadata": {},
   "outputs": [
    {
     "data": {
      "text/plain": [
       "700000000"
      ]
     },
     "execution_count": 61,
     "metadata": {},
     "output_type": "execute_result"
    }
   ],
   "source": [
    "class Employee:\n",
    "    def __init__(self, name, salary):\n",
    "        self.name = name \n",
    "        self.salary = salary\n",
    "    def give_raise(self, amount=1000000):\n",
    "        self.salary += amount\n",
    "\n",
    "# THE EASY WAY WITH `super()`\n",
    "class Manager(Employee):\n",
    "    # Don't need to redo init since not changing signature (parameters)\n",
    "    def give_raise(self, amount=1000000, bonus=0):\n",
    "        \"\"\"Override parent method to include bonus\"\"\"\n",
    "        return super().give_raise(amount + bonus)\n",
    "\n",
    "# THE VERBOSE WAY OR WHEN NEED TO PASS IN DIFFERENT OBJECT\n",
    "class Manager(Employee):\n",
    "    # Don't need to redo init since not changing signature (parameters)\n",
    "    def give_raise(self, amount=1000000, bonus=0):\n",
    "        \"\"\"Override parent method to include bonus\"\"\"\n",
    "        # Must pass any obj as first arg! In this case obj must have salary attr since that's what's being modified in the class-level method\n",
    "        return Employee.give_raise(self, amount+bonus) \n",
    "\n",
    "m = Manager('River', 400000000)\n",
    "m.give_raise(300000000)\n",
    "m.salary"
   ]
  },
  {
   "cell_type": "markdown",
   "metadata": {},
   "source": [
    "## Class-level notes\n",
    "- GOTCHA: Avoid confusion between instance-level and class-level attributes by ALWAYS be prefixing class attr with class name, not self\n",
    "\n",
    "### Class Attributes\n",
    "- Access with `CLASSNAME.CLASSATTR`\n",
    "- Class attributes are typically constants shared across all subclasses and their instances\n",
    "\n",
    "### Class Methods\n",
    "- Define with `cls` as first arg instead of `self`\n",
    "- Method must include `@classmethod` decorator\n",
    "- Common use case: alternate constructor\n",
    "- Class methods do *not* have access to instance-level variables"
   ]
  },
  {
   "cell_type": "code",
   "execution_count": 62,
   "metadata": {},
   "outputs": [
    {
     "name": "stdout",
     "output_type": "stream",
     "text": [
      "Without Changes\n",
      "Prefixed by instance:        instance_level\n",
      "Prefixed by class:           class_level\n",
      "\n",
      "Change at class level\n",
      "Prefixed by instance:        instance_level\n",
      "Prefixed by class:           changed_at_class_level_so_instance_level_with_same_name_doesn\"t_see_this\n",
      "\n",
      "Change at instance level\n",
      "Prefixed by instance:        changed_at_instance_level\n",
      "Prefixed by class:           changed_at_class_level_so_instance_level_with_same_name_doesn\"t_see_this\n"
     ]
    }
   ],
   "source": [
    "# GOTCHA: Avoid confusion between instance-level and class-level attributes by ALWAYS be prefixing class attr with class name\n",
    "\n",
    "class Sample(object):\n",
    "    SOMECONST = 'class_level'\n",
    "\n",
    "    def __init__(self) -> None:\n",
    "        # Creates new `SOMECONST` attr on obj instead of using class-level attr\n",
    "        self.SOMECONST  = 'instance_level'\n",
    "\n",
    "    def prnt(self):\n",
    "        print(f'Prefixed by instance:        {self.SOMECONST}')\n",
    "        print(f'Prefixed by class:           {Sample.SOMECONST}') \n",
    "\n",
    "print('Without Changes')\n",
    "s = Sample()\n",
    "s.prnt()\n",
    "print('\\nChange at class level')\n",
    "s = Sample()\n",
    "Sample.SOMECONST = 'changed_at_class_level_so_instance_level_with_same_name_doesn\"t_see_this'\n",
    "s.prnt()\n",
    "print('\\nChange at instance level')\n",
    "s = Sample()\n",
    "s.SOMECONST = 'changed_at_instance_level'\n",
    "s.prnt()"
   ]
  },
  {
   "cell_type": "markdown",
   "metadata": {},
   "source": [
    "## Data Access Control\n",
    "\n",
    "Attribute Type | Description\n",
    "--- | ---\n",
    "Internal | Starts with *underscore*<br>Not part of public API<br>Used for implementation details, helper functions\n",
    "Private | Starts with *double underscore*<br>Use for important attributes that should NEVER be overwritten<br>Pseudo private == Not inherited<br>Main use is to prevent name clashes in inherited classes<br>e.g. obj.\\_\\_attrname == obj.\\_MyClass\\_\\_attrname"
   ]
  },
  {
   "cell_type": "markdown",
   "metadata": {},
   "source": [
    "### Properties\n",
    "1. For all below, First use \"internal\" attr (_attrname) type to store data\n",
    "\n",
    "\tAttribute Type | Description\n",
    "\t--- | ---\n",
    "\tGETTER (read-only) | 2.Use `@property` on method with same name as _attrname but w/o underscore<br>**Don't use redundant `@attrname.getter`\n",
    "\tSETTER | 2.Use `@attrname.setter` on method with same name as _attrname but w/o underscore\n",
    "\tDELETER | 2.Use `@attrname.deleter` on method with same name as _attrname but w/o underscore"
   ]
  },
  {
   "cell_type": "code",
   "execution_count": 63,
   "metadata": {},
   "outputs": [
    {
     "ename": "AttributeError",
     "evalue": "can't set attribute",
     "output_type": "error",
     "traceback": [
      "\u001b[0;31m---------------------------------------------------------------------------\u001b[0m",
      "\u001b[0;31mAttributeError\u001b[0m                            Traceback (most recent call last)",
      "\u001b[0;32m<ipython-input-63-4cc1ffe8ff20>\u001b[0m in \u001b[0;36m<module>\u001b[0;34m\u001b[0m\n\u001b[1;32m     10\u001b[0m \u001b[0;34m\u001b[0m\u001b[0m\n\u001b[1;32m     11\u001b[0m \u001b[0me\u001b[0m \u001b[0;34m=\u001b[0m \u001b[0mEmployee\u001b[0m\u001b[0;34m(\u001b[0m\u001b[0;34m'River'\u001b[0m\u001b[0;34m,\u001b[0m \u001b[0;36m800000000\u001b[0m\u001b[0;34m)\u001b[0m\u001b[0;34m\u001b[0m\u001b[0;34m\u001b[0m\u001b[0m\n\u001b[0;32m---> 12\u001b[0;31m \u001b[0me\u001b[0m\u001b[0;34m.\u001b[0m\u001b[0msalary\u001b[0m \u001b[0;34m=\u001b[0m \u001b[0;36m900000000\u001b[0m  \u001b[0;31m# <--- Read-Only: AttributeError: can't set attribute\u001b[0m\u001b[0;34m\u001b[0m\u001b[0;34m\u001b[0m\u001b[0m\n\u001b[0m",
      "\u001b[0;31mAttributeError\u001b[0m: can't set attribute"
     ]
    }
   ],
   "source": [
    "# READ-ONLY EXAMPLE\n",
    "class Employee:\n",
    "    def __init__(self, name, salary):\n",
    "        self.name = name\n",
    "        self._salary = salary  # <--- 1.\n",
    "\n",
    "    @property\n",
    "    def salary(self):  # <--- 2.\n",
    "        return self._salary\n",
    "\n",
    "e = Employee('River', 800000000)\n",
    "e.salary = 900000000  # <--- Read-Only: AttributeError: can't set attribute"
   ]
  },
  {
   "cell_type": "code",
   "execution_count": null,
   "metadata": {},
   "outputs": [
    {
     "data": {
      "text/plain": [
       "1000000000"
      ]
     },
     "execution_count": 60,
     "metadata": {},
     "output_type": "execute_result"
    }
   ],
   "source": [
    "# GETTER/SETTER/DELETER EXAMPLE\n",
    "class Employee:\n",
    "    def __init__(self, name, salary):\n",
    "        self.name = name\n",
    "        self._salary = salary  # <--- 1.\n",
    "\n",
    "    @property  # read-only\n",
    "    def salary(self):  # <--- 2.\n",
    "        return self._salary\n",
    "\n",
    "    @salary.setter  # add set functionality\n",
    "    def salary(self, new_salary):  # <--- 2.\n",
    "        \"\"\"Typically add bleach here\"\"\"\n",
    "        self._salary = new_salary\n",
    "\n",
    "    @salary.deleter  # add delete functionality\n",
    "    def salary(self):  # <--- 2.\n",
    "        del self._salary\n",
    "\n",
    "e = Employee('River', 800000000)\n",
    "e.salary = 900000000\n",
    "del e.salary\n",
    "e.salary = 1000000000\n",
    "e.salary\n"
   ]
  }
 ],
 "metadata": {
  "kernelspec": {
   "display_name": "Python 3.8.10 64-bit",
   "language": "python",
   "name": "python3"
  },
  "language_info": {
   "codemirror_mode": {
    "name": "ipython",
    "version": 3
   },
   "file_extension": ".py",
   "mimetype": "text/x-python",
   "name": "python",
   "nbconvert_exporter": "python",
   "pygments_lexer": "ipython3",
   "version": "3.8.10"
  },
  "orig_nbformat": 4,
  "vscode": {
   "interpreter": {
    "hash": "31f2aee4e71d21fbe5cf8b01ff0e069b9275f58929596ceb00d14d90e3e16cd6"
   }
  }
 },
 "nbformat": 4,
 "nbformat_minor": 2
}
