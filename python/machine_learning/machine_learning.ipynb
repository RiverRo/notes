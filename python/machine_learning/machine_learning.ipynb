{
 "cells": [
  {
   "attachments": {},
   "cell_type": "markdown",
   "metadata": {},
   "source": [
    "# Machine Learning - General\n",
    "> [Main Table of Contents](../../README.md)"
   ]
  },
  {
   "attachments": {},
   "cell_type": "markdown",
   "metadata": {},
   "source": [
    "## In This Notebook\n",
    "- What is machine learning?\n",
    "- Supervised learning\n",
    "    - Supervised workflow\n",
    "- Unsupervised learning\n",
    "- Fine-tuning model vs. Hypertuning parameters\n",
    "- Vocabulary"
   ]
  },
  {
   "attachments": {},
   "cell_type": "markdown",
   "metadata": {},
   "source": [
    "## What is machine learning?\n",
    "- Machine learning has become the most prevalent subset of articial intelligence\n",
    "- Machine learning makes inferences and predictions based on datasets\n",
    "- 3 board areas of machine learning:\n",
    "    - Reinforcement learning\n",
    "    - Supervised learning\n",
    "    - Unsupervised learning\n",
    "    - Supervised and Unsupervised learning are the more popular of the three"
   ]
  },
  {
   "attachments": {},
   "cell_type": "markdown",
   "metadata": {},
   "source": [
    "## Supervised learning\n",
    "- Given dataset containing features (various data points of an example/input variables) and labels (values of a target variable(s)), learns a mapping between features and labels of a target variable\n",
    "- 2 broad categories of supervised learning:\n",
    "    - Classification\n",
    "        - Uses categorical values\n",
    "        - Apply linear, logistic decision boundary functions \n",
    "        - Performance evaluation often utilizes confusion matrices and associated methods like:\n",
    "            - Accuracy\n",
    "                - Specificity\n",
    "                - Sensivity (Recall in some cases)\n",
    "            - Precision\n",
    "            - Recall\n",
    "            - F1 Score (avg of Recall and Precision)\n",
    "    - Regression\n",
    "        - Uses continuous values\n",
    "        - Apply linear, logistic (non-linear) regression\n",
    "            - sigmoid function is a type of logistic function\n",
    "        - Performance evaluation often utilizes distance\n",
    "            - Root mean squared error\n",
    "            - Mean squared error\n",
    "            - Absolute error"
   ]
  },
  {
   "attachments": {},
   "cell_type": "markdown",
   "metadata": {},
   "source": [
    "### Supervised learing workflow\n",
    "1. Raw data\n",
    "2. Clean data (inspect for bias, outliers, format)\n",
    "3. Split data into train/test\n",
    "4. Train model\n",
    "    - Input training data into ML model to output a trained model\n",
    "5. Evaulate performanace of model (trained model) on test data\n",
    "6. If performance sucks\n",
    "    - Modify the model with techniques like:\n",
    "        - Dimensionality reduction (Modify the dataset)\n",
    "            - Remove obviously irrelevant features\n",
    "            - Correlation: find features that highly correlate and only keep one\n",
    "                - e.g. height and foot size, keep of the two\n",
    "            - Collapse features\n",
    "                - e.g. combine height and weight features into bmi feature\n",
    "        - Hyperparameter tuning (Modify the model)\n",
    "            - Hyperparameters are dataset dependent\n",
    "            - Adjust the hyperparameters for optimal model performance\n",
    "            - There are many methods out there to find optimal hyperparameters, two examples:\n",
    "                - e.g. sklearn.model_selection.RandomizedSearchCV (less comprehensive but effective)\n",
    "                - e.g. sklearn.model_selection.GridSearchCV (comprehensive)\n",
    "        - Ensemble Method\n",
    "            - Use the aggregate value(s) of more than one model\n",
    "    - DR (Dataset manipulation): Reduce features .  Exclude features which are obviously not indicative of the output in any way.  \n",
    "    - HP (Model manipulation): Find the best hyperparameters of models. It is context dependent.  e.g. tuning a instruments/music requires different settings for a heavy metal vs folk music\n",
    "8. Go back to #4. to re-train the modified model"
   ]
  },
  {
   "attachments": {},
   "cell_type": "markdown",
   "metadata": {},
   "source": [
    "## Unsupervised learning\n",
    "- Given dataset that does not contain labels for a target variable(s), unsupervised learning models are able to detect patterns\n",
    "- 3 broad ways of detecting patters:\n",
    "    - Clustering\n",
    "        - Find groupings in data points\n",
    "        - e.g. nearest\n",
    "    - Association\n",
    "        - Find important relationships in data points\n",
    "    - Anamoly detection\n",
    "        - Find outliers in data points\n",
    "- Evaluation of unsupervised learning is not as straightforward and more often would need further investigation/exploration\n"
   ]
  },
  {
   "attachments": {},
   "cell_type": "markdown",
   "metadata": {},
   "source": [
    "## Fine-tuning model vs. Hypertuning parameters\n",
    "- Fine-tuning a model is a terminology used in transfer learning and means re-training a model on more specific datasets.  Transfer learning is the process of using a trained model in one context in another context.  This allows for rapid and accessible, highly functionL models without the need for supercomputers.  The original trained models can run for days and require lots of processing power that only big companies have accces to, so they use their resources to train models on very larget benchmark datasets, which can then be re-trained/fine-tuned on smaller niche datasets\n",
    "    e.g. Google BERT model fine-tuned on financial data to produce FinBERT models\n",
    "- Hypertuning parameters is about configuring hyperparameters of a model.  There are many functions that can automate this process to find the best parameter combinations of a model given the a type of dataset"
   ]
  },
  {
   "attachments": {},
   "cell_type": "markdown",
   "metadata": {},
   "source": [
    "## Vocabulary\n",
    "\n",
    "Term | Definition\n",
    "--- | ---\n",
    "Features | Independent variables<br>Input<br>e.g. Name of columns in a pd.DataFrame\n",
    "Labels | Values of a target variable<br>Dependent variables<br>e.g. Values of the target variable column in a pd.DataFrame\n",
    "Target variable | e.g. Name of result/output/dependent variable column in a pd.DataFrame\n",
    "Training Data | Data used to fit a model<br>Includes both features and labels (aka target in deep learning)\n",
    "Testing Data<br>Validation Data | Data used to measure performance of model<br>Includes both features and labels (aka target in deep learning)\n",
    "Classifer | Type of function that deals with discrete results\n",
    "Regressor | Type of function that delas with continous results\n",
    "Transformer in NLP, CV context (General) | Deep Learning model (based on ANN) that adopts the mechanism of self-attention (differentially weighting significant parts of each data iow: focus more on important parts - depends on context - implemented with gradient descent)<br>Transformer \n",
    "Transformer (Spark) | Abstraction that includes feature transformers and learned models<br>Technically, a Transformer implements a method transform(), which converts one DataFrame into another, generally by appending one or more columns<br>e.g. A type of feature transformer could transform features in text value -> numerical values<br>e.g. A type of learning model could read in a df and output a df with new column with prediction labels\n",
    "Estimator (General) | Any learning algorithm or any algorithm that fits or trains on data<br>The result is a model, which may be accepted or rejected as a representation of reality\n",
    "Estimator (Spark) | Technically, an Estimator implements a method fit(), which accepts a DataFrame and produces a Model, which is a Transformer"
   ]
  }
 ],
 "metadata": {
  "kernelspec": {
   "display_name": "base",
   "language": "python",
   "name": "python3"
  },
  "language_info": {
   "name": "python",
   "version": "3.9.13 (main, Aug 25 2022, 23:26:10) \n[GCC 11.2.0]"
  },
  "orig_nbformat": 4,
  "vscode": {
   "interpreter": {
    "hash": "bb51e4a2804278ab1d9e8b5210e50e693cc3b870a0cac4a9c1f99585a0879fa8"
   }
  }
 },
 "nbformat": 4,
 "nbformat_minor": 2
}
