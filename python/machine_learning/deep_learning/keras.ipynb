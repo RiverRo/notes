{
 "cells": [
  {
   "attachments": {},
   "cell_type": "markdown",
   "metadata": {},
   "source": [
    "# Keras\n",
    "> [Main Table of Contents](../../../README.md)\n",
    "\n",
    "Keras focuses on being modular, user-friendly, and extensible. It doesn’t handle low-level computations; instead, it hands them off to another library called the Backend.\n",
    "- e.g. Keras functions as a wrapper to TensorFlow’s framework. Thus, you can define a model with Keras’ interface, which is easier to use, then drop down into TensorFlow when you need to use a feature that Keras doesn’t have, or you’re looking for specific TensorFlow functionality."
   ]
  },
  {
   "attachments": {},
   "cell_type": "markdown",
   "metadata": {},
   "source": [
    "## In This Notebook\n",
    "\n",
    "- Backend options\n",
    "- General workflow\n",
    "- Regression example\n",
    "- Classification example"
   ]
  },
  {
   "attachments": {},
   "cell_type": "markdown",
   "metadata": {},
   "source": [
    "## Backend options\n",
    "- Tensorflow\n",
    "- Theano"
   ]
  },
  {
   "attachments": {},
   "cell_type": "markdown",
   "metadata": {},
   "source": [
    "## General workflow\n",
    "\n",
    "- Build architecture of model\n",
    "    - Type of model\n",
    "    - Type of layers\n",
    "- Compile the model\n",
    "    - In keras API, specify optimizer, loss functions here\n",
    "- Fit the model\n",
    "- Save the model (if model not used immediately)\n",
    "- Reload the model (if model not used immediately)\n",
    "- Use the model to predict"
   ]
  },
  {
   "attachments": {},
   "cell_type": "markdown",
   "metadata": {},
   "source": [
    "## Regression example"
   ]
  },
  {
   "cell_type": "code",
   "execution_count": 2,
   "metadata": {},
   "outputs": [
    {
     "ename": "ModuleNotFoundError",
     "evalue": "No module named 'tensorflow'",
     "output_type": "error",
     "traceback": [
      "\u001b[0;31m---------------------------------------------------------------------------\u001b[0m",
      "\u001b[0;31mModuleNotFoundError\u001b[0m                       Traceback (most recent call last)",
      "\u001b[0;32m/tmp/ipykernel_448/1249864761.py\u001b[0m in \u001b[0;36m<module>\u001b[0;34m\u001b[0m\n\u001b[1;32m      1\u001b[0m \u001b[0;32mimport\u001b[0m \u001b[0mpandas\u001b[0m \u001b[0;32mas\u001b[0m \u001b[0mpd\u001b[0m\u001b[0;34m\u001b[0m\u001b[0;34m\u001b[0m\u001b[0m\n\u001b[0;32m----> 2\u001b[0;31m \u001b[0;32mfrom\u001b[0m \u001b[0mtensorflow\u001b[0m\u001b[0;34m.\u001b[0m\u001b[0mkeras\u001b[0m\u001b[0;34m.\u001b[0m\u001b[0mlayers\u001b[0m \u001b[0;32mimport\u001b[0m \u001b[0mDense\u001b[0m      \u001b[0;31m# regular ANN. Every previous node connects to the next node\u001b[0m\u001b[0;34m\u001b[0m\u001b[0;34m\u001b[0m\u001b[0m\n\u001b[0m\u001b[1;32m      3\u001b[0m \u001b[0;32mfrom\u001b[0m \u001b[0mtensorflow\u001b[0m\u001b[0;34m.\u001b[0m\u001b[0mkeras\u001b[0m\u001b[0;34m.\u001b[0m\u001b[0mmodels\u001b[0m \u001b[0;32mimport\u001b[0m \u001b[0mSequential\u001b[0m \u001b[0;31m# regular ANN. Previous layer follows next layer in terms of connections. There are other model with very complex connetion schemes\u001b[0m\u001b[0;34m\u001b[0m\u001b[0;34m\u001b[0m\u001b[0m\n\u001b[1;32m      4\u001b[0m \u001b[0;32mfrom\u001b[0m \u001b[0mtensorflow\u001b[0m\u001b[0;34m.\u001b[0m\u001b[0mkeras\u001b[0m\u001b[0;34m.\u001b[0m\u001b[0mutils\u001b[0m \u001b[0;32mimport\u001b[0m \u001b[0mto_categorical\u001b[0m\u001b[0;34m\u001b[0m\u001b[0;34m\u001b[0m\u001b[0m\n\u001b[1;32m      5\u001b[0m \u001b[0;32mfrom\u001b[0m \u001b[0mtensorflow\u001b[0m\u001b[0;34m.\u001b[0m\u001b[0mkeras\u001b[0m\u001b[0;34m.\u001b[0m\u001b[0mcallbacks\u001b[0m \u001b[0;32mimport\u001b[0m \u001b[0mEarlyStopping\u001b[0m\u001b[0;34m\u001b[0m\u001b[0;34m\u001b[0m\u001b[0m\n",
      "\u001b[0;31mModuleNotFoundError\u001b[0m: No module named 'tensorflow'"
     ]
    }
   ],
   "source": [
    "import pandas as pd\n",
    "from tensorflow.keras.layers import Dense      # regular ANN. Every previous node connects to the next node\n",
    "from tensorflow.keras.models import Sequential # regular ANN. Previous layer follows next layer in terms of connections. There are other model with very complex connetion schemes\n",
    "from tensorflow.keras.utils import to_categorical\n",
    "from tensorflow.keras.callbacks import EarlyStopping\n",
    "\n",
    "# Get dataset ready\n",
    "df = pd.DataFrame('somedata')\n",
    "predictors = df.drop('target_column').values         # entire df except target_column\n",
    "target = to_categorical(df['target_column'].values)  # convert to dummy variables\n",
    "number_of_cols = predictors.shape[1]\n",
    "\n",
    "# Build the architecture of model\n",
    "model = Sequential()\n",
    "model.add(Dense(50, activation='relu', input_shape=(number_of_cols,)))  # hidden layer with 50 nodes accepting input layer with input_shape nodes\n",
    "model.add(Dense(32, activation='relu'))                                 # hidden layer with 32 nodes\n",
    "model.add(Dense(2, activation='softmax'))                               # output layer with 2 nodes\n",
    "\n",
    "# Compile the model\n",
    "model.compile(optimizer='adam', loss='mean_squared_error')   # adam is a highly robust optimizer compared to SGD (stochastic gradient descent)\n",
    "\n",
    "# Fit the model\n",
    "early_stopping = EarlyStopping(patience=2)                         # stop running when the model fails to improve for 2 epochs in a row\n",
    "val_split=0.3                                                      # save 30% of dataset for testing/model performance\n",
    "epochs = 30                                                        # default is 10. Can raise since have early_stopping in place\n",
    "model.fit(predictors, target, validation_split=0.3, callbacks=[early_stopping], epochs=epochs)  "
   ]
  },
  {
   "attachments": {},
   "cell_type": "markdown",
   "metadata": {},
   "source": [
    "## Classfication Example"
   ]
  },
  {
   "cell_type": "code",
   "execution_count": null,
   "metadata": {},
   "outputs": [],
   "source": [
    "import pandas as pd\n",
    "from tensorflow.keras.layers import Dense      # regular ANN. Every previous node connects to the next node\n",
    "from tensorflow.keras.models import Sequential # regular ANN. Previous layer follows next layer in terms of connections. There are other model with very complex connetion schemes\n",
    "from tensorflow.keras.utils import to_categorical\n",
    "from tensorflow.keras.callbacks import EarlyStopping\n",
    "\n",
    "# Get dataset ready\n",
    "df = pd.DataFrame('somedata')\n",
    "predictors = df.drop('target_column').values         # entire df except target_column\n",
    "target = to_categorical(df['target_column'].values)  # convert to dummy variables\n",
    "number_of_cols = predictors.shape[1]\n",
    "\n",
    "# Build the architecture of model\n",
    "model = Sequential()\n",
    "model.add(Dense(50, activation='relu', input_shape=(number_of_cols,)))  # hidden layer with 50 nodes accepting input layer with input_shape nodes\n",
    "model.add(Dense(32, activation='relu'))                                 # hidden layer with 32 nodes\n",
    "model.add(Dense(2, activation='softmax'))                               # output layer with 2 nodes\n",
    "\n",
    "# Compile the model\n",
    "model.compile(optimizer='adam', loss='categorical_crossentropy', metrics=['accuracy'])   # adam is a highly robust optimizer compared to SGD (stochastic gradient descent)\n",
    "\n",
    "# Fit the model\n",
    "early_stopping = EarlyStopping(patience=2)                         # stop running when the model fails to improve for 2 epochs in a row\n",
    "val_split=0.3                                                      # save 30% of dataset for testing/model performance\n",
    "epochs = 30                                                        # default is 10. Can raise since have early_stopping in place\n",
    "model.fit(predictors, target, validation_split=0.3, callbacks=[early_stopping], epochs=epochs)  "
   ]
  }
 ],
 "metadata": {
  "kernelspec": {
   "display_name": "base",
   "language": "python",
   "name": "python3"
  },
  "language_info": {
   "codemirror_mode": {
    "name": "ipython",
    "version": 3
   },
   "file_extension": ".py",
   "mimetype": "text/x-python",
   "name": "python",
   "nbconvert_exporter": "python",
   "pygments_lexer": "ipython3",
   "version": "3.9.13"
  },
  "orig_nbformat": 4,
  "vscode": {
   "interpreter": {
    "hash": "bb51e4a2804278ab1d9e8b5210e50e693cc3b870a0cac4a9c1f99585a0879fa8"
   }
  }
 },
 "nbformat": 4,
 "nbformat_minor": 2
}
