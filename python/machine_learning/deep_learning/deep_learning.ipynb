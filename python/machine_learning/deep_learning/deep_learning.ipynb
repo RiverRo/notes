{
 "cells": [
  {
   "attachments": {},
   "cell_type": "markdown",
   "metadata": {},
   "source": [
    "# Deep Learning - General\n",
    "> [Main Table of Contents](../../../README.md)"
   ]
  },
  {
   "attachments": {},
   "cell_type": "markdown",
   "metadata": {},
   "source": [
    "## In This Notebook\n",
    "\n",
    "- What is deep learning?\n",
    "- Neural networks / Artificial neural networks (ANN)\n",
    "- General Workflow (Keras)\n",
    "- Vocabulary"
   ]
  },
  {
   "attachments": {},
   "cell_type": "markdown",
   "metadata": {},
   "source": [
    "## What is deep learning?\n",
    "\n",
    "- Deep learning is a subset of machine learning based on neural networks\n",
    "- Use with very larget datasets; the larger the dataset, the better the performance\n",
    "- Solves Complex problems\n",
    "    - Computer vision, image classification\n",
    "    - Natural Language processing\n",
    "- Needs access to lots of processing power\n",
    "- Does well in inexplicable cases; \n",
    "    - Great at making predictions, not so great in making inferences for the predictions\n",
    "    - General machine learning can make predictions and also make inferences (the possible \"why\"s of predictions)"
   ]
  },
  {
   "attachments": {},
   "cell_type": "markdown",
   "metadata": {},
   "source": [
    "## Neural networks / Artificial neural networks (ANN)\n",
    "\n",
    "- Neural networks are deep learning constructs with artificial neurons / nodes"
   ]
  },
  {
   "attachments": {},
   "cell_type": "markdown",
   "metadata": {},
   "source": [
    "## General Workflow (Keras)\n",
    "- Build architecture of model\n",
    "    - Type of model\n",
    "        - e.g. `tensorflow.keras.model.Sequential()`\n",
    "    - Type of layers\n",
    "        - e.g. `tensorflow.keras.layers.Dense()`\n",
    "- Compile the model\n",
    "    - In keras API, specify optimizer, loss functions here\n",
    "- Fit the model\n",
    "- Save the model (if model not used immediately)\n",
    "- Reload the model (if model not used immediately)\n",
    "- Use the model to predict"
   ]
  },
  {
   "attachments": {},
   "cell_type": "markdown",
   "metadata": {},
   "source": [
    "## Vocabulary\n",
    "\n",
    "Term | Explanation\n",
    "--- | ---\n",
    "Nodes | A node in any node/edge graph<br>A node (other than an input layer node) is a combination of previous nodes, weights, biases, optional activation function\n",
    "Weights | An edge in any node/edge graph<br>Numerical values of edges<br>A parameter of the ANN\n",
    "Input layer | Series of node(s) in first layer<br>Each feature is represented as a node in the input layer\n",
    "Hidden layer(s) | Series of node(s) in any middle layer(s)<br>\n",
    "Output layer | Series of node(s) in the last layer\n",
    "Forward propagation | Process used to determine next node values<br>Use dot product on each layer using the previous node values and the associated weights\n",
    "Backpropagation | Process used to nudge weights closer to target values<br>Uses stochastic gradient descent & gradient descent to find local/global minima to reduce cost function (the function that describes how far current values are from target values)<br>Data in batches uses stochastic gradient descent<br> Data in full is gradient descent<br>Uses derivatives and a more complex formula\n",
    "Activation function | Function used to capture non-linear relationships in the data<br>RELU (rectifier linear unit) function (lambda input: max(0, input)) currently best produces robust networks<br>tanh used to be the sigmoid function of choice\n",
    "Batch | Processing data in segments\n",
    "Epoch | Processing of data in full one time<br>3 epochs == processed the entire dataset 3 times"
   ]
  },
  {
   "cell_type": "markdown",
   "metadata": {},
   "source": []
  }
 ],
 "metadata": {
  "kernelspec": {
   "display_name": "Python 3",
   "language": "python",
   "name": "python3"
  },
  "language_info": {
   "name": "python",
   "version": "3.10.6 (main, Nov 14 2022, 16:10:14) [GCC 11.3.0]"
  },
  "orig_nbformat": 4,
  "vscode": {
   "interpreter": {
    "hash": "31f2aee4e71d21fbe5cf8b01ff0e069b9275f58929596ceb00d14d90e3e16cd6"
   }
  }
 },
 "nbformat": 4,
 "nbformat_minor": 2
}
