{
 "cells": [
  {
   "cell_type": "markdown",
   "metadata": {},
   "source": [
    "# Environment\n",
    "> [Main Table of Contents](../README.md)"
   ]
  },
  {
   "cell_type": "markdown",
   "metadata": {},
   "source": [
    "## In this notebook\n",
    "- Virtual Environments\n",
    "\t- virtualenv library\n",
    "- Manage python versions in WSL with pyenv\n",
    "- Install/Uninstall project dependencies\n",
    "- Freeze list of project dependencies\n",
    "- Run python programs from the command line"
   ]
  },
  {
   "cell_type": "markdown",
   "metadata": {},
   "source": [
    "## Virtual Environments\n",
    "\n",
    "Instead of creating a virtual environment in each project folder. Create a directory called `Environments` that houses all virtual environments for my computer. The advantage is I can activate any virtual environment then cd into any project folder and run the project in that environment. The virtual environments are kept outside the project folders"
   ]
  },
  {
   "cell_type": "markdown",
   "metadata": {},
   "source": [
    "### virtualenv library\n",
    "Set up and use virtual environment in any project  \n",
    "\n",
    "0. Install `virtualenv`\n",
    "\n",
    "\t```\n",
    "\tpip install virtualenv\n",
    "\tpython3 -m pip install virtualenv\n",
    "\t```  \n",
    "\n",
    "1. Create `Environments` and/or cd directory to house all virtual environments for my computer\n",
    "\n",
    "\t```\n",
    "\tmkdir <path>/Environments && cd <path>/Environments\n",
    "\t```  \n",
    "\n",
    "2. Make sure python versions of interest are already installed globally using `pyenv` library (pyenv section)\n",
    "3. Create virtual environment with `virtualenv` (see virtualenv commands section) and specifically referencing pyenv python versions\n",
    "\t```python\n",
    "\t# Create virtualenv with default python version\n",
    "\tvirtualenv <envNameAnyName>\n",
    "\n",
    "\t# Create with specific python version \n",
    "\t# *IMPORTANT*: use pyenv to make sure the python version of interest is already installed\n",
    "\tvirtualenv -p <pathToPyEnvInstalledPythonVersion> <virtualEnvName><pythonVersionNum>\n",
    "\n",
    "\t\te.g. virtualenv -p /home/sportybutton/.pyenv/versions/3.10.2/bin/python vbionic3.10.2\n",
    "\t```  \n",
    "\n",
    "4. Activate the virtual environment (Do not cd into the newly created virtual environment directory, just activate from `Environments` directory)\n",
    "\n",
    "\t```\n",
    "\tsource <pathToVirtualEnvName>/bin/activate\n",
    "\t```  \n",
    "5. cd into project folder, if haven't done so already\n",
    "6. Install project dependencies\n",
    "7. Run the project as normally would run\n",
    "\n",
    "   e.g. python app.py\n",
    "\n",
    "8. Deactivate virtual environment (see virtualenv commands section)\n",
    "\t```\n",
    "\tdeactivate\n",
    "\t```"
   ]
  },
  {
   "cell_type": "markdown",
   "metadata": {},
   "source": [
    "## Manage python versions in WSL with pyenv\n",
    "`pyenv` was installed using homebrew\n",
    "\n",
    "Can install almost any version of python, anaconda, pypi, miniconda, etc"
   ]
  },
  {
   "cell_type": "markdown",
   "metadata": {},
   "source": [
    "```python\n",
    "# See list of versions installed\n",
    "pyenv versions\n",
    "\n",
    "# See list of all versions of python that can be installed\n",
    "pyenv install --list\n",
    "\n",
    "# Install any version\n",
    "pyenv install <versionNum>\n",
    "\n",
    "# Set global python version\n",
    "pyenv global <versionNum>\n",
    "\n",
    "# Set local python version\n",
    "# will not need this. See about using virtualenv below\n",
    "pyenv local <versionNum>\n",
    "```"
   ]
  },
  {
   "cell_type": "markdown",
   "metadata": {},
   "source": [
    "## Install/Uninstall project dependencies\n",
    "\n",
    "```python\n",
    "# from requirements.txt file\n",
    "pip install|uninstall -r <path>/requirements.txt\n",
    "python3 -m pip install|uninstall -r <path>/requirements.txt\n",
    "\n",
    "# individually\n",
    "pip install|uninstall <packageName>\n",
    "```"
   ]
  },
  {
   "cell_type": "markdown",
   "metadata": {},
   "source": [
    "## Freeze list of project dependencies\n",
    "\n",
    "```python\n",
    "# If want to freeze list of virtual environment dependencies, must activate that environment first\n",
    "pip freeze --local > <fileName>.txt\n",
    "\n",
    "\te.g. pip freeze --local > requirements_btm3.8.5.txt\n",
    "```"
   ]
  },
  {
   "cell_type": "markdown",
   "metadata": {},
   "source": [
    "## Run python programs from the command line\n",
    "\n",
    "```python\n",
    "python3 -m <packageName>\n",
    "```"
   ]
  }
 ],
 "metadata": {
  "kernelspec": {
   "display_name": "Python 3.8.5 64-bit",
   "language": "python",
   "name": "python3"
  },
  "language_info": {
   "codemirror_mode": {
    "name": "ipython",
    "version": 3
   },
   "file_extension": ".py",
   "mimetype": "text/x-python",
   "name": "python",
   "nbconvert_exporter": "python",
   "pygments_lexer": "ipython3",
   "version": "3.8.5"
  },
  "orig_nbformat": 4,
  "vscode": {
   "interpreter": {
    "hash": "916dbcbb3f70747c44a77c7bcd40155683ae19c65e1c03b4aa3499c5328201f1"
   }
  }
 },
 "nbformat": 4,
 "nbformat_minor": 2
}
