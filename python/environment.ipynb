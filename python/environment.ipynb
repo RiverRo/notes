{
 "cells": [
  {
   "cell_type": "markdown",
   "metadata": {},
   "source": [
    "# Environment\n",
    "> [Main Table of Contents](../README.md)"
   ]
  },
  {
   "attachments": {},
   "cell_type": "markdown",
   "metadata": {},
   "source": [
    "## In this notebook\n",
    "- Anaconda software distribution\n",
    "- Conda\n",
    "\t- Package manager\n",
    "\t- Virtual environment manager\n",
    "\t- Package manager terminal commands\n",
    "\t- Virtual environment terminal commands\n",
    "\t- Special note on install Java into active virtual environment\n",
    "- Pip\n",
    "\t- Package manager\n",
    "\t- Commands list\n",
    "- Conda vs Pip\n",
    "- Run python programs from the command line"
   ]
  },
  {
   "attachments": {},
   "cell_type": "markdown",
   "metadata": {},
   "source": [
    "## Anaconda software distribution\n",
    "- A Collection of ~350 data science related packages\n",
    "- [All Anaconda releases](https://repo.anaconda.com/archive/)\n",
    "- [Anaconda package repository](https://anaconda.org/)\n",
    "    - [JohnSnowLabs packages](https://anaconda.org/JohnSnowLabs/repo)"
   ]
  },
  {
   "attachments": {},
   "cell_type": "markdown",
   "metadata": {},
   "source": [
    "### Steps to install Anacond in WSL Ubuntu  \n",
    "\n",
    "0. Pick Anaconda release  \n",
    "\n",
    "1. Download Anaconda release into WSL2  \n",
    "    Terminal command | Example\n",
    "    --- | ---\n",
    "    `wget https://repo.anaconda.com/archive/<Anaconda_version_for_64bit_linux>.sh` | `wget https://repo.anaconda.com/archive/Anaconda3-2022.10-Linux-x86_64.sh`    \n",
    "\n",
    "2. Install script  \n",
    "    Terminal command | Example\n",
    "    --- | ---\n",
    "    `bash <Anaconda_version_for_64bit_linux>.sh` | `wget Anaconda3-2022.10-Linux-x86_64.sh`  \n",
    "\n",
    "3. Accept the license and `yes` if it asks to run `conda init`\n",
    "\n",
    "4. Close the terminal and reopen it to reload .bash configs"
   ]
  },
  {
   "attachments": {},
   "cell_type": "markdown",
   "metadata": {},
   "source": [
    "## Conda\n",
    "- Package manager\n",
    "- Virtual environment manager\n",
    "    - Use `conda` virtual environments\n",
    "    - Can easily install any version of python\n",
    "    - Don't have to hassle with `pyenv`, `venv` and trying to get proper file structure to maintain the environments\n",
    "- Bonus: Can pip install into `conda` environments"
   ]
  },
  {
   "attachments": {},
   "cell_type": "markdown",
   "metadata": {},
   "source": [
    "- conda package manager commands  \n",
    "\n",
    "    Terminal commands | Example | Explanation\n",
    "    --- | --- | ---\n",
    "    `conda update conda` || Update conda\n",
    "    `conda env export > <filename>.yml` | `conda env export > my_environment.yml` | Save list of project dependencies to YAML file\n",
    "    "
   ]
  },
  {
   "attachments": {},
   "cell_type": "markdown",
   "metadata": {},
   "source": [
    "- conda virtual environment commands\n",
    "\n",
    "    Terminal commands | Example | Explanation\n",
    "    --- | --- | ---\n",
    "    `conda create -n <env_name> python=<version> -y` | `conda create -n test_project python=3.8.5 -y` | Create new virtual environment for specified python version<br>'-y' tells command line to say 'yes' to all prompts that follow. Time saver.\n",
    "    `conda create -n <env_name> python=<version> <pckg_name>=<version> <pckg_name> ...` | `conda create -n test_project python=3.7 scipy=0.15.0 astroid babel` | Create new virtual environment for specified python version and install additional dependencies\n",
    "    `conda env create -f <filename>.yml` | `conda env create -f environment.yml` | Create new virtual environment from YAML file<br>'-f' stands for filename\n",
    "    `conda env update –f <filename>.yml –n <env_name>` | `conda env update –f environment.yml –n test_project` | Update an environment using a YAML file\n",
    "    `conda env list` | | Get list of virtual environments\n",
    "    `conda activate <env_name>` | `conda activate test_project` | Activate virtual environment\n",
    "    `conda deactivate` | | Deactivate virtual environment\n",
    "    `conda remove --name <env_name> --all` | `conda remove --name test_project --all` | Remove and complete clean the environment\n",
    "    `conda list` || List all installed packages in the active environment\n",
    "    `conda list -n <env_name>` | | List all installed packages in a deactived environment \n",
    "    `conda list <pckg_name>` | `conda list pandas` | Get info on specific package that is installed the active environment"
   ]
  },
  {
   "attachments": {},
   "cell_type": "markdown",
   "metadata": {},
   "source": [
    "- Special note on installing java 8 which is required for spark-related packages\n",
    "\n",
    "    Terminal command | Explanation\n",
    "    --- | --- \n",
    "    `conda install -c conda-forge openjdk=8` | Install java version 8 into the active virtual environment"
   ]
  },
  {
   "attachments": {},
   "cell_type": "markdown",
   "metadata": {},
   "source": [
    "## Pip \n",
    "- Package manager"
   ]
  },
  {
   "attachments": {},
   "cell_type": "markdown",
   "metadata": {},
   "source": [
    "- pip package manager commands  \n",
    "\n",
    "    Terminal commands | Explanation\n",
    "    --- | ---\n",
    "    `pip install\\|uninstall -r <path>/requirements.txt` | Install\\|Uninstall dependencies from requirements.txt file into system python\n",
    "    `pip install\\|uninstall <package_name>` | Install\\|Uninstall one dependency into system python\n",
    "    `<path_specific_python_dir>/python3 -m pip install\\|uninstall -r <path>/requirements.txt` | Install\\|Uninstall dependencies from requirements.txt file into specific python\n",
    "    `<path_specific_python_dir>/python3 -m pip install\\|uninstall <package_name>` | Install\\|Uninstall one dependency into specific python\n",
    "    `pip freeze --local > <fileName>.txt` | Save list of project dependencies to file"
   ]
  },
  {
   "attachments": {},
   "cell_type": "markdown",
   "metadata": {},
   "source": [
    "## conda vs pip\n",
    "- [Article](https://jakevdp.github.io/blog/2016/08/25/conda-myths-and-misconceptions/)"
   ]
  },
  {
   "cell_type": "markdown",
   "metadata": {},
   "source": [
    "## Run python programs from the command line\n",
    "\n",
    "```python\n",
    "python3 -m <packageName>\n",
    "```"
   ]
  }
 ],
 "metadata": {
  "kernelspec": {
   "display_name": "Python 3.8.5 64-bit",
   "language": "python",
   "name": "python3"
  },
  "language_info": {
   "codemirror_mode": {
    "name": "ipython",
    "version": 3
   },
   "file_extension": ".py",
   "mimetype": "text/x-python",
   "name": "python",
   "nbconvert_exporter": "python",
   "pygments_lexer": "ipython3",
   "version": "3.8.5"
  },
  "orig_nbformat": 4,
  "vscode": {
   "interpreter": {
    "hash": "916dbcbb3f70747c44a77c7bcd40155683ae19c65e1c03b4aa3499c5328201f1"
   }
  }
 },
 "nbformat": 4,
 "nbformat_minor": 2
}
