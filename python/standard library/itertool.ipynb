{
 "cells": [
  {
   "cell_type": "markdown",
   "metadata": {},
   "source": [
    "# itertools\n",
    "\n",
    "> [Main Table of Contents](../../README.md)"
   ]
  },
  {
   "cell_type": "markdown",
   "metadata": {},
   "source": [
    "## In This Notebook\n",
    "\n",
    "- combinations\n",
    "- product\n",
    "- repeat"
   ]
  },
  {
   "cell_type": "markdown",
   "metadata": {},
   "source": [
    "## combinations\n",
    "- no repeated elements (e.g. CD == DC)\n",
    "- Returns combination object iterator"
   ]
  },
  {
   "cell_type": "code",
   "execution_count": 3,
   "metadata": {},
   "outputs": [
    {
     "name": "stdout",
     "output_type": "stream",
     "text": [
      "('a', 'b', 'c') ('a', 'b', 'd') ('a', 'b', 'e') ('a', 'c', 'd') ('a', 'c', 'e') ('a', 'd', 'e') ('b', 'c', 'd') ('b', 'c', 'e') ('b', 'd', 'e') ('c', 'd', 'e')\n"
     ]
    }
   ],
   "source": [
    "from itertools import combinations\n",
    "print(*combinations('abcde', 3))"
   ]
  },
  {
   "cell_type": "markdown",
   "metadata": {},
   "source": [
    "## product\n",
    "\n",
    "- cartesian product of 2+ iterables\n",
    "- Returns product object iterator"
   ]
  },
  {
   "cell_type": "code",
   "execution_count": 4,
   "metadata": {},
   "outputs": [
    {
     "name": "stdout",
     "output_type": "stream",
     "text": [
      "('A', 'x') ('A', 'y') ('B', 'x') ('B', 'y') ('C', 'x') ('C', 'y') ('D', 'x') ('D', 'y')\n",
      "('A', 'x', 'e') ('A', 'x', 'f') ('A', 'y', 'e') ('A', 'y', 'f') ('B', 'x', 'e') ('B', 'x', 'f') ('B', 'y', 'e') ('B', 'y', 'f') ('C', 'x', 'e') ('C', 'x', 'f') ('C', 'y', 'e') ('C', 'y', 'f') ('D', 'x', 'e') ('D', 'x', 'f') ('D', 'y', 'e') ('D', 'y', 'f')\n"
     ]
    }
   ],
   "source": [
    "from itertools import product\n",
    "print(*product('ABCD', 'xy'))\n",
    "print(*product('ABCD', 'xy', 'ef'))"
   ]
  },
  {
   "cell_type": "markdown",
   "metadata": {},
   "source": [
    "## repeat\n",
    "- repeat an object r times  (specify r or will run indefinitely and crash)\n",
    "- Returns repeat object"
   ]
  },
  {
   "cell_type": "code",
   "execution_count": 5,
   "metadata": {},
   "outputs": [
    {
     "name": "stdout",
     "output_type": "stream",
     "text": [
      "repeat  repeat  repeat \n"
     ]
    }
   ],
   "source": [
    "from itertools import repeat\n",
    "print(*repeat('repeat ', 3))"
   ]
  }
 ],
 "metadata": {
  "kernelspec": {
   "display_name": "Python 3.8.10 64-bit",
   "language": "python",
   "name": "python3"
  },
  "language_info": {
   "codemirror_mode": {
    "name": "ipython",
    "version": 3
   },
   "file_extension": ".py",
   "mimetype": "text/x-python",
   "name": "python",
   "nbconvert_exporter": "python",
   "pygments_lexer": "ipython3",
   "version": "3.8.10"
  },
  "orig_nbformat": 4,
  "vscode": {
   "interpreter": {
    "hash": "916dbcbb3f70747c44a77c7bcd40155683ae19c65e1c03b4aa3499c5328201f1"
   }
  }
 },
 "nbformat": 4,
 "nbformat_minor": 2
}
