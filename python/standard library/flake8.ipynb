{
 "cells": [
  {
   "cell_type": "markdown",
   "metadata": {},
   "source": [
    "# flake8\n",
    "\n",
    "> [Main Table of Contents](../../README.md)"
   ]
  },
  {
   "cell_type": "markdown",
   "metadata": {},
   "source": [
    "## In This Notebook\n",
    "- What is flake8\n",
    "- Filtering order\n",
    "- Configure \n",
    "- Run "
   ]
  },
  {
   "cell_type": "markdown",
   "metadata": {},
   "source": [
    "## What is flake8\n",
    "- python package that implements pep8 guidlines"
   ]
  },
  {
   "cell_type": "markdown",
   "metadata": {},
   "source": [
    "## Filtering order \n",
    "- Always use least filtering possible\n",
    "- First two are at the source code line\n",
    "\n",
    "1. \\# noqa : \\<code>       (Ignore given code error)\n",
    "2. \\# noqa               \n",
    "3. setup.py -> per-file-ignores\n",
    "4. setup.py -> exclude, ignore"
   ]
  },
  {
   "cell_type": "markdown",
   "metadata": {},
   "source": [
    "## Configure\n",
    "- Config in `setup.cfg`\n",
    "- Remember to use the least filtering possible"
   ]
  },
  {
   "cell_type": "code",
   "execution_count": 4,
   "metadata": {},
   "outputs": [
    {
     "ename": "IndentationError",
     "evalue": "unexpected indent (<ipython-input-4-255e639c1abf>, line 9)",
     "output_type": "error",
     "traceback": [
      "\u001b[0;36m  File \u001b[0;32m\"<ipython-input-4-255e639c1abf>\"\u001b[0;36m, line \u001b[0;32m9\u001b[0m\n\u001b[0;31m    'example_package/example_package.py: E222'\u001b[0m\n\u001b[0m    ^\u001b[0m\n\u001b[0;31mIndentationError\u001b[0m\u001b[0;31m:\u001b[0m unexpected indent\n"
     ]
    }
   ],
   "source": [
    "# Example setup.cfg (ignore quotations)\n",
    "\n",
    "'[flake8]'\n",
    "\n",
    "'ignore = E302'\n",
    "'exclude = setup.py'\n",
    "\n",
    "'per-file-ignores='\n",
    "    'example_package/example_package.py: E222'"
   ]
  },
  {
   "cell_type": "markdown",
   "metadata": {},
   "source": [
    "## Run"
   ]
  },
  {
   "cell_type": "code",
   "execution_count": null,
   "metadata": {},
   "outputs": [],
   "source": [
    "# In terminal (ignore quotations)\n",
    "'flake8 <pkgname> | <modulename>'"
   ]
  }
 ],
 "metadata": {
  "kernelspec": {
   "display_name": "Python 3.8.10 64-bit",
   "language": "python",
   "name": "python3"
  },
  "language_info": {
   "codemirror_mode": {
    "name": "ipython",
    "version": 3
   },
   "file_extension": ".py",
   "mimetype": "text/x-python",
   "name": "python",
   "nbconvert_exporter": "python",
   "pygments_lexer": "ipython3",
   "version": "3.8.10"
  },
  "orig_nbformat": 4,
  "vscode": {
   "interpreter": {
    "hash": "31f2aee4e71d21fbe5cf8b01ff0e069b9275f58929596ceb00d14d90e3e16cd6"
   }
  }
 },
 "nbformat": 4,
 "nbformat_minor": 2
}
