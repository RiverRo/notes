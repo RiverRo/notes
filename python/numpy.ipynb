{
 "cells": [
  {
   "cell_type": "markdown",
   "metadata": {},
   "source": [
    "# Numpy\n",
    "> [Main Table of Contents](../README.md)  \n",
    "\n",
    "numerical python, high performance (vectorization) library\n",
    "- Provides a multi-dimensional array object\n",
    "- Varioius derived objects (i.e. masked arrays and matrices)\n",
    "- Fast Operations\n",
    "\t- Mathematical\n",
    "\t- Logical\n",
    "\t- Shape manipulation\n",
    "\t- Sorting\n",
    "\t- Selecting\n",
    "\t- I/O\n",
    "\t- Discrete Fourier transfomrms\n",
    "\t- Basic linear algebra\n",
    "\t- Basic statsitical operations\n",
    "\t- Random simulation"
   ]
  },
  {
   "cell_type": "markdown",
   "metadata": {},
   "source": [
    "## In this notebook\n",
    "- Numpy Methods\n",
    "\t- Logical Methods\n",
    "\t- Transpose \n",
    "- Arrays\n",
    "\t- Select/Subset arrays.  See [comparisons.ipynb](./comparisons.ipynb)\n",
    "\t- Array Properties\n",
    "\t- Element-wise operations.  Remember this if nothing else.\n",
    "\t- Element-wise iteration of Nd arrays\n",
    "\t- Filter / Mask with boolean arrays\n",
    "\t- Bit-wise Operation\n",
    "- `Random` sub module in numpy (numpy random > standard lib random)"
   ]
  },
  {
   "cell_type": "code",
   "execution_count": 45,
   "metadata": {},
   "outputs": [],
   "source": [
    "import numpy as np"
   ]
  },
  {
   "cell_type": "code",
   "execution_count": 46,
   "metadata": {},
   "outputs": [],
   "source": [
    "# NOTEBOOK DATA\n",
    "my_house = np.array([18.0, 20.0, 10.75, 9.50, 8.74])\n",
    "your_house = np.array([14.0, 24.0, 14.25, 0, 9.0])"
   ]
  },
  {
   "cell_type": "markdown",
   "metadata": {},
   "source": [
    "## Numpy Methods\n",
    "\n",
    "Methods | Description\n",
    "--- | ---\n",
    "np.array(numerical_sequence) | Create new numpy array\n",
    "np.log(numerical_sequence) | Apply natural log to each element\n",
    "np.mean(numerical_sequence) | Returns mean of numerical sequence\n",
    "np.median(numerical_sequence) | Returns median\n",
    "np.std(numerical_sequence) | Returns standard deviation\n",
    "np.sum(numerical_sequence) | Much faster than standard version\n",
    "np.sort(numerical_sequence) | Much faster than standard version\n",
    "np.round(numerical_sequence) | Much faster than standard version\n"
   ]
  },
  {
   "cell_type": "markdown",
   "metadata": {},
   "source": [
    "### Logical Methods\n",
    "Python's `and` `not` `or` `xor` do not work in numpy arrays, use functions below or look into bitwise operators\n",
    "- np.logical_and()\n",
    "- np.logical_not()\n",
    "- np.logcal_or()\n",
    "- np.logcial_xor()"
   ]
  },
  {
   "cell_type": "code",
   "execution_count": 47,
   "metadata": {},
   "outputs": [
    {
     "data": {
      "text/plain": [
       "array([False,  True,  True,  True,  True])"
      ]
     },
     "execution_count": 47,
     "metadata": {},
     "output_type": "execute_result"
    }
   ],
   "source": [
    "np.logical_and(my_house > 17.5, your_house < 11)  # array([ True,  True, False, False, False])\n",
    "np.logical_not(my_house > 17.5, my_house < 10)    # array([False, False,  True,  True,  True])\n",
    "np.logical_or(my_house > 17.5, your_house < 15)   # array([ True,  True,  True,  True,  True])\n",
    "np.logical_xor(my_house > 17.5, your_house < 15)  # array([False, False,  True,  True,  True])"
   ]
  },
  {
   "cell_type": "code",
   "execution_count": 48,
   "metadata": {},
   "outputs": [
    {
     "data": {
      "text/plain": [
       "array([ True,  True, False,  True,  True])"
      ]
     },
     "execution_count": 48,
     "metadata": {},
     "output_type": "execute_result"
    }
   ],
   "source": [
    "(my_house > 17.5)| ( your_house < 11) "
   ]
  },
  {
   "cell_type": "markdown",
   "metadata": {},
   "source": [
    "### Transpose\n",
    "- Matrix transpose"
   ]
  },
  {
   "cell_type": "code",
   "execution_count": 49,
   "metadata": {},
   "outputs": [
    {
     "data": {
      "text/plain": [
       "array([[0, 1, 2],\n",
       "       [3, 4, 5]])"
      ]
     },
     "execution_count": 49,
     "metadata": {},
     "output_type": "execute_result"
    }
   ],
   "source": [
    "x = np.arange(6).reshape(2,3)\n",
    "x"
   ]
  },
  {
   "cell_type": "code",
   "execution_count": 50,
   "metadata": {},
   "outputs": [
    {
     "data": {
      "text/plain": [
       "array([[0, 3],\n",
       "       [1, 4],\n",
       "       [2, 5]])"
      ]
     },
     "execution_count": 50,
     "metadata": {},
     "output_type": "execute_result"
    }
   ],
   "source": [
    "np.transpose(x)"
   ]
  },
  {
   "cell_type": "markdown",
   "metadata": {},
   "source": [
    "## Arrays\n",
    "- Numpy array is a `ndarray` object\n",
    "- Numpy arrays are vectors\n",
    "- Homogenous data types only\n",
    "\t- Hetergenous data types will be coerced\n",
    "- Arrays are fixed size at creation\n",
    "\t- Changing the size of an `ndarray` will create a new array and delete the original\n",
    "- Indexing is ONLY positive numbers"
   ]
  },
  {
   "cell_type": "markdown",
   "metadata": {},
   "source": [
    "### Array Properties\n",
    "\n",
    "Property | Description\n",
    "--- | ---\n",
    ".shape | Returns tuple (num_rows, num_cols)"
   ]
  },
  {
   "cell_type": "markdown",
   "metadata": {},
   "source": [
    "### Element-wise Operations"
   ]
  },
  {
   "cell_type": "code",
   "execution_count": 51,
   "metadata": {},
   "outputs": [
    {
     "data": {
      "text/plain": [
       "array([ True,  True, False, False, False])"
      ]
     },
     "execution_count": 51,
     "metadata": {},
     "output_type": "execute_result"
    }
   ],
   "source": [
    "my_house*2      # array([36.  , 40.  , 21.5 , 19.  , 17.48])  \n",
    "my_house>15     # array([ True,  True, False, False, False])  called boolean array"
   ]
  },
  {
   "cell_type": "markdown",
   "metadata": {},
   "source": [
    "### Element-wise Iteration of Nd arrays\n",
    "\n",
    "```python\n",
    "np.nditer(numpy_array)\n",
    "```"
   ]
  },
  {
   "cell_type": "markdown",
   "metadata": {},
   "source": [
    "### Filter / Mask with boolean arrays\n",
    "iow, access a subset of an array with boolean array"
   ]
  },
  {
   "cell_type": "code",
   "execution_count": 52,
   "metadata": {},
   "outputs": [
    {
     "data": {
      "text/plain": [
       "array([14., 24.])"
      ]
     },
     "execution_count": 52,
     "metadata": {},
     "output_type": "execute_result"
    }
   ],
   "source": [
    "your_house = np.array([14.0, 24.0, 14.25, 0, 9.0])\n",
    "bool_arr = np.array([ True,  True, False, False, False])\n",
    "your_house[bool_arr]  # filtered subset"
   ]
  },
  {
   "cell_type": "markdown",
   "metadata": {},
   "source": [
    "### Bit-wise operations\n"
   ]
  },
  {
   "cell_type": "code",
   "execution_count": 53,
   "metadata": {},
   "outputs": [
    {
     "data": {
      "text/plain": [
       "array([False,  True, False, False, False])"
      ]
     },
     "execution_count": 53,
     "metadata": {},
     "output_type": "execute_result"
    }
   ],
   "source": [
    "my_house = np.array([18.0, 20.0, 10.75, 9.50, 8.74])\n",
    "your_house = np.array([14.0, 24.0, 14.25, 0, 9.0])\n",
    "(my_house > 10) & (your_house < 15)   # array([ True, False,  True, False, False])\n",
    "(my_house > 10) | (your_house < 15)   # array([ True,  True,  True,  True,  True])\n",
    "(my_house > 10) ^ (your_house < 15)   # array([False,  True, False,  True,  True])\n",
    "~(your_house < 15)   # array([False,  True, False, False, False])\n",
    "\n"
   ]
  },
  {
   "cell_type": "markdown",
   "metadata": {},
   "source": [
    "## Random module available as submodule to numpy\n",
    "The numpy `random` module will be better (speed and conciseness) than standard lib `random` in most data science settings\n",
    "- Seeding allows for repoducibility of randomized data"
   ]
  },
  {
   "cell_type": "code",
   "execution_count": 54,
   "metadata": {},
   "outputs": [],
   "source": [
    "np.random.seed(123)  # set seed"
   ]
  },
  {
   "cell_type": "code",
   "execution_count": 55,
   "metadata": {},
   "outputs": [
    {
     "data": {
      "text/plain": [
       "2"
      ]
     },
     "execution_count": 55,
     "metadata": {},
     "output_type": "execute_result"
    }
   ],
   "source": [
    "np.random.rand()           # [0,1)\n",
    "np.random.randint(2, 4)    # [start, end)"
   ]
  }
 ],
 "metadata": {
  "kernelspec": {
   "display_name": "Python 3.8.5 64-bit",
   "language": "python",
   "name": "python3"
  },
  "language_info": {
   "codemirror_mode": {
    "name": "ipython",
    "version": 3
   },
   "file_extension": ".py",
   "mimetype": "text/x-python",
   "name": "python",
   "nbconvert_exporter": "python",
   "pygments_lexer": "ipython3",
   "version": "3.8.5"
  },
  "orig_nbformat": 4,
  "vscode": {
   "interpreter": {
    "hash": "916dbcbb3f70747c44a77c7bcd40155683ae19c65e1c03b4aa3499c5328201f1"
   }
  }
 },
 "nbformat": 4,
 "nbformat_minor": 2
}
