{
 "cells": [
  {
   "attachments": {},
   "cell_type": "markdown",
   "metadata": {},
   "source": [
    "# Selenium\n",
    "\n",
    "> [Table of Contents](../../README.md)"
   ]
  },
  {
   "attachments": {},
   "cell_type": "markdown",
   "metadata": {},
   "source": [
    "## In This Notebook\n",
    "- Troubleshoot\n",
    "- Flow for Selenium 4\n",
    "- Nasdaq site"
   ]
  },
  {
   "attachments": {},
   "cell_type": "markdown",
   "metadata": {},
   "source": [
    "## Troubleshoot\n",
    "- 'Access Denied' help [here](https://stackoverflow.com/questions/33225947/can-a-website-detect-when-you-are-using-selenium-with-chromedriver/52108199#52108199) and [here](https://stackoverflow.com/questions/63972523/selenium-access-denied)\n",
    "- For Nasdaq, Adding all the `add_arguments()` above and removing  \n",
    "`options.add_argument(\"--headless\")` did the trick. Did not need to modify  \n",
    "chromedriver"
   ]
  },
  {
   "attachments": {},
   "cell_type": "markdown",
   "metadata": {},
   "source": [
    "## Flow for Selenium 4\n",
    "```python\n",
    "# Install \n",
    "from selenium.webdriver.chrome.service import Service\n",
    "from selenium import webdriver\n",
    "from selenium.common.exceptions import NoSuchElementException\n",
    "from selenium.webdriver.chrome.options import Options\n",
    "\n",
    "# Config options\n",
    "opts = Options()\n",
    "# headless to use in WSL2\n",
    "opts.add_argument(\"--headless\") # May cause access denied on some sites\n",
    "\n",
    "# Initialize driver\n",
    "service = Service(executable_path=\"/home/sportybutton/drivers/chromedriver.exe\")\n",
    "driver = webdriver.Chrome(service=service, options=opts)\n",
    "\n",
    "# Retrieve page\n",
    "driver.get(\"https://www.selenium.dev/selenium/web/web-form.html\")\n",
    "print('Page title: ' + driver.title)\n",
    "\n",
    "# Parse using xpath or css or other means\n",
    "try:\n",
    "    # element = driver.find_element_by_xpath()\n",
    "    element = driver.find_element_by_css_selector()\n",
    "except NoSuchElementException:\n",
    "    pass\n",
    "\n",
    "# Close out the driver\n",
    "driver.quit()\n",
    "```"
   ]
  },
  {
   "attachments": {},
   "cell_type": "markdown",
   "metadata": {},
   "source": [
    "## Nasdaq site\n",
    "```python\n",
    "# This worked for nasdaq.com\n",
    "# Config and Initialize driver\n",
    "options = Options()\n",
    "options.add_argument(\"start-maximized\")\n",
    "options.add_argument('--disable-blink-features=AutomationControlled')\n",
    "# options.add_argument(\"--headless\")  # NOTE: HEADLESS CAUSES ACCESS DENIED\n",
    "options.add_experimental_option(\"excludeSwitches\", [\"enable-automation\"])\n",
    "options.add_experimental_option('useAutomationExtension', False)\n",
    "service = Service(executable_path=\"/home/sportybutton/drivers/chromedriver.exe\")\n",
    "driver = webdriver.Chrome(service=service, options=options)\n",
    "\n",
    "driver.get(\"https://www.nasdaq.com/market-activity/stocks/tulip/press-releases\")\n",
    "print('Page title: ' +  driver.title)\n",
    "driver.implicit_wait(5)\n",
    "print('Page source:\\n' + driver.page_source)\n",
    "\n",
    "# Parse page\n",
    "try:\n",
    "    # element = driver.find_element(By.XPATH, '')\n",
    "    element = driver.find_element(By.CSS_SELECTOR, '.pagination__pages')\n",
    "    print(element)\n",
    "except NoSuchElementException:\n",
    "    print('nothing here')\n",
    "driver.quit()\n",
    "```"
   ]
  },
  {
   "attachments": {},
   "cell_type": "markdown",
   "metadata": {},
   "source": [
    "### Troubleshoot nasdaq site\n",
    "- Selenium producing incomplete page source\n",
    "\t- Solution: TL:DR; Use either implicit or explicit waits. Do not mix.  \n",
    "\thtml for this site is injected by JS, so scrapy and selenium produce incomplete page sources. With scrapy there isn't a way to get those injections, but selenium mimics a browser and therefore can get injections. But, because selenium is unaware of the status of html DOM, there is a race condition with selenium producing a page source before all html injections were made. The fix is to add a wait. Selenium uses either implicit or explicit waits. Cannot mix these types else unintended consequences."
   ]
  }
 ],
 "metadata": {
  "kernelspec": {
   "display_name": "base",
   "language": "python",
   "name": "python3"
  },
  "language_info": {
   "name": "python",
   "version": "3.10.4 (main, Mar 31 2022, 08:41:55) [GCC 7.5.0]"
  },
  "orig_nbformat": 4,
  "vscode": {
   "interpreter": {
    "hash": "190688d97b25802383ad54a22255d2b296f62f0f8739751da56c7f42037589c9"
   }
  }
 },
 "nbformat": 4,
 "nbformat_minor": 2
}
