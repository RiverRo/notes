{
 "cells": [
  {
   "cell_type": "markdown",
   "metadata": {},
   "source": [
    "# Pandas Methods\n",
    "> [Main Table of Contents](../README.md)"
   ]
  },
  {
   "cell_type": "code",
   "execution_count": 116,
   "metadata": {},
   "outputs": [
    {
     "name": "stdout",
     "output_type": "stream",
     "text": [
      "1.2.0\n"
     ]
    }
   ],
   "source": [
    "import pandas as pd\n",
    "print(pd.__version__)"
   ]
  },
  {
   "cell_type": "code",
   "execution_count": 117,
   "metadata": {},
   "outputs": [],
   "source": [
    "# NOTEBOOK DATA\n",
    "twod_dict = { 'breed': ['Beagle', 'Mixed', 'Lab', 'Lab', 'Corgi'],\n",
    "              'color': ['Brown', 'Brown', 'Black','Black', 'Brown'],\n",
    "           'height': [1, 1.5, 2, 2, 1 ],\n",
    "           'weight': [25, 45, 65, pd.NA, pd.NA]}\n",
    "# labels = ['US', 'RU', 'MO', 'EG', 'CH']\n",
    "df = pd.DataFrame(twod_dict)\n",
    "# df = pd.DataFrame(twod_dict, index=labels)"
   ]
  },
  {
   "cell_type": "markdown",
   "metadata": {},
   "source": [
    "## Series Methods\n",
    "- Remember series is a column  \n",
    "- If it's a df method that means it works on each column of the df\n",
    "\n",
    "Method | DF Method as well? |  Description\n",
    "--- | --- | ---\n",
    ".head() | Yes | Return the first 5 rows\n",
    ".tail() | Yes | Return the last 5 rows\n",
    ".describe() | Yes | Summary stats on columns of numerical type\n",
    ".count() | Yes | Count of all non-NA values\n",
    ".sum() | Yes | Add values\n",
    ".cumsum() | Yes | Cumulatively add values (shows the progression)\n",
    ".mean() | Yes | Average only on columns of numerical type\n",
    ".std() | Yes | Standard deviation only on columns of numerical type\n",
    ".min() | Yes | Minimum value \n",
    ".max() | Yes | Maximum value\n",
    ".diff() | No | Difference between consecutive elements\n",
    ".pct_change() | No | Percent change between consecutive elements\n",
    ".isna() | Yes | Returns boolean series or dataframe\n",
    ".isna().any() | Yes | True if a column contains a NA value, else False<br>Returns boolean for each column\n",
    ".isna().sum() | yes | Total number of NA values per column\n",
    ".fillna() | Yes | Specify how to deal with NA Values\n",
    ".agg() | Yes | Apply one or more CUSTOM functions over the specified axis\n",
    ".drop_duplicates() | Yes | Drop rows with duplicate values in chosen subset\n",
    "~~.values~~<br>.to_numpy() | Yes  |Convert Series of df to numpy array\n"
   ]
  },
  {
   "cell_type": "markdown",
   "metadata": {},
   "source": [
    "### isna"
   ]
  },
  {
   "cell_type": "code",
   "execution_count": 118,
   "metadata": {},
   "outputs": [
    {
     "data": {
      "text/html": [
       "<div>\n",
       "<style scoped>\n",
       "    .dataframe tbody tr th:only-of-type {\n",
       "        vertical-align: middle;\n",
       "    }\n",
       "\n",
       "    .dataframe tbody tr th {\n",
       "        vertical-align: top;\n",
       "    }\n",
       "\n",
       "    .dataframe thead th {\n",
       "        text-align: right;\n",
       "    }\n",
       "</style>\n",
       "<table border=\"1\" class=\"dataframe\">\n",
       "  <thead>\n",
       "    <tr style=\"text-align: right;\">\n",
       "      <th></th>\n",
       "      <th>breed</th>\n",
       "      <th>color</th>\n",
       "      <th>height</th>\n",
       "      <th>weight</th>\n",
       "    </tr>\n",
       "  </thead>\n",
       "  <tbody>\n",
       "    <tr>\n",
       "      <th>0</th>\n",
       "      <td>False</td>\n",
       "      <td>False</td>\n",
       "      <td>False</td>\n",
       "      <td>False</td>\n",
       "    </tr>\n",
       "    <tr>\n",
       "      <th>1</th>\n",
       "      <td>False</td>\n",
       "      <td>False</td>\n",
       "      <td>False</td>\n",
       "      <td>False</td>\n",
       "    </tr>\n",
       "    <tr>\n",
       "      <th>2</th>\n",
       "      <td>False</td>\n",
       "      <td>False</td>\n",
       "      <td>False</td>\n",
       "      <td>False</td>\n",
       "    </tr>\n",
       "    <tr>\n",
       "      <th>3</th>\n",
       "      <td>False</td>\n",
       "      <td>False</td>\n",
       "      <td>False</td>\n",
       "      <td>True</td>\n",
       "    </tr>\n",
       "    <tr>\n",
       "      <th>4</th>\n",
       "      <td>False</td>\n",
       "      <td>False</td>\n",
       "      <td>False</td>\n",
       "      <td>True</td>\n",
       "    </tr>\n",
       "  </tbody>\n",
       "</table>\n",
       "</div>"
      ],
      "text/plain": [
       "   breed  color  height  weight\n",
       "0  False  False   False   False\n",
       "1  False  False   False   False\n",
       "2  False  False   False   False\n",
       "3  False  False   False    True\n",
       "4  False  False   False    True"
      ]
     },
     "execution_count": 118,
     "metadata": {},
     "output_type": "execute_result"
    }
   ],
   "source": [
    "df.isna()"
   ]
  },
  {
   "cell_type": "code",
   "execution_count": 119,
   "metadata": {},
   "outputs": [
    {
     "data": {
      "text/plain": [
       "breed     False\n",
       "color     False\n",
       "height    False\n",
       "weight     True\n",
       "dtype: bool"
      ]
     },
     "execution_count": 119,
     "metadata": {},
     "output_type": "execute_result"
    }
   ],
   "source": [
    "df.isna().any()"
   ]
  },
  {
   "cell_type": "code",
   "execution_count": 120,
   "metadata": {},
   "outputs": [
    {
     "data": {
      "text/plain": [
       "breed     0\n",
       "color     0\n",
       "height    0\n",
       "weight    2\n",
       "dtype: int64"
      ]
     },
     "execution_count": 120,
     "metadata": {},
     "output_type": "execute_result"
    }
   ],
   "source": [
    "df.isna().sum()"
   ]
  },
  {
   "cell_type": "markdown",
   "metadata": {},
   "source": [
    "### fillna\n",
    "Options | Default | Description\n",
    "--- | --- | ---\n",
    "method | None | One of 'backfill', 'bfill', 'pad', 'ffill'"
   ]
  },
  {
   "cell_type": "code",
   "execution_count": 121,
   "metadata": {},
   "outputs": [
    {
     "data": {
      "text/html": [
       "<div>\n",
       "<style scoped>\n",
       "    .dataframe tbody tr th:only-of-type {\n",
       "        vertical-align: middle;\n",
       "    }\n",
       "\n",
       "    .dataframe tbody tr th {\n",
       "        vertical-align: top;\n",
       "    }\n",
       "\n",
       "    .dataframe thead th {\n",
       "        text-align: right;\n",
       "    }\n",
       "</style>\n",
       "<table border=\"1\" class=\"dataframe\">\n",
       "  <thead>\n",
       "    <tr style=\"text-align: right;\">\n",
       "      <th></th>\n",
       "      <th>breed</th>\n",
       "      <th>color</th>\n",
       "      <th>height</th>\n",
       "      <th>weight</th>\n",
       "    </tr>\n",
       "  </thead>\n",
       "  <tbody>\n",
       "    <tr>\n",
       "      <th>0</th>\n",
       "      <td>Beagle</td>\n",
       "      <td>Brown</td>\n",
       "      <td>1.0</td>\n",
       "      <td>25</td>\n",
       "    </tr>\n",
       "    <tr>\n",
       "      <th>1</th>\n",
       "      <td>Mixed</td>\n",
       "      <td>Brown</td>\n",
       "      <td>1.5</td>\n",
       "      <td>45</td>\n",
       "    </tr>\n",
       "    <tr>\n",
       "      <th>2</th>\n",
       "      <td>Lab</td>\n",
       "      <td>Black</td>\n",
       "      <td>2.0</td>\n",
       "      <td>65</td>\n",
       "    </tr>\n",
       "    <tr>\n",
       "      <th>3</th>\n",
       "      <td>Lab</td>\n",
       "      <td>Black</td>\n",
       "      <td>2.0</td>\n",
       "      <td>&lt;NA&gt;</td>\n",
       "    </tr>\n",
       "    <tr>\n",
       "      <th>4</th>\n",
       "      <td>Corgi</td>\n",
       "      <td>Brown</td>\n",
       "      <td>1.0</td>\n",
       "      <td>&lt;NA&gt;</td>\n",
       "    </tr>\n",
       "  </tbody>\n",
       "</table>\n",
       "</div>"
      ],
      "text/plain": [
       "    breed  color  height weight\n",
       "0  Beagle  Brown     1.0     25\n",
       "1   Mixed  Brown     1.5     45\n",
       "2     Lab  Black     2.0     65\n",
       "3     Lab  Black     2.0   <NA>\n",
       "4   Corgi  Brown     1.0   <NA>"
      ]
     },
     "execution_count": 121,
     "metadata": {},
     "output_type": "execute_result"
    }
   ],
   "source": [
    "df.fillna('hello')  # fill with the word hello\n",
    "df.fillna(0)\n",
    "df.fillna(method ='bfill')"
   ]
  },
  {
   "cell_type": "markdown",
   "metadata": {},
   "source": [
    "### agg\n",
    "- Apply CUSTOM functions\n",
    "- .agg is alias for .aggregate\n",
    "- Use .agg"
   ]
  },
  {
   "cell_type": "code",
   "execution_count": 122,
   "metadata": {},
   "outputs": [
    {
     "data": {
      "text/html": [
       "<div>\n",
       "<style scoped>\n",
       "    .dataframe tbody tr th:only-of-type {\n",
       "        vertical-align: middle;\n",
       "    }\n",
       "\n",
       "    .dataframe tbody tr th {\n",
       "        vertical-align: top;\n",
       "    }\n",
       "\n",
       "    .dataframe thead tr th {\n",
       "        text-align: left;\n",
       "    }\n",
       "</style>\n",
       "<table border=\"1\" class=\"dataframe\">\n",
       "  <thead>\n",
       "    <tr>\n",
       "      <th></th>\n",
       "      <th colspan=\"2\" halign=\"left\">breed</th>\n",
       "      <th colspan=\"2\" halign=\"left\">color</th>\n",
       "      <th colspan=\"2\" halign=\"left\">height</th>\n",
       "      <th colspan=\"2\" halign=\"left\">weight</th>\n",
       "    </tr>\n",
       "    <tr>\n",
       "      <th></th>\n",
       "      <th>triple</th>\n",
       "      <th>quad</th>\n",
       "      <th>triple</th>\n",
       "      <th>quad</th>\n",
       "      <th>triple</th>\n",
       "      <th>quad</th>\n",
       "      <th>triple</th>\n",
       "      <th>quad</th>\n",
       "    </tr>\n",
       "  </thead>\n",
       "  <tbody>\n",
       "    <tr>\n",
       "      <th>0</th>\n",
       "      <td>BeagleBeagleBeagle</td>\n",
       "      <td>BeagleBeagleBeagleBeagle</td>\n",
       "      <td>BrownBrownBrown</td>\n",
       "      <td>BrownBrownBrownBrown</td>\n",
       "      <td>3.0</td>\n",
       "      <td>4.0</td>\n",
       "      <td>75</td>\n",
       "      <td>100</td>\n",
       "    </tr>\n",
       "    <tr>\n",
       "      <th>1</th>\n",
       "      <td>MixedMixedMixed</td>\n",
       "      <td>MixedMixedMixedMixed</td>\n",
       "      <td>BrownBrownBrown</td>\n",
       "      <td>BrownBrownBrownBrown</td>\n",
       "      <td>4.5</td>\n",
       "      <td>6.0</td>\n",
       "      <td>135</td>\n",
       "      <td>180</td>\n",
       "    </tr>\n",
       "    <tr>\n",
       "      <th>2</th>\n",
       "      <td>LabLabLab</td>\n",
       "      <td>LabLabLabLab</td>\n",
       "      <td>BlackBlackBlack</td>\n",
       "      <td>BlackBlackBlackBlack</td>\n",
       "      <td>6.0</td>\n",
       "      <td>8.0</td>\n",
       "      <td>195</td>\n",
       "      <td>260</td>\n",
       "    </tr>\n",
       "    <tr>\n",
       "      <th>3</th>\n",
       "      <td>LabLabLab</td>\n",
       "      <td>LabLabLabLab</td>\n",
       "      <td>BlackBlackBlack</td>\n",
       "      <td>BlackBlackBlackBlack</td>\n",
       "      <td>6.0</td>\n",
       "      <td>8.0</td>\n",
       "      <td>&lt;NA&gt;</td>\n",
       "      <td>&lt;NA&gt;</td>\n",
       "    </tr>\n",
       "    <tr>\n",
       "      <th>4</th>\n",
       "      <td>CorgiCorgiCorgi</td>\n",
       "      <td>CorgiCorgiCorgiCorgi</td>\n",
       "      <td>BrownBrownBrown</td>\n",
       "      <td>BrownBrownBrownBrown</td>\n",
       "      <td>3.0</td>\n",
       "      <td>4.0</td>\n",
       "      <td>&lt;NA&gt;</td>\n",
       "      <td>&lt;NA&gt;</td>\n",
       "    </tr>\n",
       "  </tbody>\n",
       "</table>\n",
       "</div>"
      ],
      "text/plain": [
       "                breed                                      color  \\\n",
       "               triple                      quad           triple   \n",
       "0  BeagleBeagleBeagle  BeagleBeagleBeagleBeagle  BrownBrownBrown   \n",
       "1     MixedMixedMixed      MixedMixedMixedMixed  BrownBrownBrown   \n",
       "2           LabLabLab              LabLabLabLab  BlackBlackBlack   \n",
       "3           LabLabLab              LabLabLabLab  BlackBlackBlack   \n",
       "4     CorgiCorgiCorgi      CorgiCorgiCorgiCorgi  BrownBrownBrown   \n",
       "\n",
       "                        height      weight        \n",
       "                   quad triple quad triple  quad  \n",
       "0  BrownBrownBrownBrown    3.0  4.0     75   100  \n",
       "1  BrownBrownBrownBrown    4.5  6.0    135   180  \n",
       "2  BlackBlackBlackBlack    6.0  8.0    195   260  \n",
       "3  BlackBlackBlackBlack    6.0  8.0   <NA>  <NA>  \n",
       "4  BrownBrownBrownBrown    3.0  4.0   <NA>  <NA>  "
      ]
     },
     "execution_count": 122,
     "metadata": {},
     "output_type": "execute_result"
    }
   ],
   "source": [
    "import numpy as np\n",
    "def quad(x):\n",
    "  return x*4\n",
    "\n",
    "def triple(x):\n",
    "  return x*3\n",
    "\n",
    "df.agg(quad)                 # one custom transformation function\n",
    "df.agg(np.median)            # one external aggregation function\n",
    "# df.agg([quad, np.median])  # --> ERROR: cannot combine transformation and aggregation functions\n",
    "df.agg([np.median, np.max])  # Mulple external aggregation functions\n",
    "df.agg([triple, quad])       # Multiple external transformation functions"
   ]
  },
  {
   "cell_type": "markdown",
   "metadata": {},
   "source": [
    "### drop_duplicates"
   ]
  },
  {
   "cell_type": "code",
   "execution_count": 123,
   "metadata": {},
   "outputs": [
    {
     "data": {
      "text/html": [
       "<div>\n",
       "<style scoped>\n",
       "    .dataframe tbody tr th:only-of-type {\n",
       "        vertical-align: middle;\n",
       "    }\n",
       "\n",
       "    .dataframe tbody tr th {\n",
       "        vertical-align: top;\n",
       "    }\n",
       "\n",
       "    .dataframe thead th {\n",
       "        text-align: right;\n",
       "    }\n",
       "</style>\n",
       "<table border=\"1\" class=\"dataframe\">\n",
       "  <thead>\n",
       "    <tr style=\"text-align: right;\">\n",
       "      <th></th>\n",
       "      <th>breed</th>\n",
       "      <th>color</th>\n",
       "      <th>height</th>\n",
       "      <th>weight</th>\n",
       "    </tr>\n",
       "  </thead>\n",
       "  <tbody>\n",
       "    <tr>\n",
       "      <th>0</th>\n",
       "      <td>Beagle</td>\n",
       "      <td>Brown</td>\n",
       "      <td>1.0</td>\n",
       "      <td>25</td>\n",
       "    </tr>\n",
       "    <tr>\n",
       "      <th>1</th>\n",
       "      <td>Mixed</td>\n",
       "      <td>Brown</td>\n",
       "      <td>1.5</td>\n",
       "      <td>45</td>\n",
       "    </tr>\n",
       "    <tr>\n",
       "      <th>2</th>\n",
       "      <td>Lab</td>\n",
       "      <td>Black</td>\n",
       "      <td>2.0</td>\n",
       "      <td>65</td>\n",
       "    </tr>\n",
       "    <tr>\n",
       "      <th>4</th>\n",
       "      <td>Corgi</td>\n",
       "      <td>Brown</td>\n",
       "      <td>1.0</td>\n",
       "      <td>&lt;NA&gt;</td>\n",
       "    </tr>\n",
       "  </tbody>\n",
       "</table>\n",
       "</div>"
      ],
      "text/plain": [
       "    breed  color  height weight\n",
       "0  Beagle  Brown     1.0     25\n",
       "1   Mixed  Brown     1.5     45\n",
       "2     Lab  Black     2.0     65\n",
       "4   Corgi  Brown     1.0   <NA>"
      ]
     },
     "execution_count": 123,
     "metadata": {},
     "output_type": "execute_result"
    }
   ],
   "source": [
    "df.drop_duplicates('breed')"
   ]
  },
  {
   "cell_type": "code",
   "execution_count": 124,
   "metadata": {},
   "outputs": [
    {
     "data": {
      "text/html": [
       "<div>\n",
       "<style scoped>\n",
       "    .dataframe tbody tr th:only-of-type {\n",
       "        vertical-align: middle;\n",
       "    }\n",
       "\n",
       "    .dataframe tbody tr th {\n",
       "        vertical-align: top;\n",
       "    }\n",
       "\n",
       "    .dataframe thead th {\n",
       "        text-align: right;\n",
       "    }\n",
       "</style>\n",
       "<table border=\"1\" class=\"dataframe\">\n",
       "  <thead>\n",
       "    <tr style=\"text-align: right;\">\n",
       "      <th></th>\n",
       "      <th>breed</th>\n",
       "    </tr>\n",
       "  </thead>\n",
       "  <tbody>\n",
       "    <tr>\n",
       "      <th>0</th>\n",
       "      <td>Beagle</td>\n",
       "    </tr>\n",
       "    <tr>\n",
       "      <th>1</th>\n",
       "      <td>Mixed</td>\n",
       "    </tr>\n",
       "    <tr>\n",
       "      <th>2</th>\n",
       "      <td>Lab</td>\n",
       "    </tr>\n",
       "    <tr>\n",
       "      <th>4</th>\n",
       "      <td>Corgi</td>\n",
       "    </tr>\n",
       "  </tbody>\n",
       "</table>\n",
       "</div>"
      ],
      "text/plain": [
       "    breed\n",
       "0  Beagle\n",
       "1   Mixed\n",
       "2     Lab\n",
       "4   Corgi"
      ]
     },
     "execution_count": 124,
     "metadata": {},
     "output_type": "execute_result"
    }
   ],
   "source": [
    "# Select column as a series and drop duplicates\n",
    "df['breed'].drop_duplicates()\n",
    "# select column as a dataframe and drop duplicates\n",
    "df[['breed']].drop_duplicates()"
   ]
  },
  {
   "cell_type": "markdown",
   "metadata": {},
   "source": [
    "## DataFrame Methods\n",
    "\n",
    "Methods | Description\n",
    "--- | ---\n",
    ".head() | First five rows\n",
    ".tail() | Last five rows\n",
    ".info() | Info on the dataframe: count of missing values, data types, row count\n",
    ".describe() | Summary statistics on columns of numerical type\n",
    ".sort_values( ,ascending=True) | Sort columns<br>pass in array for multiple \n",
    ".count() | Count all non-NA values\n",
    ".value_count() | Count unique values<br>Count options avail\n",
    ".groupby() | Method to group in order to then apply functions by chaining to this method\n",
    ".pivot_table() | Easier way to Group and apply functions\n",
    ".iterrows() | Iterate over df rows as (index, Series) pairs <br>Access specific column of a row by bracket notation\n",
    ".itertuples() | Iterate over df rows as namedtuples<br>Access specific column of a row by dot notation"
   ]
  },
  {
   "cell_type": "code",
   "execution_count": 125,
   "metadata": {},
   "outputs": [],
   "source": [
    "# NOTEBOOK DATA\n",
    "twod_dict = { 'breed': ['Beagle', 'Mixed', 'Lab', 'Lab', 'Corgi'],\n",
    "              'color': ['Brown', 'Brown', 'Black','Black', 'Brown'],\n",
    "           'height': [1, 1.5, 2, 2, 1 ],\n",
    "           'weight': [25, 45, 65, pd.NA, 27]}\n",
    "# labels = ['US', 'RU', 'MO', 'EG', 'CH']\n",
    "df = pd.DataFrame(twod_dict)\n",
    "# df = pd.DataFrame(twod_dict, index=labels)"
   ]
  },
  {
   "cell_type": "markdown",
   "metadata": {},
   "source": [
    "## count\n",
    "- Easy way to count all non-NA values for each row or column\n",
    "- Will count if value is non-NA value regardless if are duplicate(s) or not"
   ]
  },
  {
   "cell_type": "code",
   "execution_count": 126,
   "metadata": {},
   "outputs": [
    {
     "data": {
      "text/plain": [
       "breed     5\n",
       "color     5\n",
       "height    5\n",
       "weight    4\n",
       "dtype: int64"
      ]
     },
     "execution_count": 126,
     "metadata": {},
     "output_type": "execute_result"
    }
   ],
   "source": [
    "df.count()"
   ]
  },
  {
   "cell_type": "markdown",
   "metadata": {},
   "source": [
    "## value_counts\n",
    "- Easy way to count unique rows and apply commont count methods\n",
    "\n",
    "Option | Default | Description\n",
    "--- | --- | ---\n",
    "subset | None | Choose column(s)\n",
    "normalize | False | Ratio to the total<br>Proportions instead of frequencies\n",
    "sort | True | Sort by the result \n",
    "ascending | False | Sort direction<br>Default: Highest count on top\n",
    "dropna | True | Drop na values<br> TODO: doesn't work now b/c new as of 1.3.0 and current version 1.2.0. <br>Add example after upgrading"
   ]
  },
  {
   "cell_type": "code",
   "execution_count": 127,
   "metadata": {},
   "outputs": [
    {
     "data": {
      "text/plain": [
       "breed \n",
       "Lab       2\n",
       "Beagle    1\n",
       "Corgi     1\n",
       "Mixed     1\n",
       "dtype: int64"
      ]
     },
     "execution_count": 127,
     "metadata": {},
     "output_type": "execute_result"
    }
   ],
   "source": [
    "df.value_counts(subset=['breed'])"
   ]
  },
  {
   "cell_type": "code",
   "execution_count": 128,
   "metadata": {},
   "outputs": [
    {
     "data": {
      "text/plain": [
       "color  breed \n",
       "Black  Lab       2\n",
       "Brown  Beagle    1\n",
       "       Corgi     1\n",
       "       Mixed     1\n",
       "dtype: int64"
      ]
     },
     "execution_count": 128,
     "metadata": {},
     "output_type": "execute_result"
    }
   ],
   "source": [
    "df.value_counts(subset=['color', 'breed'])"
   ]
  },
  {
   "cell_type": "code",
   "execution_count": 129,
   "metadata": {},
   "outputs": [
    {
     "data": {
      "text/plain": [
       "color  breed \n",
       "Black  Lab       0.4\n",
       "Brown  Beagle    0.2\n",
       "       Corgi     0.2\n",
       "       Mixed     0.2\n",
       "dtype: float64"
      ]
     },
     "execution_count": 129,
     "metadata": {},
     "output_type": "execute_result"
    }
   ],
   "source": [
    "df.value_counts(subset=['color', 'breed'], normalize=True)"
   ]
  },
  {
   "cell_type": "markdown",
   "metadata": {},
   "source": [
    "## groupby\n",
    "- Returns a GroupBy object\n",
    "- Group by mapping, function, label, list of labels\n",
    "- Method to group in order to then apply functions by chaining to this method\n",
    "\t- chain any built in method e.g. sum(), max()\n",
    "\t- groupby.apply(...)\n",
    "\t- groupby.agg(...)\n",
    "\t- grouby.transform(...)\n",
    "\t- grouby.pipe(...)\n",
    "\n"
   ]
  },
  {
   "cell_type": "code",
   "execution_count": 130,
   "metadata": {},
   "outputs": [
    {
     "data": {
      "text/plain": [
       "color\n",
       "Black    4.0\n",
       "Brown    3.5\n",
       "Name: height, dtype: float64"
      ]
     },
     "execution_count": 130,
     "metadata": {},
     "output_type": "execute_result"
    }
   ],
   "source": [
    "df.groupby('color').size()           # apply to entire df\n",
    "df.groupby('color')['height'].sum()  # apply to specified Series"
   ]
  },
  {
   "cell_type": "code",
   "execution_count": 131,
   "metadata": {},
   "outputs": [
    {
     "data": {
      "text/plain": [
       "0      50\n",
       "1      90\n",
       "2     130\n",
       "3    <NA>\n",
       "4      54\n",
       "Name: weight, dtype: object"
      ]
     },
     "execution_count": 131,
     "metadata": {},
     "output_type": "execute_result"
    }
   ],
   "source": [
    "df.groupby('color').apply(lambda x: x*2)             # apply to entire df\n",
    "df.groupby('color')['weight'].apply(lambda x: x*2)   # apply to specified Series"
   ]
  },
  {
   "cell_type": "code",
   "execution_count": 132,
   "metadata": {},
   "outputs": [
    {
     "data": {
      "text/plain": [
       "color  breed \n",
       "Black  Lab       2.0\n",
       "Brown  Beagle    1.0\n",
       "       Corgi     1.0\n",
       "       Mixed     1.5\n",
       "Name: height, dtype: float64"
      ]
     },
     "execution_count": 132,
     "metadata": {},
     "output_type": "execute_result"
    }
   ],
   "source": [
    "# Group by multiple groups and apply method to height column\n",
    "df.groupby(['color', 'breed'])['height'].mean()    "
   ]
  },
  {
   "cell_type": "markdown",
   "metadata": {},
   "source": [
    "## pivot_table\n",
    "- Another way to group and apply functions\n",
    "- Pivot tables are automatically sorted on indices\n",
    "- By default applied aggregate function is \"mean\" function\n",
    "\n",
    "Option | Default | Description\n",
    "--- | --- | ---\n",
    "values  | None | Column(s) to apply aggregate function\n",
    "index | None | Set index with column, Group, list\n",
    "columns | None | Set the columns<br>Used in the more colloquial way of setting up a pivot table\n",
    "margins | False | Add extra column & row that represents totals"
   ]
  },
  {
   "cell_type": "code",
   "execution_count": 133,
   "metadata": {},
   "outputs": [
    {
     "data": {
      "text/html": [
       "<div>\n",
       "<style scoped>\n",
       "    .dataframe tbody tr th:only-of-type {\n",
       "        vertical-align: middle;\n",
       "    }\n",
       "\n",
       "    .dataframe tbody tr th {\n",
       "        vertical-align: top;\n",
       "    }\n",
       "\n",
       "    .dataframe thead th {\n",
       "        text-align: right;\n",
       "    }\n",
       "</style>\n",
       "<table border=\"1\" class=\"dataframe\">\n",
       "  <thead>\n",
       "    <tr style=\"text-align: right;\">\n",
       "      <th></th>\n",
       "      <th></th>\n",
       "      <th>height</th>\n",
       "    </tr>\n",
       "    <tr>\n",
       "      <th>color</th>\n",
       "      <th>breed</th>\n",
       "      <th></th>\n",
       "    </tr>\n",
       "  </thead>\n",
       "  <tbody>\n",
       "    <tr>\n",
       "      <th>Black</th>\n",
       "      <th>Lab</th>\n",
       "      <td>2.0</td>\n",
       "    </tr>\n",
       "    <tr>\n",
       "      <th rowspan=\"3\" valign=\"top\">Brown</th>\n",
       "      <th>Beagle</th>\n",
       "      <td>1.0</td>\n",
       "    </tr>\n",
       "    <tr>\n",
       "      <th>Corgi</th>\n",
       "      <td>1.0</td>\n",
       "    </tr>\n",
       "    <tr>\n",
       "      <th>Mixed</th>\n",
       "      <td>1.5</td>\n",
       "    </tr>\n",
       "  </tbody>\n",
       "</table>\n",
       "</div>"
      ],
      "text/plain": [
       "              height\n",
       "color breed         \n",
       "Black Lab        2.0\n",
       "Brown Beagle     1.0\n",
       "      Corgi      1.0\n",
       "      Mixed      1.5"
      ]
     },
     "execution_count": 133,
     "metadata": {},
     "output_type": "execute_result"
    }
   ],
   "source": [
    "# This is the same as the last example in `groupby` section\n",
    "# See below for an alternate way to express this\n",
    "df.pivot_table(values='height', index=['color', 'breed'])   "
   ]
  },
  {
   "cell_type": "code",
   "execution_count": 134,
   "metadata": {},
   "outputs": [
    {
     "data": {
      "text/html": [
       "<div>\n",
       "<style scoped>\n",
       "    .dataframe tbody tr th:only-of-type {\n",
       "        vertical-align: middle;\n",
       "    }\n",
       "\n",
       "    .dataframe tbody tr th {\n",
       "        vertical-align: top;\n",
       "    }\n",
       "\n",
       "    .dataframe thead th {\n",
       "        text-align: right;\n",
       "    }\n",
       "</style>\n",
       "<table border=\"1\" class=\"dataframe\">\n",
       "  <thead>\n",
       "    <tr style=\"text-align: right;\">\n",
       "      <th>breed</th>\n",
       "      <th>Beagle</th>\n",
       "      <th>Corgi</th>\n",
       "      <th>Lab</th>\n",
       "      <th>Mixed</th>\n",
       "    </tr>\n",
       "    <tr>\n",
       "      <th>color</th>\n",
       "      <th></th>\n",
       "      <th></th>\n",
       "      <th></th>\n",
       "      <th></th>\n",
       "    </tr>\n",
       "  </thead>\n",
       "  <tbody>\n",
       "    <tr>\n",
       "      <th>Black</th>\n",
       "      <td>0</td>\n",
       "      <td>0</td>\n",
       "      <td>2</td>\n",
       "      <td>0.0</td>\n",
       "    </tr>\n",
       "    <tr>\n",
       "      <th>Brown</th>\n",
       "      <td>1</td>\n",
       "      <td>1</td>\n",
       "      <td>0</td>\n",
       "      <td>1.5</td>\n",
       "    </tr>\n",
       "  </tbody>\n",
       "</table>\n",
       "</div>"
      ],
      "text/plain": [
       "breed  Beagle  Corgi  Lab  Mixed\n",
       "color                           \n",
       "Black       0      0    2    0.0\n",
       "Brown       1      1    0    1.5"
      ]
     },
     "execution_count": 134,
     "metadata": {},
     "output_type": "execute_result"
    }
   ],
   "source": [
    "# More colloquial way of writing the above example\n",
    "# Pivot height by color vs breed\n",
    "df.pivot_table(values='height', index='color', columns='breed', fill_value=0) "
   ]
  },
  {
   "cell_type": "markdown",
   "metadata": {},
   "source": [
    "## iterrows\n",
    "\n",
    "- Iterate over df rows as (index, Series) pairs\n",
    "- Access specific column of a row by bracket notation"
   ]
  },
  {
   "cell_type": "code",
   "execution_count": 135,
   "metadata": {},
   "outputs": [
    {
     "name": "stdout",
     "output_type": "stream",
     "text": [
      "Brown\n",
      "Brown\n",
      "Black\n",
      "Black\n",
      "Brown\n"
     ]
    }
   ],
   "source": [
    "twod_dict = { 'breed': ['Beagle', 'Mixed', 'Lab', 'Lab', 'Corgi'],\n",
    "              'color': ['Brown', 'Brown', 'Black','Black', 'Brown'],\n",
    "           'height': [1, 1.5, 2, 2, 1 ],\n",
    "           'weight': [25, 45, 65, pd.NA, 27]}\n",
    "gen = pd.DataFrame(twod_dict).iterrows()  # generator object\n",
    "\n",
    "for idx, row in gen:\n",
    "    print(row[\"color\"])"
   ]
  },
  {
   "cell_type": "markdown",
   "metadata": {},
   "source": [
    "## itertuples\n",
    "\n",
    "- Iterate over df rows using named tuples\n",
    "\t- Access specific column of a row by dot notation"
   ]
  },
  {
   "cell_type": "code",
   "execution_count": 136,
   "metadata": {},
   "outputs": [
    {
     "name": "stdout",
     "output_type": "stream",
     "text": [
      "Beagle\n",
      "Mixed\n",
      "Lab\n",
      "Lab\n",
      "Corgi\n"
     ]
    }
   ],
   "source": [
    "twod_dict = { 'breed': ['Beagle', 'Mixed', 'Lab', 'Lab', 'Corgi'],\n",
    "              'color': ['Brown', 'Brown', 'Black','Black', 'Brown'],\n",
    "           'height': [1, 1.5, 2, 2, 1 ],\n",
    "           'weight': [25, 45, 65, pd.NA, 27]}\n",
    "map_obj = pd.DataFrame(twod_dict).itertuples()\n",
    "\n",
    "for row in map_obj:\n",
    "    print(row.breed)\n"
   ]
  }
 ],
 "metadata": {
  "kernelspec": {
   "display_name": "Python 3.8.5 64-bit",
   "language": "python",
   "name": "python3"
  },
  "language_info": {
   "codemirror_mode": {
    "name": "ipython",
    "version": 3
   },
   "file_extension": ".py",
   "mimetype": "text/x-python",
   "name": "python",
   "nbconvert_exporter": "python",
   "pygments_lexer": "ipython3",
   "version": "3.8.10"
  },
  "orig_nbformat": 4,
  "vscode": {
   "interpreter": {
    "hash": "916dbcbb3f70747c44a77c7bcd40155683ae19c65e1c03b4aa3499c5328201f1"
   }
  }
 },
 "nbformat": 4,
 "nbformat_minor": 2
}
