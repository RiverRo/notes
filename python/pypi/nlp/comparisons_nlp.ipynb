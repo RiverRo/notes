{
 "cells": [
  {
   "attachments": {},
   "cell_type": "markdown",
   "metadata": {},
   "source": [
    "# Comparisons of nlp libraries\n",
    "> [Main Table of Contents](../../../README.md)"
   ]
  },
  {
   "attachments": {},
   "cell_type": "markdown",
   "metadata": {},
   "source": [
    "## In This Notebook\n",
    "- Spark pipeline vs SpaCy pipeline\n",
    "\n"
   ]
  },
  {
   "attachments": {},
   "cell_type": "markdown",
   "metadata": {},
   "source": [
    "## Spark pipeline vs SpaCy pipeline\n",
    "- Similarities\n",
    "\tSimilar | \n",
    "\t--- | \n",
    "\tFirst stage of pipeline is turning raw data into document with a special transformer/component\n",
    "\n",
    "- Differences\n",
    "\tSpark | SpaCy\n",
    "\t--- | ---\n",
    "\tpipeline stages | pipeline components\n",
    "\tAfter document creation with special transformer, subsequent annotators accepts and output certain df column(s) with certain AnnotatorType(s) | After document creation with special component, subsequent components get `document`"
   ]
  }
 ],
 "metadata": {
  "kernelspec": {
   "display_name": "Python 3",
   "language": "python",
   "name": "python3"
  },
  "language_info": {
   "name": "python",
   "version": "3.10.1 (main, Mar 16 2022, 23:03:26) [GCC 9.3.0]"
  },
  "orig_nbformat": 4,
  "vscode": {
   "interpreter": {
    "hash": "4866ca8150a371cabffea59b773ad62185c8d01910afc1316bcc2dcf59a99708"
   }
  }
 },
 "nbformat": 4,
 "nbformat_minor": 2
}
