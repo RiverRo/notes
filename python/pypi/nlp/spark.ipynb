{
 "cells": [
  {
   "cell_type": "markdown",
   "metadata": {},
   "source": [
    "# Spark\n",
    "- Open-source Natural Language Processing Library\n",
    "- Pre-trained models and pipelines\n",
    "> [Main Table of Contents](../../../README.md)"
   ]
  },
  {
   "cell_type": "markdown",
   "metadata": {},
   "source": [
    "## In This Notebook\n",
    "- [Finance NLP (released Fall 2022)](https://nlp.johnsnowlabs.com/classify_financial_documents)\n",
    "\t- [Intro to new library](https://medium.com/spark-nlp/spark-nlp-for-finance-is-released-cfa3cc7b9faa)"
   ]
  },
  {
   "cell_type": "markdown",
   "metadata": {},
   "source": [
    "## [Finance NLP (released Fall 2022)](https://nlp.johnsnowlabs.com/classify_financial_documents)\n",
    "\n",
    "Available Features | Description\n",
    "--- | ---\n",
    "sentiment analysis |\n",
    "Financial NER models | Extracting organizations, products, revenue, profit, losses, trading symbols, SEC 10-K information,...\n",
    "text classification | classify texts into specific financial categories\n",
    "Entity linking| to normalize NER entities and link them to public databases/data sources, such as Edgar, Crunchbase, and Nasdaq. By doing that, you can augment Company Names, for example, with externally available data about them\n",
    "Pattern matching |Use context-aware symbolic components to model patterns to combine with Deep Learning information extraction techniques\n",
    "financial embeddings| The result is an n-dimensional embedding matrix, impossible to process by the human eye, containing the interpretation of the text using a financial domain\n",
    "assertion status | infer temporality (present, past, future), probability (possible), or other conditions in the context of the extracted entities\n",
    "relation extraction| infer relations between the extracted entities. For example, the relations of the parties in an agreement\n",
    "question answering | Financial Question Answering model, finetuned on proprietary Financial questions and answers\n",
    "Knowledge graphs | Create Knowledge bases combining entities and relations in a graph, which can be exploited afterward in graph databases\n",
    "Table understanding| Use State-of-the-Art Deep Learning architectures to query tables (extracted, for example, with Spark OCR) with Natural Language. No training is needed\n",
    "Zero-shot-learning | Spark NLP for Finance includes Zero-shot NER and Zero-shot Relation Extraction, to create your information extraction models without any training data, just with examples (prompts)\n",
    "Deidentification | The task of detecting privacy-related entities in text, such as person names, emails, and contact data"
   ]
  }
 ],
 "metadata": {
  "kernelspec": {
   "display_name": "Python 3.10.1 64-bit ('3.10.1')",
   "language": "python",
   "name": "python3"
  },
  "language_info": {
   "name": "python",
   "version": "3.10.1"
  },
  "orig_nbformat": 4,
  "vscode": {
   "interpreter": {
    "hash": "4866ca8150a371cabffea59b773ad62185c8d01910afc1316bcc2dcf59a99708"
   }
  }
 },
 "nbformat": 4,
 "nbformat_minor": 2
}
