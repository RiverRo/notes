{
 "cells": [
  {
   "cell_type": "markdown",
   "metadata": {},
   "source": [
    "# Sentiment Analysis\n",
    "> [Main Table of Contents](../../../README.md)"
   ]
  },
  {
   "cell_type": "markdown",
   "metadata": {},
   "source": [
    "## In This Notebook\n",
    "- Sentiment Analysis\n",
    "- Preprocess Text\n",
    "\t- Tokenization\n",
    "\t- Stemming\n",
    "\t- Lemmatization\n",
    "\t- Stop Words\n",
    "\t- Convert text to numerical representations\n",
    "\t\t- one-hot encoding\n",
    "\t\t- Vectorization\n",
    "\t\t\t- Type of vectorization - Bag of Words\n",
    "- NER. Named Entity Recognition\n",
    "- n-gram | q-gram | ngram | ngrams"
   ]
  },
  {
   "cell_type": "markdown",
   "metadata": {},
   "source": [
    "## Sentiment Analysis\n",
    "\n",
    "Libraries | Method(s)/Attribute(s) | Description\n",
    "--- | --- | ---\n",
    "nltk.vader.SentimentIntensityAnalyzer()| .polarity_score(text) |  Trained on social media text<br>Returns -1 <= score <= 1\n",
    "textblob.TextBlob(text) | textblob.sentiment | Returns named tuple<br>Sentiment(polarity, subjectivity)<br>polarity score is a float within the range [-1.0, 1.0]<br>subjectivity is a float within the range [0.0, 1.0] where 0.0 is very objective and 1.0 is very subjective\n",
    "spacy | Doc.sentiment<br>Span.sentiment<br> Token.sentiment | Scalar value\n",
    "rasa | interpreter.parse returns dict(intent, entities, text) which can be further used  TODO: COME BBACK TO THIS!!!!!\n",
    "sklearn | logistic regression<br>Train text on sentiment classification labels (e.g. positive, negative, etc)"
   ]
  },
  {
   "cell_type": "markdown",
   "metadata": {},
   "source": [
    "## Preprocess Text\n",
    "- Leads to smaller vocabularies which improves performance"
   ]
  },
  {
   "cell_type": "code",
   "execution_count": 1,
   "metadata": {},
   "outputs": [
    {
     "name": "stdout",
     "output_type": "stream",
     "text": [
      "0           talk new lecture\n",
      "1    representation brain yo\n",
      "Name: transcript, dtype: object\n"
     ]
    }
   ],
   "source": [
    "# Apply a preprocess Step to a pandas column of transcripts\n",
    "import pandas as pd\n",
    "import spacy\n",
    "nlp = spacy.load(\"en_core_web_sm\") \n",
    "stopwords = spacy.lang.en.stop_words.STOP_WORDS\n",
    "def preprocess(text):\n",
    "  \t# Create Doc object\n",
    "    doc = nlp(text, disable=['ner', 'parser'])\n",
    "    # Generate lemmas\n",
    "    lemmas = [token.lemma_ for token in doc]\n",
    "    # Remove stopwords and non-alphabetic characters\n",
    "    # NOTE: caution, isalpha() would remove abbreviations with periods and proper nouns that utilize non-alpha chars\n",
    "    # NOTE: if niche context, advisable to create custom stopwords\n",
    "    a_lemmas = [lemma for lemma in lemmas \n",
    "            if lemma.isalpha() and lemma not in stopwords]\n",
    "    \n",
    "    return ' '.join(a_lemmas)\n",
    "  \n",
    "# Apply preprocess to ted['transcript']\n",
    "ted = pd.DataFrame({'transcript': [\"We're going to talk — my — a new lecture, just\", \"This is a representation of your brain, and yo.\"], 'url': [\"https://www.ted.com/talks/al_seckel_says_our_b\", \"https://www.ted.com/talks/aaron_o_connell_maki\"]})\n",
    "ted['transcript'] = ted['transcript'].apply(preprocess)\n",
    "print(ted['transcript'])"
   ]
  },
  {
   "cell_type": "markdown",
   "metadata": {},
   "source": [
    "### Tokenization\n",
    "- Split text into structures called tokens\n",
    "\n",
    "\tLibrary | Method\n",
    "\t--- | ---\n",
    "\tnltk | nltk.download('punkt')\n",
    "\tspacy | nlp(text) produces a doc that's been tokenized"
   ]
  },
  {
   "cell_type": "code",
   "execution_count": 2,
   "metadata": {},
   "outputs": [
    {
     "name": "stdout",
     "output_type": "stream",
     "text": [
      "I wo n't focus on negative thoughts\n"
     ]
    }
   ],
   "source": [
    "# Tokenization Example\n",
    "import spacy\n",
    "nlp = spacy.load('en_core_web_sm')\n",
    "doc = nlp(\"I won't focus on negative thoughts\")\n",
    "print(*doc)"
   ]
  },
  {
   "cell_type": "markdown",
   "metadata": {},
   "source": [
    "### Stop Words\n",
    "- Common, uninformative words (e.g. prepositions) to typically filter out\n",
    "- Often advisable to build own list of stop words if niche context"
   ]
  },
  {
   "cell_type": "markdown",
   "metadata": {},
   "source": [
    "### Stemming\n",
    "- Truncate a word to its root (root may not be a valid word)\n",
    "\t- e.g. house, housing, houses -> hous"
   ]
  },
  {
   "cell_type": "markdown",
   "metadata": {},
   "source": [
    "### Lemmatization\n",
    "- Truncat a word to its root (root will be a valid word)\n",
    "\t- e.g. house, housing, houses -> house"
   ]
  },
  {
   "cell_type": "code",
   "execution_count": 3,
   "metadata": {},
   "outputs": [
    {
     "name": "stdout",
     "output_type": "stream",
     "text": [
      "I will not focus on negative thought\n"
     ]
    }
   ],
   "source": [
    "# Lemmatization Example\n",
    "# Turned tokens: wo -> will and n't -> not\n",
    "import spacy\n",
    "nlp = spacy.load('en_core_web_sm')\n",
    "doc = nlp(\"I won't focus on negative thoughts\")\n",
    "print(' '.join(token.lemma_ for token in doc))"
   ]
  },
  {
   "cell_type": "markdown",
   "metadata": {},
   "source": [
    "### Convert Text to numerical representations\n",
    "- For machine learning purposes text must be numerical not text\n",
    "- One-hot encoding process\n",
    "- Vectorization"
   ]
  },
  {
   "cell_type": "markdown",
   "metadata": {},
   "source": [
    "#### One-Hot Encoding\n",
    "- One-hot encoding is the process of converting text data to numerical representation\n",
    "\t- One way is with `pandas.get_dummies` method.  This method converts a column(s) of distinct categories into multiple columns with binary values"
   ]
  },
  {
   "cell_type": "code",
   "execution_count": 4,
   "metadata": {},
   "outputs": [
    {
     "name": "stdout",
     "output_type": "stream",
     "text": [
      "Pre DF\n",
      "   age    type sex\n",
      "0   10  beagle   M\n",
      "1    8     lab   F\n",
      "2   12    pood   F\n",
      "3   18  beagle   M\n",
      "Post DF\n",
      "   age  sex_F  sex_M  type_beagle  type_lab  type_pood\n",
      "0   10      0      1            1         0          0\n",
      "1    8      1      0            0         1          0\n",
      "2   12      1      0            0         0          1\n",
      "3   18      0      1            1         0          0\n"
     ]
    }
   ],
   "source": [
    "# One-Hot Encoding Example\n",
    "import pandas as pd\n",
    "pre = pd.DataFrame({'age': [10, 8, 12, 18], 'type': ['beagle', 'lab', 'pood', 'beagle'], 'sex': ['M', 'F', 'F', 'M']})\n",
    "print(f'Pre DF\\n{pre.to_string()}')\n",
    "# convert type and sex columns into numerical versions\n",
    "post = pd.get_dummies(pre, columns=['sex', 'type']) \n",
    "print(f'Post DF\\n{post.to_string()}')"
   ]
  },
  {
   "cell_type": "markdown",
   "metadata": {},
   "source": [
    "#### Vectorization\n",
    "- Numerical representation of text using algos like spacy's `tok2vec` component"
   ]
  },
  {
   "cell_type": "markdown",
   "metadata": {},
   "source": [
    "##### Type of vectorization - Bag of Words\n",
    "- Count/frequency of tokens/words/sentences\n",
    "- Use sklearn CountVectorizer, TfidfVectorizer to preprocess text\n",
    "\t- Further use spacy to preprocess text for lemmatization, etc\n",
    "- Model doesn't know how to analyze new words in test set\n",
    "- BOW shortcomings:  Doesn't take in context. Can use ngram_range to resolve this. Though the increase in ngrams may only do marginally better and the added inefficiency (time and dimensionality) may not be worth it.\n",
    "\t- e.g. \"The movie was good and not boring\" and \"The movie was not good and boring\" has same BOW, but opposite sentiment. "
   ]
  },
  {
   "cell_type": "markdown",
   "metadata": {},
   "source": [
    "## NER. Named Entity Recognition\n",
    "- Categorizing words into entities e.g. Person, Place\n",
    "- NER is useful on new words.  Gather meaning or categorizes based on context."
   ]
  },
  {
   "cell_type": "markdown",
   "metadata": {},
   "source": [
    "## n-gram | q-gram | ngram | ngrams\n",
    "- Contiguous sequence of *n* items from a given text\n",
    "- Incorporate context to words by also analyzing surrounding words\n",
    "- Use phrases (bigram, trigram, etc) instead of a word (unigram)\n",
    "- ngram applications include\n",
    "\t- sentence completion\n",
    "\t- spelling correction\n",
    "\t- machine translation correction\n",
    "\t- take in more context in BOW vectorizations\n",
    "- High ngrams are essentially useless. Curse of dimensionality\n",
    "\t- Keep ngrams small for efficiency and usefulness"
   ]
  }
 ],
 "metadata": {
  "kernelspec": {
   "display_name": "Python 3.8.10 64-bit",
   "language": "python",
   "name": "python3"
  },
  "language_info": {
   "codemirror_mode": {
    "name": "ipython",
    "version": 3
   },
   "file_extension": ".py",
   "mimetype": "text/x-python",
   "name": "python",
   "nbconvert_exporter": "python",
   "pygments_lexer": "ipython3",
   "version": "3.8.10"
  },
  "orig_nbformat": 4,
  "vscode": {
   "interpreter": {
    "hash": "31f2aee4e71d21fbe5cf8b01ff0e069b9275f58929596ceb00d14d90e3e16cd6"
   }
  }
 },
 "nbformat": 4,
 "nbformat_minor": 2
}
