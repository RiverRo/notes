{
 "cells": [
  {
   "cell_type": "markdown",
   "metadata": {},
   "source": [
    "# Sentiment Analysis\n",
    "> [Main Table of Contents](../../../README.md)"
   ]
  },
  {
   "cell_type": "markdown",
   "metadata": {},
   "source": [
    "## In This Notebook\n",
    "- Stop Words\n",
    "- Bag of Words\n",
    "- n-gram | q-gram | ngram | ngrams\n",
    "- Stemming\n",
    "- Lemmatization\n",
    "- NER. Named Entity Recognition"
   ]
  },
  {
   "cell_type": "markdown",
   "metadata": {},
   "source": [
    "## Stop Words\n",
    "- Common, uninformative words (e.g. prepositions)"
   ]
  },
  {
   "cell_type": "markdown",
   "metadata": {},
   "source": [
    "## Bag of Words\n",
    "- Count/frequency of tokens/words/sentences"
   ]
  },
  {
   "cell_type": "markdown",
   "metadata": {},
   "source": [
    "## n-gram | q-gram | ngram | ngrams\n",
    "- Contiguous sequence of *n* items from a given text\n",
    "- Incorporate context to words by also analyzing surrounding words\n",
    "- Use phrases (bigram, trigram, etc) instead of a word (unigram)"
   ]
  },
  {
   "cell_type": "markdown",
   "metadata": {},
   "source": [
    "## Stemming\n",
    "- Truncate a word to its root (root may not be a valid word)\n",
    "\t- e.g. house, housing, houses -> hous"
   ]
  },
  {
   "cell_type": "markdown",
   "metadata": {},
   "source": [
    "## Lemmatization\n",
    "- Truncat a word to its root (root will be a valid word)\n",
    "\t- e.g. house, housing, houses -> house"
   ]
  },
  {
   "cell_type": "markdown",
   "metadata": {},
   "source": [
    "## NER. Named Entity Recognition\n",
    "- Categorizing words into entities e.g. Person, Place"
   ]
  }
 ],
 "metadata": {
  "kernelspec": {
   "display_name": "Python 3.10.1 64-bit ('3.10.1')",
   "language": "python",
   "name": "python3"
  },
  "language_info": {
   "name": "python",
   "version": "3.10.1"
  },
  "orig_nbformat": 4,
  "vscode": {
   "interpreter": {
    "hash": "4866ca8150a371cabffea59b773ad62185c8d01910afc1316bcc2dcf59a99708"
   }
  }
 },
 "nbformat": 4,
 "nbformat_minor": 2
}
