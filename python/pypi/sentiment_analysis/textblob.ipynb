{
 "cells": [
  {
   "cell_type": "markdown",
   "metadata": {},
   "source": [
    "# TextBlob\n",
    "- Built on nltk\n",
    "- Natural Language Toolkit\n",
    "- You can treat TextBlob objects as if they were Python strings that learned how to do Natural Language Processing\n",
    "- Easy access (attributes & methods) to Tokenization, Lemmatization, Tagging, ngrams, Sentiment analysis\n",
    "> [Main Table of Contents](../../../README.md)"
   ]
  },
  {
   "cell_type": "markdown",
   "metadata": {},
   "source": [
    "## In This Notebook\n",
    "- TextBlob \n",
    "\t- Attributes\n",
    "\t- Methods\n",
    "- Word\n",
    "\t- Methods"
   ]
  },
  {
   "cell_type": "markdown",
   "metadata": {},
   "source": [
    "### TextBlob Attributes\n",
    "\n",
    "Attribute | Description\n",
    "--- | ---\n",
    ".tags | part-of-speech (POS) tags\n",
    ".noun_phrases | Return WordList of noun phrases\n",
    ".sentiment | Sentiment Analysis<br>Return namedtuple<br>Sentiment(polarity=float, subjectivity=float)<br>polarity [-1, 1]<br>subjectivity 0 - very objective, 1 - very subjective\n",
    ".words | Tokenization<br>Return Wordlist\n",
    ".sentences | Tokenization<br>Return list of Sentence obj"
   ]
  },
  {
   "cell_type": "code",
   "execution_count": 21,
   "metadata": {},
   "outputs": [
    {
     "data": {
      "text/plain": [
       "0.39166666666666666"
      ]
     },
     "execution_count": 21,
     "metadata": {},
     "output_type": "execute_result"
    }
   ],
   "source": [
    "from textblob import TextBlob\n",
    "testimonial = TextBlob(\"Textblob is amazingly simple to use. What great fun! went\")\n",
    "testimonial.sentiment\n",
    "testimonial.sentiment.polarity"
   ]
  },
  {
   "cell_type": "markdown",
   "metadata": {},
   "source": [
    "### TextBlob Methods\n",
    "\n",
    "Method | Description\n",
    "--- | ---\n",
    ".ngrams(n=int) | Return WordList of tupels of *n* successive words"
   ]
  },
  {
   "cell_type": "markdown",
   "metadata": {},
   "source": [
    "## Word"
   ]
  },
  {
   "cell_type": "markdown",
   "metadata": {},
   "source": [
    "### Word Methods\n",
    "\n",
    "Method | Description\n",
    "--- | ---\n",
    "Word().lemmatize(wordnet) | Return root (valid word)\n",
    "Word().singularize() | Singular form of word\n",
    "Word().pluralizer() | Pluaral form of word"
   ]
  },
  {
   "cell_type": "code",
   "execution_count": 22,
   "metadata": {},
   "outputs": [
    {
     "name": "stdout",
     "output_type": "stream",
     "text": [
      "Textblob\n",
      "be\n",
      "amazingly\n",
      "simple\n",
      "to\n",
      "use\n",
      "What\n",
      "great\n",
      "fun\n",
      "go\n"
     ]
    }
   ],
   "source": [
    "from textblob import TextBlob\n",
    "testimonial = TextBlob(\"Textblob is amazingly simple to use. What great fun! went\")\n",
    "testimonial.words\n",
    "for w in testimonial.words:\n",
    "    print(w.lemmatize('v'))  # v for verb"
   ]
  }
 ],
 "metadata": {
  "kernelspec": {
   "display_name": "Python 3.8.10 64-bit",
   "language": "python",
   "name": "python3"
  },
  "language_info": {
   "codemirror_mode": {
    "name": "ipython",
    "version": 3
   },
   "file_extension": ".py",
   "mimetype": "text/x-python",
   "name": "python",
   "nbconvert_exporter": "python",
   "pygments_lexer": "ipython3",
   "version": "3.8.10"
  },
  "orig_nbformat": 4,
  "vscode": {
   "interpreter": {
    "hash": "31f2aee4e71d21fbe5cf8b01ff0e069b9275f58929596ceb00d14d90e3e16cd6"
   }
  }
 },
 "nbformat": 4,
 "nbformat_minor": 2
}
