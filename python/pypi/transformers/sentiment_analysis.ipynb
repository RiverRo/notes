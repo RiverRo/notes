{
 "cells": [
  {
   "attachments": {},
   "cell_type": "markdown",
   "metadata": {},
   "source": [
    "# Financial Sentiment Analysis - Financial\n",
    "> [Main Table of Contents](../README.md)"
   ]
  },
  {
   "attachments": {},
   "cell_type": "markdown",
   "metadata": {},
   "source": [
    "## In This Notebook\n",
    "- TODO: Finish with notes in Alpha notes in clickup"
   ]
  },
  {
   "attachments": {},
   "cell_type": "markdown",
   "metadata": {},
   "source": [
    "## Zero-shot classification \n",
    "- Useful when getting a model to output labels/categories it hasn't been trained on. \n",
    "    For example, ProsusAI/Finbert has been trained to output neutral, positive, negative.  If I wanted bullish, bearish categories or biotech, solar, cargo categories, I can use zero-shot classification.  \n",
    "- Since ProsusAI/Finbert will output neutral on \"secondary offering\" news, it will provide any other categorical equivalent to neutral.  In order to get a negative sentiment, this requires fine-tuning (further downstream training) the model."
   ]
  }
 ],
 "metadata": {
  "kernelspec": {
   "display_name": "Python 3",
   "language": "python",
   "name": "python3"
  },
  "language_info": {
   "name": "python",
   "version": "3.10.6 (main, Aug 10 2022, 11:40:04) [GCC 11.3.0]"
  },
  "orig_nbformat": 4,
  "vscode": {
   "interpreter": {
    "hash": "31f2aee4e71d21fbe5cf8b01ff0e069b9275f58929596ceb00d14d90e3e16cd6"
   }
  }
 },
 "nbformat": 4,
 "nbformat_minor": 2
}
