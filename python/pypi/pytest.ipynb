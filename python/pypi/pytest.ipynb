{
 "cells": [
  {
   "cell_type": "markdown",
   "metadata": {},
   "source": [
    "# pytest\n",
    "\n",
    "> [Main Table of Contents](../../README.md)"
   ]
  },
  {
   "cell_type": "markdown",
   "metadata": {},
   "source": [
    "## In This Notebook\n",
    "- Directory structure\n",
    "- Test structure\n",
    "- Assert Statements\n",
    "\t- Assert with failure message\n",
    "- Pytest Methods\n",
    "- Test for exceptions\n",
    "- Test Execution\n",
    "\t- Node ID\n",
    "- What to test\n",
    "- Pytest report\n",
    "- Continuous Integration and Codecov"
   ]
  },
  {
   "cell_type": "code",
   "execution_count": 10,
   "metadata": {},
   "outputs": [],
   "source": [
    "import pytest"
   ]
  },
  {
   "cell_type": "markdown",
   "metadata": {},
   "source": [
    "## Directory structure\n",
    "- `tests` directory should mirror source code directory"
   ]
  },
  {
   "cell_type": "markdown",
   "metadata": {},
   "source": [
    "## Test structure\n",
    "- Tests for each functions are organized into a class"
   ]
  },
  {
   "cell_type": "markdown",
   "metadata": {},
   "source": [
    "## Assert statements\n",
    "- `assert` is main keyword used in unit tests"
   ]
  },
  {
   "cell_type": "markdown",
   "metadata": {},
   "source": [
    "### Assert with failure message\n",
    "- Best practice to include message with assert statement which prints on failure"
   ]
  },
  {
   "cell_type": "code",
   "execution_count": 11,
   "metadata": {},
   "outputs": [],
   "source": [
    "def add(a, b):\n",
    "    return a+b\n",
    "\n",
    "class TestAdd():\n",
    "    def test_integers():\n",
    "        expected = 9\n",
    "        actual = add(3, 6)\n",
    "        # Message should include function as called and actual return value\n",
    "        message = f'add(3, 6) should return the int 9, but it actually returned {actual}'\n",
    "        assert actual == expected, message"
   ]
  },
  {
   "cell_type": "markdown",
   "metadata": {},
   "source": [
    "## pytest methods\n",
    "\n",
    "Method | Description | Example\n",
    "--- | --- | ---\n",
    "pytest.approx(#) | Handle float datatypes | assert 0.1 + 0.1 + 0.1 == pytest.approx(0.3)<br>np.array([0.1 + 0.1, 0.1 + 0.1]) == pytest.approx([0.2, 0.2])\n",
    "pytest.raises(ErrorType) | Test for exceptions | The test function is called within the context manager\n",
    "@pytest.mark.xfail(expectedfailreason) | Mark decorated fn as Expected failure | @pytest.mark.xfail(reason='Using TDD, fn not implemented')\n",
    "@pytest.mark.skipif(boolean_expr, reasonskipped) | Mark decorated so pytest skips fn on given condition | @pytest.mark.skipif(sys.version_info > (2, 7), reason='requires Python 2.7')\n"
   ]
  },
  {
   "cell_type": "markdown",
   "metadata": {},
   "source": [
    "## Test for exceptions instead of return values\n",
    "- `pytest.raises(ErrorType)` uses a context manager\n",
    "- General structure\n",
    "\t```python\n",
    "\twith pytest.raises(ValueError):   \n",
    "\t\t# Do nothing on entering context  \n",
    "\t\tprint('This is part of the context')  \n",
    "\t\t# if context raises ValueError, good. was expected  \n",
    "\t\t# if context did not raise ValueEror, raise an exception  \n",
    "\t```"
   ]
  },
  {
   "cell_type": "code",
   "execution_count": 12,
   "metadata": {},
   "outputs": [],
   "source": [
    "### Test for exception example\n",
    "def add(a, b):\n",
    "    if not isinstance(a, int) or not isinstance(b, int):\n",
    "        raise TypeError('Must pass two integers :)')\n",
    "    return a+b\n",
    "\n",
    "# GOOD\n",
    "def test_typeerror_on_non_int():\n",
    "    #Test to make sure Error is raised\n",
    "    with pytest.raises(TypeError) as exception_info:  \n",
    "        # Doesn't do anything if context raised TypeError\n",
    "        add('3', 5)\n",
    "    # Test for correct message\n",
    "    assert exception_info.match('Must pass two integers :)')\n",
    "\n",
    "# WILL FAIL\n",
    "def test_typeerror_on_non_int():\n",
    "    #Test to make sure Error is raised\n",
    "    with pytest.raises(TypeError) as exception_info:  \n",
    "        print('No code in context which will raise TypeError so will fail')\n",
    "    # Test for correct message\n",
    "    assert exception_info.match('Must pass two integers :)')"
   ]
  },
  {
   "cell_type": "markdown",
   "metadata": {},
   "source": [
    "## Test execution\n",
    "- Command line invocation\n",
    "\n",
    "- Find pattern in test function names and test class names and only run if matched substring. Useful for large test collections.\n",
    "\t```python\n",
    "\tpytest -k pattern\n",
    "\t```\n",
    "\n",
    "- Exit immediately on first fail. Useful for large files.\n",
    "\t```python\n",
    "\tpytest -x file_or_dir\n",
    "\t```\n",
    "- Execute specific part of test file or test class with nodeID\n",
    "\t```python\n",
    "\tpytest <path_with_node_id_notation>\n",
    "\t```\n",
    "- Show reason xfail\n",
    "\t```python\n",
    "\tpytest -rx file_or_dir\n",
    "\t```\n",
    "- Show reason for skipped test\n",
    "\t```python\n",
    "\tpytest -rs file_or_dir\n",
    "\t```\n",
    "- Show reason for both skipped and xfailed test\n",
    "\t```python\n",
    "\tpytest -rs file_or_dir\n",
    "\t```"
   ]
  },
  {
   "cell_type": "markdown",
   "metadata": {},
   "source": [
    "### Identify Node ID\n",
    "- Node ID is the last part od the following\n",
    "\t```python\n",
    "\t# Node ID of a test class\n",
    "\t<path_test_module>::<test_class_name>\n",
    "\n",
    "\t# Node ID of unit test\n",
    "\t<path_test_module>::<test_class_name>::<unit_test_name>\n",
    "\t```"
   ]
  },
  {
   "cell_type": "markdown",
   "metadata": {},
   "source": [
    "## What to test  ( TODO: comeback to this )\n",
    "- Should test 1-2 versions of each category\n",
    "- Not all functions have bad or special arguments\n",
    "- Test categories\n",
    "\t- Bad\n",
    "\t\t- See `Testing for exceptions` section\n",
    "\t- Special\n",
    "\t\t- Boundary values\n",
    "\t\t- Argument values\n",
    "\t- Normal"
   ]
  },
  {
   "cell_type": "markdown",
   "metadata": {},
   "source": [
    "## Pytest Report\n",
    "- A period indicates test passed\n",
    "- 'F' indicates test failed\n",
    "\t- typically due to raised error\n",
    "\t- line containing 'where' displays actual return values"
   ]
  },
  {
   "cell_type": "markdown",
   "metadata": {},
   "source": [
    "## Continuous Integration and Codecov\n",
    "- Look into CircleCI\n",
    "- [TravisCI](../travisci.ipynb) with Github integration\n",
    "- [Codecov](../travisci.ipynb)"
   ]
  }
 ],
 "metadata": {
  "kernelspec": {
   "display_name": "Python 3.8.10 64-bit",
   "language": "python",
   "name": "python3"
  },
  "language_info": {
   "codemirror_mode": {
    "name": "ipython",
    "version": 3
   },
   "file_extension": ".py",
   "mimetype": "text/x-python",
   "name": "python",
   "nbconvert_exporter": "python",
   "pygments_lexer": "ipython3",
   "version": "3.8.10"
  },
  "orig_nbformat": 4,
  "vscode": {
   "interpreter": {
    "hash": "31f2aee4e71d21fbe5cf8b01ff0e069b9275f58929596ceb00d14d90e3e16cd6"
   }
  }
 },
 "nbformat": 4,
 "nbformat_minor": 2
}
