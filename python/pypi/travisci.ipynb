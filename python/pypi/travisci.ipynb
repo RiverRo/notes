{
 "cells": [
  {
   "cell_type": "markdown",
   "metadata": {},
   "source": [
    "# Travis CI\n",
    "> [Main Table of Contents](../README.md)\n"
   ]
  },
  {
   "cell_type": "markdown",
   "metadata": {},
   "source": [
    "## In This Notebook\n",
    "- Create configuration file"
   ]
  },
  {
   "cell_type": "markdown",
   "metadata": {},
   "source": [
    "## Create configuration file\n",
    "- Define `.travis.yml` file\n",
    "\t```python\n",
    "\tlanguage: python\n",
    "\tpython: \n",
    "\t\t\t- \"3.6\"\n",
    "\tinstall:\n",
    "\t\t\t- pip install -e .\n",
    "\tscript: \n",
    "\t\t\t- pytest tests\n",
    "\t```\n",
    "- Define `.travis.yml` to include codecov report\n",
    "\t```python\n",
    "\tlanguage: python\n",
    "\tpython: \n",
    "\t\t\t- \"3.6\"\n",
    "\tinstall:\n",
    "\t\t\t- pip install -e .\n",
    "\t\t\t- pip install pytest-cov codecov  # install pkgs for code cov report\n",
    "\tscript: \n",
    "\t\t\t- pytest tests --cov=src tests   # point to the source directory\n",
    "\t```"
   ]
  }
 ],
 "metadata": {
  "kernelspec": {
   "display_name": "Python 3.8.10 64-bit",
   "language": "python",
   "name": "python3"
  },
  "language_info": {
   "name": "python",
   "version": "3.8.10"
  },
  "orig_nbformat": 4,
  "vscode": {
   "interpreter": {
    "hash": "31f2aee4e71d21fbe5cf8b01ff0e069b9275f58929596ceb00d14d90e3e16cd6"
   }
  }
 },
 "nbformat": 4,
 "nbformat_minor": 2
}
