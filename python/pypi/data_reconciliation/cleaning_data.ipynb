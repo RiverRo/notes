{
 "cells": [
  {
   "attachments": {},
   "cell_type": "markdown",
   "metadata": {},
   "source": [
    "# Cleaning Data\n",
    "> [Main Table of Contents](../../../README.md)"
   ]
  },
  {
   "attachments": {},
   "cell_type": "markdown",
   "metadata": {},
   "source": [
    "## In This Notebook\n",
    "- Data Types\n",
    "- Missing Values\n",
    "- Unique/Non-Duplicate/De-Duplicate Values"
   ]
  },
  {
   "attachments": {},
   "cell_type": "markdown",
   "metadata": {},
   "source": [
    "## Data Types\n",
    "\n",
    "Function | args/kwargs |  Description\n",
    "--- | --- | ---\n",
    "df.astype() | data type, dict[colName:dtype]| cast series or df to specific type<br>pandas has useful `category` type\n",
    "series.str.\\<method\\> | Apply python string methods to the series\n",
    "series.dt.\\<method\\> | Apply python datetime methods to the series\n",
    "series.cat.\\<method\\> | Apply pandas category methods to the series\n",
    "series.sparse.\\<method\\> | Apply scipy sparse methods to the series"
   ]
  },
  {
   "cell_type": "code",
   "execution_count": 25,
   "metadata": {},
   "outputs": [],
   "source": [
    "import pandas as pd"
   ]
  },
  {
   "cell_type": "code",
   "execution_count": 26,
   "metadata": {},
   "outputs": [
    {
     "name": "stdout",
     "output_type": "stream",
     "text": [
      "Stats run on Non `category` type values\n",
      "count     5.000000\n",
      "mean     11.000000\n",
      "std      21.805962\n",
      "min       1.000000\n",
      "25%       1.000000\n",
      "50%       1.000000\n",
      "75%       2.000000\n",
      "max      50.000000\n",
      "Name: cat, dtype: float64\n",
      "\n",
      "Stats run on `category` type values\n",
      "Notice the different stat types\n",
      "count     5\n",
      "unique    3\n",
      "top       1\n",
      "freq      3\n",
      "Name: cat, dtype: int64\n"
     ]
    }
   ],
   "source": [
    "# Use `astype` method to cast category type (limited finite values) properly\n",
    "# Casting to python `category` type is especially useful when using statistic functions.  Notice how the first \n",
    "\n",
    "d = {'cat': [1, 1, 2, 1, 50], 'name': ['mary', 'bob', 'hope', 'bill', 'ellie']}\n",
    "df = pd.DataFrame(data=d)\n",
    "print(f'Stats run on Non `category` type values\\n{df.cat.describe()}')\n",
    "cat_col = df['cat'].astype('category')\n",
    "print(f'\\nStats run on `category` type values\\nNotice the different stat types\\n{cat_col.describe()}') "
   ]
  },
  {
   "cell_type": "code",
   "execution_count": 27,
   "metadata": {},
   "outputs": [
    {
     "data": {
      "text/plain": [
       "array(['1', '1', '2', '1', '50'], dtype=object)"
      ]
     },
     "execution_count": 27,
     "metadata": {},
     "output_type": "execute_result"
    }
   ],
   "source": [
    "d = {'cat': [1, 1, 2, 1, 50], 'name': ['mary', 'bob', 'hope', 'bill', 'ellie']}\n",
    "df = pd.DataFrame(data=d)\n",
    "cat_col = df['cat'].astype(str)\n",
    "cat_col = df['cat'].astype('str')  # alternative\n",
    "cat_col.values"
   ]
  }
 ],
 "metadata": {
  "kernelspec": {
   "display_name": "Python 3",
   "language": "python",
   "name": "python3"
  },
  "language_info": {
   "codemirror_mode": {
    "name": "ipython",
    "version": 3
   },
   "file_extension": ".py",
   "mimetype": "text/x-python",
   "name": "python",
   "nbconvert_exporter": "python",
   "pygments_lexer": "ipython3",
   "version": "3.8.10 (default, Nov 14 2022, 12:59:47) \n[GCC 9.4.0]"
  },
  "orig_nbformat": 4,
  "vscode": {
   "interpreter": {
    "hash": "31f2aee4e71d21fbe5cf8b01ff0e069b9275f58929596ceb00d14d90e3e16cd6"
   }
  }
 },
 "nbformat": 4,
 "nbformat_minor": 2
}
