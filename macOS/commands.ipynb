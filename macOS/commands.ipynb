{
 "cells": [
  {
   "cell_type": "markdown",
   "metadata": {},
   "source": [
    "# commands\n",
    "> [Main Table of Contents](../README.md)"
   ]
  },
  {
   "cell_type": "markdown",
   "metadata": {},
   "source": [
    "## In This Notebook\n",
    "- launchctl\n",
    "- plutil"
   ]
  },
  {
   "cell_type": "markdown",
   "metadata": {},
   "source": [
    "## launchctl\n",
    "- launchctl is the interface to launchd\n",
    "- launchd is the preferred program (instead of cron) on macOS to run scripts on a schedule\n",
    "- config files have extension `.plist`\n",
    "- launchd further distinguishes between agents and daemons. \n",
    "\t- The difference between these types are drawn from where the .plist file is saved\n",
    "\t\t- “~/Library/LaunchAgents” runs on behalf of the logged-in user\n",
    "\t\t- “/Library/LaunchDaemons” runs on behalf of the root users\n",
    "\t\t- To restrict a script to a specific user account, use an agent.\n",
    "\t\t- To run no matter who is logged in, use a daemon.\n",
    "- config files are saved in one of four directories:\n"
   ]
  },
  {
   "cell_type": "markdown",
   "metadata": {},
   "source": [
    "### Useful subcommands\n",
    "\n",
    "Command | Description\n",
    "--- | ---\n",
    "sudo launchctl dumpstate \\| grep \\<nameofplistfilewithoutext\\>   | \n",
    "sudo launchctl load \\<plistfilename\\>.plist | Load script to launchd queue\n",
    "sudo launchctl unload \\<plistfilename\\>.plist | Remove script from launchd queue\n",
    "sudo launchctl kickstart system/\\<plistfilename\\> |\n",
    "sudo launchctl start \\<plistfilename\\> | Run the script immmediately no matter what\n",
    "sudo launchctl enable system/\\<plistfilename\\>|\n",
    "sudo launchctl disable system/\\<plistfilename\\>|\n",
    "sudo launchctl print-disabled system | Print disabled system services<br>If True then disabled<br>If False then enabled\n",
    "sudo launchctl print-disabled user/<userid> | Print disabled system for services in user<br>If True then disabled<br>If False then enabled\n",
    "id -u | Get user id\n",
    "\n"
   ]
  },
  {
   "cell_type": "markdown",
   "metadata": {},
   "source": [
    "### launchctl references\n",
    "- [brief explanation and commands](https://rakhesh.com/mac/macos-launchctl-commands/)\n",
    "- [brief article](https://www.maketecheasier.com/use-launchd-run-scripts-on-schedule-macos/)\n"
   ]
  },
  {
   "cell_type": "markdown",
   "metadata": {},
   "source": [
    "### How to use this program\n",
    "\n",
    "1. Write a xml config file with <somename>.plist extension\n",
    "\t- Use <somename> inside the .plist property `Label`\n",
    "2. Save .plist file in correct directory (agent or daemon)\n",
    "3. Load job into launchctl\n",
    "\t- `sudo launchctl load <pathtofilename>.plist`"
   ]
  },
  {
   "cell_type": "markdown",
   "metadata": {},
   "source": [
    "### launchctl troubleshooting\n",
    "- May need to change ownership of .plist file  \n",
    "\n",
    "\t```python\n",
    "\tsudo chown root /Library/LaunchDaemons/myfile.plist\n",
    "\tsudo chgrp wheel /Library/LaunchDaemons/myfile.plist\n",
    "\tand/or\n",
    "\tsudo chmod 600 /Library/LaunchDaemons/myfile.plist\n",
    "\t```"
   ]
  },
  {
   "cell_type": "markdown",
   "metadata": {},
   "source": [
    "## plutil\n",
    "- .plist file validator\n",
    "- Usage at command line -> plutil <pathto>.plist"
   ]
  }
 ],
 "metadata": {
  "kernelspec": {
   "display_name": "Python 3.10.1 64-bit ('3.10.1')",
   "language": "python",
   "name": "python3"
  },
  "language_info": {
   "name": "python",
   "version": "3.10.1"
  },
  "orig_nbformat": 4,
  "vscode": {
   "interpreter": {
    "hash": "4866ca8150a371cabffea59b773ad62185c8d01910afc1316bcc2dcf59a99708"
   }
  }
 },
 "nbformat": 4,
 "nbformat_minor": 2
}
