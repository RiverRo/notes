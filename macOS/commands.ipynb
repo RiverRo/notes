{
 "cells": [
  {
   "cell_type": "markdown",
   "metadata": {},
   "source": [
    "# commands\n",
    "> [Main Table of Contents](../README.md)"
   ]
  },
  {
   "cell_type": "markdown",
   "metadata": {},
   "source": [
    "## In This Notebook\n",
    "- .plist\n",
    "- launchctl\n",
    "\t- Useful subcommands\n",
    "\t- launchctl references\n",
    "\t- How to use launchctl\n",
    "\t- launchctl troubleshooting\n",
    "- plutil"
   ]
  },
  {
   "cell_type": "markdown",
   "metadata": {},
   "source": [
    "## .plist"
   ]
  },
  {
   "cell_type": "code",
   "execution_count": 4,
   "metadata": {},
   "outputs": [],
   "source": [
    "## plist example with useful keys\n",
    "\n",
    "# <?xml version=\"1.0\" encoding=\"UTF-8\"?>\n",
    "# <!DOCTYPE plist PUBLIC \"-//Apple//DTD PLIST 1.0//EN\" \"http://www.apple.com/DTDs/PropertyList-1.0.dtd\">\n",
    "# <plist version=\"1.0\">\n",
    "# \t<dict>\n",
    "# \t\t<key>Label</key>\n",
    "# \t\t<string>scraperBtmBrkFinviz</string>\n",
    "#     <!-- <key>RunAtLoad</key>\n",
    "#     <true/> -->\n",
    "#     <key>WorkingDirectory</key>\n",
    "#     <string>/Users/blinkeh/Desktop</string>\n",
    "# \t\t<key>ProgramArguments</key>\n",
    "#     <array>\n",
    "#     <string>/Library/Frameworks/Python.framework/Versions/3.8/bin/python3</string>\n",
    "# \t\t<string>scraper_btmbrk/app.py</string>\n",
    "#     </array>\n",
    "#     <key>StartCalendarInterval</key>\n",
    "#     <dict>\n",
    "#     <key>Hour</key>\n",
    "#     <integer>2</integer>\n",
    "#     <key>Minute</key>\n",
    "#     <integer>2</integer>\n",
    "#     </dict>\n",
    "#     <key>StandardOutPath</key>    # Log print statements\n",
    "#     <string>/Users/blinkeh/Desktop/scraper_btmbrk/launchctlstdpath.out</string>\n",
    "#     <key>StandardErrorPath</key>  # Log error messages\n",
    "#     <string>/Users/blinkeh/Desktop/scraper_btmbrk/launchctlstdpath.err</string>\n",
    "# \t\t<!-- <key>UserName</key>\n",
    "#     <string>blinkeh</string> -->\n",
    "# \t</dict>\n",
    "# </plist>"
   ]
  },
  {
   "cell_type": "markdown",
   "metadata": {},
   "source": [
    "## launchctl\n",
    "- launchctl is the interface to launchd\n",
    "- launchd is the preferred program (instead of cron) on macOS to run scripts on a schedule\n",
    "- config files have extension `.plist`\n",
    "- launchd further distinguishes between agents and daemons. \n",
    "\t- The difference between these types are drawn from where the .plist file is saved\n",
    "\t\t- `~/Library/LaunchAgents` runs on behalf of the logged-in user\n",
    "\t\t\t- To restrict a script to a specific user account, use an agent.\n",
    "\t\t- `/Library/LaunchDaemons` runs on behalf of the root users\n",
    "\t\t\t- To run no matter who is logged in, use a daemon."
   ]
  },
  {
   "cell_type": "markdown",
   "metadata": {},
   "source": [
    "### Useful subcommands\n",
    "- sudo launchctl isn't a more powerful launchctl, it's just different type\n",
    "\n",
    "Command | Description\n",
    "--- | ---\n",
    "launchctl dumpstate \\| grep \\<nameofplistfilewithoutext\\>   | e.g. launchcht dumpstate | grep scraper\n",
    "launchctl list \\| grep scraper\n",
    "launchctl load \\<plistfilename\\>.plist | Load script to launchd queue\n",
    "launchctl unload \\<plistfilename\\>.plist | Remove script from launchd queue\n",
    "launchctl start \\<plistfilename\\> | Run the script immmediately no matter what\n",
    "launchctl enable system/\\<plistfilename\\>| Don't need this when using plist saved in `~/Library/LaunchAgents`\n",
    "launchctl disable system/\\<plistfilename\\>|Don't need this when using plist saved in `~/Library/LaunchAgents`\n",
    "id -u | Get user id"
   ]
  },
  {
   "cell_type": "markdown",
   "metadata": {},
   "source": [
    "### launchctl references\n",
    "- [stackoverflow](https://stackoverflow.com/questions/15990512/launchctl-minimal-working-example-with-python)\n",
    "- [brief explanation and commands](https://rakhesh.com/mac/macos-launchctl-commands/)\n",
    "- [brief article](https://www.maketecheasier.com/use-launchd-run-scripts-on-schedule-macos/)\n"
   ]
  },
  {
   "cell_type": "markdown",
   "metadata": {},
   "source": [
    "### How to use launchctl\n",
    "\n",
    "1. Write a xml config file with <somename>`.plist` extension\n",
    "2. Save .plist file in correct directory (agent or daemon)\n",
    "3. Load job into launchctl\n",
    "\t- `launchctl load <pathtofilename>.plist`"
   ]
  },
  {
   "cell_type": "markdown",
   "metadata": {},
   "source": [
    "### launchctl troubleshooting\n",
    "- LoadFailed 5: Input/Output error\n",
    "\t- Usually means plist is already loaded\n",
    "- If using sudo version, may need to change ownership of .plist file  \n",
    "\n",
    "\t```python\n",
    "\tsudo chown root /Library/LaunchDaemons/myfile.plist\n",
    "\tsudo chgrp wheel /Library/LaunchDaemons/myfile.plist\n",
    "\tand/or\n",
    "\tsudo chmod 600 /Library/LaunchDaemons/myfile.plist\n",
    "\t```"
   ]
  },
  {
   "cell_type": "markdown",
   "metadata": {},
   "source": [
    "## plutil\n",
    "- .plist file validator"
   ]
  },
  {
   "cell_type": "code",
   "execution_count": 5,
   "metadata": {},
   "outputs": [],
   "source": [
    "# command line usage\n",
    "# plutil <pathto>.plist"
   ]
  }
 ],
 "metadata": {
  "kernelspec": {
   "display_name": "Python 3.8.10 64-bit",
   "language": "python",
   "name": "python3"
  },
  "language_info": {
   "codemirror_mode": {
    "name": "ipython",
    "version": 3
   },
   "file_extension": ".py",
   "mimetype": "text/x-python",
   "name": "python",
   "nbconvert_exporter": "python",
   "pygments_lexer": "ipython3",
   "version": "3.8.10"
  },
  "orig_nbformat": 4,
  "vscode": {
   "interpreter": {
    "hash": "31f2aee4e71d21fbe5cf8b01ff0e069b9275f58929596ceb00d14d90e3e16cd6"
   }
  }
 },
 "nbformat": 4,
 "nbformat_minor": 2
}
