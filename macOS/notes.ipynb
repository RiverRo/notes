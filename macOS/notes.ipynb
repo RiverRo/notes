{
 "cells": [
  {
   "attachments": {},
   "cell_type": "markdown",
   "metadata": {},
   "source": [
    "# Notes\n",
    "> [Main Table of Contents](../README.md)"
   ]
  },
  {
   "attachments": {},
   "cell_type": "markdown",
   "metadata": {},
   "source": [
    "# In This Notebook\n",
    "- Run scripts on a schedule\n",
    "\t- Option 1\n",
    "\t- Option 2\n",
    "\t\t- launchctl\n",
    "\t\t\t- .plist (config file for launchctl)\n",
    "\t\t\t- plutil (.plist file format validator)\n",
    "\t\t\t- Useful subcommands\n",
    "\t\t\t- launchctl references\n",
    "\t\t\t- How to use launchctl\n",
    "\t\t\t- launchctl troubleshooting"
   ]
  },
  {
   "attachments": {},
   "cell_type": "markdown",
   "metadata": {},
   "source": [
    "# Run scripts on a schedule"
   ]
  },
  {
   "attachments": {},
   "cell_type": "markdown",
   "metadata": {},
   "source": [
    "## Option 1"
   ]
  },
  {
   "attachments": {},
   "cell_type": "markdown",
   "metadata": {},
   "source": [
    "1. Wake computer from sleep\n",
    "    - System Preferences -> Battery -> Schedule\n",
    "        - Check Start up or wake and set frequency and time\n",
    "            - Be sure to give at least 10 minutes for the computer to fully wake up before running scripts\n",
    "        - Check Sleep to put the computer back to sleep"
   ]
  },
  {
   "attachments": {},
   "cell_type": "markdown",
   "metadata": {},
   "source": [
    "2. Use 'Automator' app to create a custom application that runs Python scripts automatically\n",
    "    - Open 'Automator'\n",
    "    - Select 'Application' as type of document to create\n",
    "    - In the left pane, search for 'Run Shell Script' and drag it into the workflow area on the right.\n",
    "    - In the 'Run Shell Script' action, change the 'Pass input' dropdown to 'as arguments.'\n",
    "    - In the script area, type \"python\" (without quotes) followed by a space\n",
    "    - Drag and drop your Python script file from Finder into the script area, after the 'python' command, this will populate the path to the python script\n",
    "    - Save the Automator application by going to File > Save and giving it a name, e.g 'RunMyPythonScript'\n",
    "    - Double-click the saved Automator application to run it and test that your Python script runs successfully"
   ]
  },
  {
   "attachments": {},
   "cell_type": "markdown",
   "metadata": {},
   "source": [
    "2. Schedule to run the custom application created by 'Automator'\n",
    "    - Open 'Calendar \n",
    "    - Click '+' to create new event \n",
    "    - set start and end time \n",
    "    - Set 'Repeat' dropdown menu for frequency \n",
    "    - Set 'Alert' section to 'Custom'\n",
    "        - 'Open file' from the dropdown\n",
    "        - 'Choose' button to select the custom Automator application to run\n",
    "        - 'OK' to save"
   ]
  },
  {
   "attachments": {},
   "cell_type": "markdown",
   "metadata": {},
   "source": [
    "3. Very Important\n",
    "- Leave instace of VS Code & calendar app open before putting the computer to sleep\n",
    "- Be sure to give at least 10 minutes for the computer to fully wake up before running scripts"
   ]
  },
  {
   "attachments": {},
   "cell_type": "markdown",
   "metadata": {},
   "source": [
    "4. Troubleshooting\n",
    "- Automator needs access to files/folders in Desktop or some other area\n",
    "    - System Preferences -> Security & Privacy -> Privacy Tab -> Unlock to make changes -> Scroll down to 'Files and Folders' in left panel -> Uncheck  Automator Desktop Folder -> Apply and close out -> Start my the beginning again except this time Check the Automator Desktop Folder and apply.  This worked today, should work again."
   ]
  },
  {
   "attachments": {},
   "cell_type": "markdown",
   "metadata": {},
   "source": [
    "## Option 2 (Doesn't work well)"
   ]
  },
  {
   "attachments": {},
   "cell_type": "markdown",
   "metadata": {},
   "source": [
    "### launchctl\n",
    "- launchctl is the interface to launchd\n",
    "- launchd is a program (preferred over cron) on macOS to run scripts on a schedule\n",
    "\t- load, unload, and manage launch daemons and agents on macOS\n",
    "- config files have extension `.plist`\n",
    "- launchd further distinguishes between agents and daemons. \n",
    "\t- The difference between these types are drawn from where the .plist file is saved\n",
    "\t\t- `~/Library/LaunchAgents` runs on behalf of the logged-in user\n",
    "\t\t\t- To restrict a script to a specific user account, use an agent.\n",
    "\t\t- `/Library/LaunchDaemons` runs on behalf of the root users\n",
    "\t\t\t- To run no matter who is logged in, use a daemon."
   ]
  },
  {
   "attachments": {},
   "cell_type": "markdown",
   "metadata": {},
   "source": [
    "#### .plist (config file for launchctl)"
   ]
  },
  {
   "cell_type": "code",
   "execution_count": null,
   "metadata": {},
   "outputs": [
    {
     "ename": "",
     "evalue": "",
     "output_type": "error",
     "traceback": [
      "\u001b[1;31mRunning cells with '/usr/bin/python3' requires the ipykernel package.\n",
      "\u001b[1;31mRun the following command to install 'ipykernel' into the Python environment. \n",
      "\u001b[1;31mCommand: '/usr/bin/python3 -m pip install ipykernel -U --user --force-reinstall'"
     ]
    }
   ],
   "source": [
    "## plist example with useful keys\n",
    "\n",
    "# <?xml version=\"1.0\" encoding=\"UTF-8\"?>\n",
    "# <!DOCTYPE plist PUBLIC \"-//Apple//DTD PLIST 1.0//EN\" \"http://www.apple.com/DTDs/PropertyList-1.0.dtd\">\n",
    "# <plist version=\"1.0\">\n",
    "# \t<dict>\n",
    "# \t\t<key>Label</key>\n",
    "# \t\t<string>scraperBtmBrkFinviz</string>\n",
    "#     <!-- <key>RunAtLoad</key>\n",
    "#     <true/> -->\n",
    "#     <key>WorkingDirectory</key>\n",
    "#     <string>/Users/blinkeh/Desktop</string>\n",
    "# \t\t<key>ProgramArguments</key>\n",
    "#     <array>\n",
    "#     <string>/Library/Frameworks/Python.framework/Versions/3.8/bin/python3</string>\n",
    "# \t\t<string>scraper_btmbrk/app.py</string>\n",
    "#     </array>\n",
    "#     <key>StartCalendarInterval</key>\n",
    "#     <dict>\n",
    "#     <key>Hour</key>\n",
    "#     <integer>2</integer>\n",
    "#     <key>Minute</key>\n",
    "#     <integer>2</integer>\n",
    "#     </dict>\n",
    "#     <key>StandardOutPath</key>    # Log print statements\n",
    "#     <string>/Users/blinkeh/Desktop/scraper_btmbrk/launchctlstdpath.out</string>\n",
    "#     <key>StandardErrorPath</key>  # Log error messages\n",
    "#     <string>/Users/blinkeh/Desktop/scraper_btmbrk/launchctlstdpath.err</string>\n",
    "# \t\t<!-- <key>UserName</key>\n",
    "#     <string>blinkeh</string> -->\n",
    "# \t</dict>\n",
    "# </plist>"
   ]
  },
  {
   "attachments": {},
   "cell_type": "markdown",
   "metadata": {},
   "source": [
    "#### plutil\n",
    "- .plist file format validator"
   ]
  },
  {
   "cell_type": "code",
   "execution_count": null,
   "metadata": {},
   "outputs": [
    {
     "ename": "",
     "evalue": "",
     "output_type": "error",
     "traceback": [
      "\u001b[1;31mRunning cells with '/usr/bin/python3' requires the ipykernel package.\n",
      "\u001b[1;31mRun the following command to install 'ipykernel' into the Python environment. \n",
      "\u001b[1;31mCommand: '/usr/bin/python3 -m pip install ipykernel -U --user --force-reinstall'"
     ]
    }
   ],
   "source": [
    "# command line usage\n",
    "# plutil <pathto>.plist"
   ]
  },
  {
   "attachments": {},
   "cell_type": "markdown",
   "metadata": {},
   "source": [
    "#### Useful subcommands\n",
    "- sudo launchctl isn't a more powerful launchctl, it's just different type\n",
    "\n",
    "Command | Description\n",
    "--- | ---\n",
    "launchctl dumpstate \\| grep \\<nameofplistfilewithoutext\\>   | e.g. launchcht dumpstate | grep scraper\n",
    "launchctl list \\| grep scraper\n",
    "launchctl load \\<plistfilename\\>.plist | Load script to launchd queue\n",
    "launchctl unload \\<plistfilename\\>.plist | Remove script from launchd queue\n",
    "launchctl start \\<plistfilename\\> | Run the script immmediately no matter what\n",
    "launchctl enable system/\\<plistfilename\\>| Don't need this when using plist saved in `~/Library/LaunchAgents`\n",
    "launchctl disable system/\\<plistfilename\\>|Don't need this when using plist saved in `~/Library/LaunchAgents`\n",
    "id -u | Get user id"
   ]
  },
  {
   "attachments": {},
   "cell_type": "markdown",
   "metadata": {},
   "source": [
    "#### launchctl references\n",
    "- [stackoverflow](https://stackoverflow.com/questions/15990512/launchctl-minimal-working-example-with-python)\n",
    "- [brief explanation and commands](https://rakhesh.com/mac/macos-launchctl-commands/)\n",
    "- [brief article](https://www.maketecheasier.com/use-launchd-run-scripts-on-schedule-macos/)\n"
   ]
  },
  {
   "attachments": {},
   "cell_type": "markdown",
   "metadata": {},
   "source": [
    "#### How to use launchctl\n",
    "\n",
    "1. Write a xml config file with <somename>`.plist` extension\n",
    "2. Save .plist file in correct directory (agent or daemon)\n",
    "3. Load job into launchctl\n",
    "\t- `launchctl load <pathtofilename>.plist`"
   ]
  },
  {
   "attachments": {},
   "cell_type": "markdown",
   "metadata": {},
   "source": [
    "#### launchctl troubleshooting\n",
    "- LoadFailed 5: Input/Output error\n",
    "\t- Usually means plist is already loaded\n",
    "- If using sudo version, may need to change ownership of .plist file  \n",
    "\n",
    "\t```python\n",
    "\tsudo chown root /Library/LaunchDaemons/myfile.plist\n",
    "\tsudo chgrp wheel /Library/LaunchDaemons/myfile.plist\n",
    "\tand/or\n",
    "\tsudo chmod 600 /Library/LaunchDaemons/myfile.plist\n",
    "\t```"
   ]
  }
 ],
 "metadata": {
  "kernelspec": {
   "display_name": "Python 3.8.10 64-bit",
   "language": "python",
   "name": "python3"
  },
  "language_info": {
   "codemirror_mode": {
    "name": "ipython",
    "version": 3
   },
   "file_extension": ".py",
   "mimetype": "text/x-python",
   "name": "python",
   "nbconvert_exporter": "python",
   "pygments_lexer": "ipython3",
   "version": "3.10.6"
  },
  "orig_nbformat": 4,
  "vscode": {
   "interpreter": {
    "hash": "31f2aee4e71d21fbe5cf8b01ff0e069b9275f58929596ceb00d14d90e3e16cd6"
   }
  }
 },
 "nbformat": 4,
 "nbformat_minor": 2
}
