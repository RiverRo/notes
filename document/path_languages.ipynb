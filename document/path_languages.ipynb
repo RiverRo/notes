{
 "cells": [
  {
   "cell_type": "markdown",
   "metadata": {},
   "source": [
    "# Path Languages\n",
    "\n",
    "> [Main Table of Contents](../README.md)"
   ]
  },
  {
   "cell_type": "markdown",
   "metadata": {},
   "source": [
    "## In This Notebook\n",
    "> Generic mini languages to navigate structured text e.g xml, DOM, html\n",
    "\n",
    "- xpath vs css locators\n",
    "- xpath: xml path language\n",
    "- CSS locators"
   ]
  },
  {
   "attachments": {},
   "cell_type": "markdown",
   "metadata": {
    "vscode": {
     "languageId": "html"
    }
   },
   "source": [
    "\n",
    "```html\n",
    "# Example Structure\n",
    "<html>\n",
    "<head>\n",
    "\t<base href='http://example.com/' />\n",
    "\t<title>Example website</title>\n",
    "</head>\n",
    "<body>\n",
    "\t<div id='images'>\n",
    "\t\t<a href='image1.html'>Name: My image 1 <br /><img src='image1_thumb.jpg' alt='image1'/></a>\n",
    "\t\t<a href='image2.html'>Name: My image 2 <br /><img src='image2_thumb.jpg' alt='image2'/></a>\n",
    "\t\t<a href='image3.html'>Name: My image 3 <br /><img src='image3_thumb.jpg' alt='image3'/></a>\n",
    "\t\t<a href='image4.html'>Name: My image 4 <br /><img src='image4_thumb.jpg' alt='image4'/></a>\n",
    "\n",
    "\t</div>\n",
    "\t<div>\n",
    "\t\t<p class='p_styles class-1'>I am p1</p>\n",
    "\t\t<p id='p2'>\n",
    "\t\t\tI am p2\n",
    "\t\t\t<a href='image5.html'>Name: My image 5<br /><img src='image5_thumb.jpg' alt='image5'/></a>\n",
    "\t\t</p>\n",
    "\t</div>\n",
    "</body>\n",
    "</html> \n",
    "```"
   ]
  },
  {
   "cell_type": "markdown",
   "metadata": {},
   "source": [
    "## xpath vs css locators\n",
    "\n",
    "- xpath easier to locate specific child\n",
    "- xpath easier to locate all elements with attribute (not attribute value)\n",
    "- css easier to locate attribute with value\n",
    "\n",
    "\tDesc | xpath | css | example\n",
    "\t--- | --- | --- |  ---\n",
    "\tAll children of type elem | /elem | ><br>(except first char) | /html/body/div<br><br>html > body > div\n",
    "\tAll descendents of type elem | //elem | space<br>(except first char) | //div/span/p<br><br>div > span p\n",
    "\tSpecific child element | elem[#] |  elem:nth-of-type(#) | /html/body//div/p[2]<br><br>html > body div > p:nth-of-type(2)\n",
    "\tAll elements with attribute name | elem/@attr_name | elem::attr(attr_name) | a/@href<br><br>a::attr(href)\n",
    "\tAll element with attribute name/value | elem[@attr_name=\"attr_val\"] | elem#id_name<br>elem.class_name | //p[@id=\"p2\"]<br><br>p#p2\n",
    "\tAll text between tags of chilren |text() | ::text | //p[@id=\"p2\"]/text()<br><br>p#p2::text()  \n",
    "\tAll text between tags of all descendents |text() | ::text | //p[@id=\"p2\"]//text()<br><br>p#p2 ::text()  \n",
    "\n",
    "\n",
    "- Three different ways of selecting attribute values\n",
    "\n",
    "\t```python\n",
    "\t# Available Matches:\n",
    "\t# 1. <p class=\"class-1\">\n",
    "\t# 2. <p class=\"class-1 class-2\">\n",
    "\t# 3. <p class=\"class-12\"> \n",
    "\t```\n",
    "\n",
    "\tLanguage | Example | Matches\n",
    "\t--- | --- | ---\n",
    "\txpath | p[@class=\"class-1\"] | only 1\n",
    "\txpath | p[contains(@class, \"class-1\")] | all 3\n",
    "\tcss | p.class-1 | 1 and 2"
   ]
  },
  {
   "cell_type": "markdown",
   "metadata": {},
   "source": [
    "## Xpath\n",
    "\t\n",
    "- Notations\n",
    "\n",
    "\tNotation | Description\n",
    "\t--- | ---\n",
    "\t*| wild card to select _all_\n",
    "\t/elem | All children of type elem\n",
    "\t//elem | All descendants of type elem\n",
    "\t@attr_name | Select all Attributes\n",
    "\telem[#]] | Select specific child (not 0-indexed)\n",
    "\telem[fn_name()] | Use functions in selection\n",
    "\telem[@attr_name=\"attr_val\"] | Select by attribute/value\n",
    "\n",
    "\n",
    "- Functions\n",
    "\n",
    "\tFunction | Description\n",
    "\t--- | ---\n",
    "\tcontains(@attr_name, 'str') | Match attributes that contain string expression in any way\n",
    "\telem/text() | Select text in between tags"
   ]
  },
  {
   "cell_type": "code",
   "execution_count": 1,
   "metadata": {},
   "outputs": [],
   "source": [
    "# Select @href attribute of all anchor tags that are children of all parent paragraphs with id='p2'\n",
    "xpath = '//p[@id=\"p2\"]/a/@href'\n",
    "\n",
    "# Select second paragraph child\n",
    "xpath = '/html/body/div[2]/p[2]'"
   ]
  },
  {
   "cell_type": "markdown",
   "metadata": {},
   "source": [
    "## CSS Locators\n",
    "\n",
    "- Notations\n",
    "\n",
    "\tNotation | Description\n",
    "\t--- | ---\n",
    "\t*| wild card to select _all_\n",
    "\t\\> elem | All children of type elem\n",
    "\tspace elem | All descendants of type elem\n",
    "\t.class_name | Select all elems with class_name\n",
    "\t\\#id_name | Select all elems with id_name\n",
    "\t::text | Select text between tags\n",
    "\n",
    "- Functions\n",
    "\n",
    "\tFunction | Description\n",
    "\t--- | ---\n",
    "\telem:nth-of-type(#) | Select specific child\n",
    "\t::attr(attr_name) | Select all elements with attr_name"
   ]
  }
 ],
 "metadata": {
  "kernelspec": {
   "display_name": "Python 3.8.10 64-bit",
   "language": "python",
   "name": "python3"
  },
  "language_info": {
   "codemirror_mode": {
    "name": "ipython",
    "version": 3
   },
   "file_extension": ".py",
   "mimetype": "text/x-python",
   "name": "python",
   "nbconvert_exporter": "python",
   "pygments_lexer": "ipython3",
   "version": "3.8.10 (default, Nov 14 2022, 12:59:47) \n[GCC 9.4.0]"
  },
  "orig_nbformat": 4,
  "vscode": {
   "interpreter": {
    "hash": "916dbcbb3f70747c44a77c7bcd40155683ae19c65e1c03b4aa3499c5328201f1"
   }
  }
 },
 "nbformat": 4,
 "nbformat_minor": 2
}
