{
 "cells": [
  {
   "cell_type": "markdown",
   "metadata": {},
   "source": [
    "# Raspberry Pi 4\n",
    "> [Main Table of Contents](../README.md)"
   ]
  },
  {
   "attachments": {},
   "cell_type": "markdown",
   "metadata": {},
   "source": [
    "## In This Notebook\n",
    "> References: [Raspberry Pi Docs](https://www.raspberrypi.com/documentation/computers/remote-access.html#setting-up-an-ssh-server)  \n",
    "- Enable Raspberry Pi OS SSH\n",
    "- SSH headless entry into Raspberry Pi OS"
   ]
  },
  {
   "attachments": {},
   "cell_type": "markdown",
   "metadata": {},
   "source": [
    "## Enable Raspberry Pi OS SSH\n",
    "- Rasp Pi Menu dropdown -> Preferences -> Raspberry Pi Configuration -> Interfaces -> Toggle SSH"
   ]
  },
  {
   "attachments": {},
   "cell_type": "markdown",
   "metadata": {},
   "source": [
    "## SSH headless entry into Raspberry Pi OS using password (passwordless using keys is not setup)\n",
    "- Get Host IP.  Terminal on Raspberry Pi\n",
    "    ```\n",
    "    hostname -I\n",
    "    ```\n",
    "- Terminal on another device\n",
    "    - Username & password is that for Raspberry Pi and configured when first set up the Raspberry Pi OS\n",
    "        ```\n",
    "        ssh <username>@<host ip>\n",
    "        ```\n"
   ]
  }
 ],
 "metadata": {
  "language_info": {
   "name": "python"
  },
  "orig_nbformat": 4
 },
 "nbformat": 4,
 "nbformat_minor": 2
}
