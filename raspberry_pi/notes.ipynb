{
 "cells": [
  {
   "cell_type": "markdown",
   "metadata": {},
   "source": [
    "# Raspberry Pi 4\n",
    "> [Main Table of Contents](../README.md)"
   ]
  },
  {
   "attachments": {},
   "cell_type": "markdown",
   "metadata": {},
   "source": [
    "## In This Notebook\n",
    "> References: [Raspberry Pi Docs](https://www.raspberrypi.com/documentation/computers/remote-access.html#setting-up-an-ssh-server)  \n",
    "- Use `apt` as package manager\n",
    "    - Useful commands\n",
    "- Enable Raspberry Pi OS SSH\n",
    "- SSH headless entry into Raspberry Pi OS"
   ]
  },
  {
   "attachments": {},
   "cell_type": "markdown",
   "metadata": {},
   "source": [
    "## Use `apt` as package manager"
   ]
  },
  {
   "attachments": {},
   "cell_type": "markdown",
   "metadata": {},
   "source": [
    "Command | Description\n",
    "--- | ---\n",
    "`apt update`| Update all installed packages \n",
    "`dpkg --get-selections` | Get list of installed packages\n",
    "`apt list --installed` | Get *detailed* list of installed packages\n"
   ]
  },
  {
   "attachments": {},
   "cell_type": "markdown",
   "metadata": {},
   "source": [
    "## Enable Raspberry Pi OS SSH\n",
    "- Rasp Pi Menu dropdown -> Preferences -> Raspberry Pi Configuration -> Interfaces -> Toggle SSH"
   ]
  },
  {
   "attachments": {},
   "cell_type": "markdown",
   "metadata": {},
   "source": [
    "## SSH headless entry into Raspberry Pi OS using password (passwordless using keys is not setup)\n",
    "- Get Rasp Pi IP address\n",
    "    ```python\n",
    "    # From Rasp Pi terminal\n",
    "    hostname -I\n",
    "\n",
    "    # From another computer on same network\n",
    "    ping raspberrypi.local    # This is return rasp pi's ip address\n",
    "\n",
    "    ```\n",
    "- Terminal on another device\n",
    "    - Username & password is that for Raspberry Pi and configured when first set up the Raspberry Pi OS\n",
    "        ```\n",
    "        ssh <username>@<rasp pi ip>\n",
    "        ```\n"
   ]
  }
 ],
 "metadata": {
  "language_info": {
   "name": "python"
  },
  "orig_nbformat": 4
 },
 "nbformat": 4,
 "nbformat_minor": 2
}
