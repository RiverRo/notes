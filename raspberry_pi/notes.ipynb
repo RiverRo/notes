{
 "cells": [
  {
   "cell_type": "markdown",
   "metadata": {},
   "source": [
    "# Raspberry Pi 4\n",
    "> [Main Table of Contents](../README.md)"
   ]
  },
  {
   "attachments": {},
   "cell_type": "markdown",
   "metadata": {},
   "source": [
    "## In This Notebook\n",
    "> References: [Raspberry Pi Docs](https://www.raspberrypi.com/documentation/computers/remote-access.html#setting-up-an-ssh-server)  \n",
    "- Use `apt` as package manager\n",
    "    - Useful commands\n",
    "- Enable Raspberry Pi OS SSH\n",
    "- SSH headless entry into Raspberry Pi OS\n",
    "- SSH entry into Raspberry Pi OS WITHOUT password\n",
    "- Shutdown Pi remotely\n",
    "- Setup static ip address for Rpi\n",
    "- `scp` command to secure copy files from local -> remote and remote -> local using ssh tunnel"
   ]
  },
  {
   "attachments": {},
   "cell_type": "markdown",
   "metadata": {},
   "source": [
    "## Use `apt` as package manager"
   ]
  },
  {
   "attachments": {},
   "cell_type": "markdown",
   "metadata": {},
   "source": [
    "Command | Description\n",
    "--- | ---\n",
    "`sudo apt update`| Update all installed packages \n",
    "`sudo apt install <pck_name>` | Install packages\n",
    "`dpkg --get-selections` | Get list of installed packages\n",
    "`apt list --installed` | Get *detailed* list of installed packages\n"
   ]
  },
  {
   "attachments": {},
   "cell_type": "markdown",
   "metadata": {},
   "source": [
    "## Enable Raspberry Pi OS SSH\n",
    "- Rasp Pi Menu dropdown -> Preferences -> Raspberry Pi Configuration -> Interfaces -> Toggle SSH"
   ]
  },
  {
   "attachments": {},
   "cell_type": "markdown",
   "metadata": {},
   "source": [
    "## SSH headless entry into Raspberry Pi OS using password (passwordless using keys is not setup)\n",
    "- Get Rasp Pi IP address\n",
    "    ```python\n",
    "    # From Rasp Pi terminal\n",
    "    hostname -I\n",
    "\n",
    "    # From another computer on same network\n",
    "    ping raspberrypi.local    # This is return rasp pi's ip address\n",
    "\n",
    "    ```\n",
    "- Terminal on another device\n",
    "    - Username & password is that for Raspberry Pi and configured when first set up the Raspberry Pi OS\n",
    "        ```\n",
    "        ssh <username>@<rasp pi ip>\n",
    "        ```\n"
   ]
  },
  {
   "cell_type": "markdown",
   "metadata": {},
   "source": [
    "# SSH entry into Raspberry Pi OS WITHOUT password\n",
    "- See `SSH Keys - Password-less connection betwen local machine and remote computer` section in Unix->notes.md"
   ]
  },
  {
   "cell_type": "markdown",
   "metadata": {},
   "source": [
    "# Shutdown Pi Remotely\n",
    "- `sudo shutdown -h now`"
   ]
  },
  {
   "cell_type": "markdown",
   "metadata": {},
   "source": [
    "# Setup static ip address for Rpi\n",
    "- Make sure scripts are able to access Rpi after power outages and reboots without reconfiguration of Rpi ip address in those scripts (this isn't possible with DHCP)\n",
    "\n",
    "1. Access terminal in Rpi\n",
    "    - Directly or SSH into it\n",
    "2. Check if the desired ip address is already taken or not\n",
    "    - `ping ip_address`\n",
    "3. Get the router's ip address\n",
    "    - Windows\n",
    "        - `Win + R` -> `cmd` -> `ipconfig`\n",
    "    - Linux\n",
    "        - NOTE: Do NOT use this in WSL. Instead follow Windows instruction\n",
    "        - `ip route | grep default`\n",
    "4. Open Network Configuration File\n",
    "    - ```sudo nano /etc/dhcpcd.conf```  \n",
    "5. Add Static IP Configuration\n",
    "    - Scroll down to static portion\n",
    "        ```python\n",
    "        # Use \"eth0\" if Rpi uses wire connection to router \"wlan0\" for Wi-Fi\n",
    "        interface eth0  \n",
    "\n",
    "        # Desired static IP address\n",
    "        # The subnet mask is required. /24 subnet is common for most local networks\n",
    "        # Make sure the IP address you choose is within the range of your network and not already assigned to another device\n",
    "        # Note: The desired address cannot be the same one as the one its currently using\n",
    "        static ip_address=192.168.1.100/24    \n",
    "\n",
    "        # IP address of your router\n",
    "        static routers=192.168.1.1  \n",
    "\n",
    "        # DNS server (usually your router's IP)\n",
    "        static domain_name_servers=192.168.1.1  \n",
    "        ```\n",
    "6. Restart Networking service\n",
    "    - `sudo service dhcpcd restart`\n",
    "7. Reboot Rpi\n",
    "    - `sudo reboot`"
   ]
  },
  {
   "cell_type": "markdown",
   "metadata": {},
   "source": [
    "## `scp` command to secure copy files from local -> remote and remote -> local using ssh tunnel\n",
    "\n",
    "- secure copy file in local -> remote (PGBACKUPS dir)\n",
    "    ```\n",
    "    scp <filename>.txt <raspi_user>@<host>:/home/vimri/PGBACKUPS\n",
    "    e.g. scp test.txt vimri@10.0.0.152:/home/vimri/PGBACKUPS\n",
    "    ```\n",
    "- remote -> local (current dir)\n",
    "    ```\n",
    "    scp <raspi_user>@<host>:/home/vimri/PGBACKUPS/<filename>.txt .\n",
    "    e.g. scp vimri@10.0.0.152:/home/vimri/PGBACKUPS/text.txt .\n",
    "    ```"
   ]
  }
 ],
 "metadata": {
  "language_info": {
   "name": "python"
  },
  "orig_nbformat": 4
 },
 "nbformat": 4,
 "nbformat_minor": 2
}
